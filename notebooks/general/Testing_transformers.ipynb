{
 "cells": [
  {
   "cell_type": "code",
   "execution_count": 1,
   "outputs": [],
   "source": [
    "import torch\n",
    "import torch.nn as nn\n",
    "from torch_geometric.loader import DataLoader\n",
    "from networks import FractalNet, FractalNetShared, Net, GNN_no_rel, GNN\n",
    "from subgraph import Graph_to_Subgraph\n",
    "from train import train_model, get_qm9\n",
    "from train import train_model, get_qm9\n",
    "from subgraph import Subgraph\n",
    "from layers import MP"
   ],
   "metadata": {
    "collapsed": false
   }
  },
  {
   "cell_type": "code",
   "execution_count": 1,
   "outputs": [],
   "source": [
    "import torch\n",
    "import torch.nn as nn\n",
    "from torch_geometric.loader import DataLoader\n",
    "from networks import FractalNet, FractalNetShared, Net, GNN_no_rel, GNN\n",
    "from subgraph import Graph_to_Subgraph\n",
    "from train import train_model, get_qm9\n",
    "from train import train_model, get_qm9\n",
    "from subgraph import Subgraph\n",
    "from layers import MP"
   ],
   "metadata": {
    "collapsed": false
   }
  },
  {
   "cell_type": "code",
   "execution_count": 2,
   "outputs": [
    {
     "name": "stderr",
     "output_type": "stream",
     "text": [
      "Downloading https://data.pyg.org/datasets/qm9_v3.zip\n",
      "Extracting data/raw/qm9_v3.zip\n",
      "Processing...\n",
      "Using a pre-processed version of the dataset. Please install 'rdkit' to alternatively process the raw data.\n",
      "Done!\n",
      "/home/tin/Documents/GitHub/FractalMessagePassing/train.py:23: UserWarning: Using non-standard permutation since permute.pt does not exist.\n",
      "  warn(\"Using non-standard permutation since permute.pt does not exist.\")\n"
     ]
    }
   ],
   "source": [
    "# Load data\n",
    "dataset = get_qm9('./data')\n",
    "# get a sample data\n",
    "data = dataset[0]\n",
    "sample_data = data[0].to('cpu')"
   ],
   "metadata": {
    "collapsed": false
   }
  },
  {
   "cell_type": "code",
   "execution_count": 3,
   "outputs": [],
   "source": [
    "# find the smallest data and set it as sample_data\n",
    "for data_point in data:\n",
    "    if data_point.num_nodes < sample_data.num_nodes:\n",
    "        # stop if the number of num nodes is less than 5\n",
    "        if data_point.num_nodes < 5:\n",
    "            break\n",
    "        sample_data = data_point.to('cpu')"
   ],
   "metadata": {
    "collapsed": false
   }
  },
  {
   "cell_type": "code",
   "execution_count": 5,
   "outputs": [
    {
     "data": {
      "text/plain": "Data(x=[6, 11], edge_index=[2, 12], edge_attr=[12, 4], y=[1, 19], pos=[6, 3], idx=[1], name='gdb_174', z=[6])"
     },
     "execution_count": 5,
     "metadata": {},
     "output_type": "execute_result"
    }
   ],
   "source": [
    "sample_data"
   ],
   "metadata": {
    "collapsed": false
   }
  },
  {
   "cell_type": "code",
   "execution_count": 6,
   "outputs": [],
   "source": [
    "subgraph_example = Subgraph(sample_data, mode='transformer_3').convert_to_subgraph()"
   ],
   "metadata": {
    "collapsed": false
   }
  },
  {
   "cell_type": "code",
   "execution_count": 7,
   "outputs": [
    {
     "name": "stdout",
     "output_type": "stream",
     "text": [
      "Number of nodes:  torch.Size([24, 8])\n",
      "Number of edges:  torch.Size([2, 12])\n",
      "Subedge index torch.Size([2, 54])\n",
      "Maximum value in subedge index:  tensor(23)\n"
     ]
    }
   ],
   "source": [
    "# print all the statistics\n",
    "print('Number of nodes: ', subgraph_example.x.shape)\n",
    "print('Number of edges: ', subgraph_example.edge_index.shape)\n",
    "print('Subedge index', subgraph_example.subgraph_edge_index.shape)\n",
    "# print the maximum value in the subedge index\n",
    "print('Maximum value in subedge index: ', torch.max(subgraph_example.subgraph_edge_index))"
   ],
   "metadata": {
    "collapsed": false
   }
  },
  {
   "cell_type": "code",
   "execution_count": 8,
   "outputs": [
    {
     "name": "stdout",
     "output_type": "stream",
     "text": [
      "tensor([[ 6,  6,  6,  7,  7,  7,  8,  8,  8,  9,  9,  9, 10, 10, 10, 11, 11, 11,\n",
      "         12, 12, 12, 13, 13, 13, 14, 14, 14, 15, 15, 15, 16, 16, 16, 17, 17, 17,\n",
      "         18, 18, 18, 19, 19, 19, 20, 20, 20, 21, 21, 21, 22, 22, 22, 23, 23, 23],\n",
      "        [ 6,  7,  8,  6,  7,  8,  6,  7,  8,  9, 10, 11,  9, 10, 11,  9, 10, 11,\n",
      "         12, 13, 14, 12, 13, 14, 12, 13, 14, 15, 16, 17, 15, 16, 17, 15, 16, 17,\n",
      "         18, 19, 20, 18, 19, 20, 18, 19, 20, 21, 22, 23, 21, 22, 23, 21, 22, 23]])\n"
     ]
    }
   ],
   "source": [
    "# print the subgraph edge index\n",
    "print(subgraph_example.subgraph_edge_index)"
   ],
   "metadata": {
    "collapsed": false
   }
  }
 ],
 "metadata": {
  "kernelspec": {
   "display_name": "Python 3",
   "language": "python",
   "name": "python3"
  },
  "language_info": {
   "codemirror_mode": {
    "name": "ipython",
    "version": 2
   },
   "file_extension": ".py",
   "mimetype": "text/x-python",
   "name": "python",
   "nbconvert_exporter": "python",
   "pygments_lexer": "ipython2",
   "version": "2.7.6"
  }
 },
 "nbformat": 4,
 "nbformat_minor": 0
}
