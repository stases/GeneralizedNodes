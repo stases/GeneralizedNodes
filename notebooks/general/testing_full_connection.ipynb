{
 "cells": [
  {
   "cell_type": "code",
   "execution_count": 1,
   "outputs": [],
   "source": [
    "import sys\n",
    "sys.path.append('../')"
   ],
   "metadata": {
    "collapsed": false,
    "ExecuteTime": {
     "end_time": "2023-05-03T14:27:25.053567105Z",
     "start_time": "2023-05-03T14:27:25.052887Z"
    }
   }
  },
  {
   "cell_type": "code",
   "execution_count": 2,
   "metadata": {
    "collapsed": true,
    "ExecuteTime": {
     "end_time": "2023-05-03T14:27:26.491658645Z",
     "start_time": "2023-05-03T14:27:25.054080164Z"
    }
   },
   "outputs": [],
   "source": [
    "from utils import *\n",
    "from transforms import Fully_Connected_Graph, Graph_to_Subgraph\n",
    "from trainers.get_qm9 import get_qm9"
   ]
  },
  {
   "cell_type": "code",
   "execution_count": 3,
   "outputs": [
    {
     "data": {
      "text/plain": "tensor([[0, 0, 0, 0, 1, 1, 1, 2, 2, 3, 1, 2, 3, 4, 2, 3, 4, 3, 4, 4],\n        [1, 2, 3, 4, 2, 3, 4, 3, 4, 4, 0, 0, 0, 0, 1, 1, 1, 2, 2, 3]])"
     },
     "execution_count": 3,
     "metadata": {},
     "output_type": "execute_result"
    }
   ],
   "source": [
    "fully_connected_edge_index(5)"
   ],
   "metadata": {
    "collapsed": false,
    "ExecuteTime": {
     "end_time": "2023-05-03T14:01:45.407183731Z",
     "start_time": "2023-05-03T14:01:45.400895133Z"
    }
   }
  },
  {
   "cell_type": "code",
   "execution_count": 4,
   "outputs": [],
   "source": [
    "# make a small edge index\n",
    "edge_index = torch.tensor([[2,3,4,5],\n",
    "                           [6,2,3,3]], dtype=torch.long)"
   ],
   "metadata": {
    "collapsed": false,
    "ExecuteTime": {
     "end_time": "2023-05-03T14:01:45.444632548Z",
     "start_time": "2023-05-03T14:01:45.408231890Z"
    }
   }
  },
  {
   "cell_type": "code",
   "execution_count": 5,
   "outputs": [
    {
     "data": {
      "text/plain": "tensor([[2, 2, 2, 2, 3, 3, 3, 3, 4, 4, 4, 4, 5, 5, 5, 5, 6, 6, 6, 6],\n        [3, 4, 5, 6, 2, 4, 5, 6, 2, 3, 5, 6, 2, 3, 4, 6, 2, 3, 4, 5]])"
     },
     "execution_count": 5,
     "metadata": {},
     "output_type": "execute_result"
    }
   ],
   "source": [
    "fully_connect_existing_nodes(edge_index)"
   ],
   "metadata": {
    "collapsed": false,
    "ExecuteTime": {
     "end_time": "2023-05-03T14:01:45.486387845Z",
     "start_time": "2023-05-03T14:01:45.432465820Z"
    }
   }
  },
  {
   "cell_type": "code",
   "execution_count": 7,
   "outputs": [],
   "source": [
    "# get one data point\n",
    "data = get_qm9(data_dir=\"../data/\", transform=Fully_Connected_Graph())\n",
    "train_data = data[0]\n",
    "datapoint = train_data[0]\n",
    "datapoint.edge_index"
   ],
   "metadata": {
    "collapsed": false,
    "ExecuteTime": {
     "end_time": "2023-05-03T14:04:27.626341095Z",
     "start_time": "2023-05-03T14:04:27.104939697Z"
    }
   }
  },
  {
   "cell_type": "code",
   "execution_count": null,
   "outputs": [],
   "source": [
    "# See for subgraphs"
   ],
   "metadata": {
    "collapsed": false
   }
  },
  {
   "cell_type": "code",
   "execution_count": null,
   "outputs": [],
   "source": [],
   "metadata": {
    "collapsed": false
   }
  },
  {
   "cell_type": "code",
   "execution_count": 5,
   "outputs": [
    {
     "name": "stdout",
     "output_type": "stream",
     "text": [
      "tensor([[ 0,  0,  0,  0,  0,  0,  0,  0,  0,  0,  0,  0,  0,  0,  0,  0,  1,  1,\n",
      "          1,  1,  1,  1,  1,  1,  1,  1,  1,  1,  1,  1,  1,  1,  2,  2,  2,  2,\n",
      "          2,  2,  2,  2,  2,  2,  2,  2,  2,  2,  2,  2,  3,  3,  3,  3,  3,  3,\n",
      "          3,  3,  3,  3,  3,  3,  3,  3,  3,  3,  4,  4,  4,  4,  4,  4,  4,  4,\n",
      "          4,  4,  4,  4,  4,  4,  4,  4,  5,  5,  5,  5,  5,  5,  5,  5,  5,  5,\n",
      "          5,  5,  5,  5,  5,  5,  6,  6,  6,  6,  6,  6,  6,  6,  6,  6,  6,  6,\n",
      "          6,  6,  6,  6,  7,  7,  7,  7,  7,  7,  7,  7,  7,  7,  7,  7,  7,  7,\n",
      "          7,  7,  8,  8,  8,  8,  8,  8,  8,  8,  8,  8,  8,  8,  8,  8,  8,  8,\n",
      "          9,  9,  9,  9,  9,  9,  9,  9,  9,  9,  9,  9,  9,  9,  9,  9, 10, 10,\n",
      "         10, 10, 10, 10, 10, 10, 10, 10, 10, 10, 10, 10, 10, 10, 11, 11, 11, 11,\n",
      "         11, 11, 11, 11, 11, 11, 11, 11, 11, 11, 11, 11, 12, 12, 12, 12, 12, 12,\n",
      "         12, 12, 12, 12, 12, 12, 12, 12, 12, 12, 13, 13, 13, 13, 13, 13, 13, 13,\n",
      "         13, 13, 13, 13, 13, 13, 13, 13, 14, 14, 14, 14, 14, 14, 14, 14, 14, 14,\n",
      "         14, 14, 14, 14, 14, 14, 15, 15, 15, 15, 15, 15, 15, 15, 15, 15, 15, 15,\n",
      "         15, 15, 15, 15, 16, 16, 16, 16, 16, 16, 16, 16, 16, 16, 16, 16, 16, 16,\n",
      "         16, 16],\n",
      "        [ 1,  2,  3,  4,  5,  6,  7,  8,  9, 10, 11, 12, 13, 14, 15, 16,  0,  2,\n",
      "          3,  4,  5,  6,  7,  8,  9, 10, 11, 12, 13, 14, 15, 16,  0,  1,  3,  4,\n",
      "          5,  6,  7,  8,  9, 10, 11, 12, 13, 14, 15, 16,  0,  1,  2,  4,  5,  6,\n",
      "          7,  8,  9, 10, 11, 12, 13, 14, 15, 16,  0,  1,  2,  3,  5,  6,  7,  8,\n",
      "          9, 10, 11, 12, 13, 14, 15, 16,  0,  1,  2,  3,  4,  6,  7,  8,  9, 10,\n",
      "         11, 12, 13, 14, 15, 16,  0,  1,  2,  3,  4,  5,  7,  8,  9, 10, 11, 12,\n",
      "         13, 14, 15, 16,  0,  1,  2,  3,  4,  5,  6,  8,  9, 10, 11, 12, 13, 14,\n",
      "         15, 16,  0,  1,  2,  3,  4,  5,  6,  7,  9, 10, 11, 12, 13, 14, 15, 16,\n",
      "          0,  1,  2,  3,  4,  5,  6,  7,  8, 10, 11, 12, 13, 14, 15, 16,  0,  1,\n",
      "          2,  3,  4,  5,  6,  7,  8,  9, 11, 12, 13, 14, 15, 16,  0,  1,  2,  3,\n",
      "          4,  5,  6,  7,  8,  9, 10, 12, 13, 14, 15, 16,  0,  1,  2,  3,  4,  5,\n",
      "          6,  7,  8,  9, 10, 11, 13, 14, 15, 16,  0,  1,  2,  3,  4,  5,  6,  7,\n",
      "          8,  9, 10, 11, 12, 14, 15, 16,  0,  1,  2,  3,  4,  5,  6,  7,  8,  9,\n",
      "         10, 11, 12, 13, 15, 16,  0,  1,  2,  3,  4,  5,  6,  7,  8,  9, 10, 11,\n",
      "         12, 13, 14, 16,  0,  1,  2,  3,  4,  5,  6,  7,  8,  9, 10, 11, 12, 13,\n",
      "         14, 15]], device='cuda:0')\n",
      "tensor([[ 17,  17,  17,  ..., 305, 305, 305],\n",
      "        [ 18,  19,  20,  ..., 302, 303, 304]], device='cuda:0')\n"
     ]
    }
   ],
   "source": [
    "# get one data point\n",
    "data = get_qm9(data_dir=\"../data/\", transform=Graph_to_Subgraph(fully_connect=True))\n",
    "test_data = data[2]\n",
    "datapoint = test_data[0]\n",
    "print(datapoint.edge_index)\n",
    "print(datapoint.subgraph_edge_index)"
   ],
   "metadata": {
    "collapsed": false,
    "ExecuteTime": {
     "end_time": "2023-05-03T14:12:46.729017722Z",
     "start_time": "2023-05-03T14:12:46.197090221Z"
    }
   }
  },
  {
   "cell_type": "code",
   "execution_count": 19,
   "outputs": [
    {
     "name": "stdout",
     "output_type": "stream",
     "text": [
      "tensor([[0, 0, 1, 1, 1, 2, 2, 2, 3, 3, 4, 4, 4, 5, 5, 6, 7, 8],\n",
      "        [1, 6, 0, 2, 5, 1, 3, 7, 2, 4, 3, 5, 8, 1, 4, 0, 2, 4]],\n",
      "       device='cuda:0')\n",
      "tensor([[ 9,  9, 10, 10, 10, 11, 11, 11, 12, 12, 13, 13, 13, 14, 14, 15, 16, 17,\n",
      "         18, 18, 19, 19, 19, 20, 20, 20, 21, 21, 22, 22, 22, 23, 23, 24, 25, 26,\n",
      "         27, 27, 28, 28, 28, 29, 29, 29, 30, 30, 31, 31, 31, 32, 32, 33, 34, 35,\n",
      "         36, 36, 37, 37, 37, 38, 38, 38, 39, 39, 40, 40, 40, 41, 41, 42, 43, 44,\n",
      "         45, 45, 46, 46, 46, 47, 47, 47, 48, 48, 49, 49, 49, 50, 50, 51, 52, 53,\n",
      "         54, 54, 55, 55, 55, 56, 56, 56, 57, 57, 58, 58, 58, 59, 59, 60, 61, 62,\n",
      "         63, 63, 64, 64, 64, 65, 65, 65, 66, 66, 67, 67, 67, 68, 68, 69, 70, 71,\n",
      "         72, 72, 73, 73, 73, 74, 74, 74, 75, 75, 76, 76, 76, 77, 77, 78, 79, 80,\n",
      "         81, 81, 82, 82, 82, 83, 83, 83, 84, 84, 85, 85, 85, 86, 86, 87, 88, 89],\n",
      "        [10, 15,  9, 11, 14, 10, 12, 16, 11, 13, 12, 14, 17, 10, 13,  9, 11, 13,\n",
      "         19, 24, 18, 20, 23, 19, 21, 25, 20, 22, 21, 23, 26, 19, 22, 18, 20, 22,\n",
      "         28, 33, 27, 29, 32, 28, 30, 34, 29, 31, 30, 32, 35, 28, 31, 27, 29, 31,\n",
      "         37, 42, 36, 38, 41, 37, 39, 43, 38, 40, 39, 41, 44, 37, 40, 36, 38, 40,\n",
      "         46, 51, 45, 47, 50, 46, 48, 52, 47, 49, 48, 50, 53, 46, 49, 45, 47, 49,\n",
      "         55, 60, 54, 56, 59, 55, 57, 61, 56, 58, 57, 59, 62, 55, 58, 54, 56, 58,\n",
      "         64, 69, 63, 65, 68, 64, 66, 70, 65, 67, 66, 68, 71, 64, 67, 63, 65, 67,\n",
      "         73, 78, 72, 74, 77, 73, 75, 79, 74, 76, 75, 77, 80, 73, 76, 72, 74, 76,\n",
      "         82, 87, 81, 83, 86, 82, 84, 88, 83, 85, 84, 86, 89, 82, 85, 81, 83, 85]],\n",
      "       device='cuda:0')\n"
     ]
    }
   ],
   "source": [
    "# See for subgraphs without the transform\n",
    "# get one data point\n",
    "data = get_qm9(data_dir=\"../data/\", transform=Graph_to_Subgraph(fully_connect=False))\n",
    "test_data = data[0]\n",
    "datapoint = test_data[205]\n",
    "print(datapoint.edge_index)\n",
    "print(datapoint.subgraph_edge_index)"
   ],
   "metadata": {
    "collapsed": false,
    "ExecuteTime": {
     "end_time": "2023-05-03T14:16:13.878118214Z",
     "start_time": "2023-05-03T14:16:13.357602809Z"
    }
   }
  },
  {
   "cell_type": "code",
   "execution_count": 22,
   "outputs": [
    {
     "name": "stdout",
     "output_type": "stream",
     "text": [
      "17.81263\n",
      "19.9624\n",
      "18.161538092266333\n"
     ]
    }
   ],
   "source": [
    "# Go through train, valid and test dataloader and check the average molecule size.\n",
    "train, valid, test = get_qm9(data_dir=\"../data/\", transform=None)\n",
    "\n",
    "for dataset in [train, valid, test]:\n",
    "    avg_size = 0\n",
    "    for datapoint in dataset:\n",
    "        avg_size += datapoint.num_nodes\n",
    "    avg_size /= len(dataset)\n",
    "    print(avg_size)"
   ],
   "metadata": {
    "collapsed": false,
    "ExecuteTime": {
     "end_time": "2023-05-03T14:17:55.661809732Z",
     "start_time": "2023-05-03T14:17:39.016423443Z"
    }
   }
  },
  {
   "cell_type": "code",
   "execution_count": 5,
   "outputs": [
    {
     "name": "stderr",
     "output_type": "stream",
     "text": [
      "/home/tin/anaconda3/envs/AudioSeparation/lib/python3.10/site-packages/torch_geometric/data/in_memory_dataset.py:157: UserWarning: It is not recommended to directly access the internal storage format `data` of an 'InMemoryDataset'. If you are absolutely certain what you are doing, access the internal storage via `InMemoryDataset._data` instead to suppress this warning. Alternatively, you can access stacked individual attributes of every graph via `dataset.{attr_name}`.\n",
      "  warnings.warn(msg)\n"
     ]
    }
   ],
   "source": [
    "# Go through train dataset and give me a datapoint with 5 or less nodes\n",
    "train, valid, test = get_qm9(data_dir=\"../data/\", transform=None)\n",
    "for datapoint in train:\n",
    "    if 8 > datapoint.num_nodes > 5:\n",
    "        small_datapoint = datapoint\n",
    "        break"
   ],
   "metadata": {
    "collapsed": false,
    "ExecuteTime": {
     "end_time": "2023-05-03T14:27:28.468344080Z",
     "start_time": "2023-05-03T14:27:26.494855578Z"
    }
   }
  },
  {
   "cell_type": "code",
   "execution_count": 28,
   "outputs": [],
   "source": [
    "from torch_geometric.loader import DataLoader\n",
    "def get_datasets(data_dir, device, LABEL_INDEX, subgraph, batch_size, fully_connect=False):\n",
    "    if subgraph:\n",
    "        transform = Graph_to_Subgraph(fully_connect=fully_connect)\n",
    "        print(\"Using subgraph dataset.\\n\")\n",
    "        print(\"Using fully connected subgraph dataset: \", fully_connect)\n",
    "    elif fully_connect and not subgraph:\n",
    "        transform = Fully_Connected_Graph()\n",
    "        print(\"Using fully connected regular dataset.\\n\")\n",
    "    else:\n",
    "        transform = None\n",
    "        print(\"Using regular dataset.\\n\")\n",
    "\n",
    "    train, valid, test = get_qm9(data_dir, device=device, LABEL_INDEX=LABEL_INDEX, transform=transform)\n",
    "    train_loader = DataLoader(train, batch_size=batch_size, shuffle=True)\n",
    "    valid_loader = DataLoader(valid, batch_size=batch_size, shuffle=False)\n",
    "    test_loader = DataLoader(test, batch_size=batch_size, shuffle=False)\n",
    "    return train_loader, valid_loader, test_loader\n"
   ],
   "metadata": {
    "collapsed": false,
    "ExecuteTime": {
     "end_time": "2023-05-03T15:05:42.756522187Z",
     "start_time": "2023-05-03T15:05:42.750878740Z"
    }
   }
  },
  {
   "cell_type": "code",
   "execution_count": 29,
   "outputs": [
    {
     "name": "stdout",
     "output_type": "stream",
     "text": [
      "Using regular dataset.\n",
      "\n"
     ]
    }
   ],
   "source": [
    "train, valid, test = get_datasets(\"../data\", 'cpu', 7, False, 32, False)"
   ],
   "metadata": {
    "collapsed": false,
    "ExecuteTime": {
     "end_time": "2023-05-03T15:05:44.930547004Z",
     "start_time": "2023-05-03T15:05:44.567283687Z"
    }
   }
  },
  {
   "cell_type": "code",
   "execution_count": 32,
   "outputs": [
    {
     "data": {
      "text/plain": "tensor([[  0.0000,  13.2100, -10.5499,  ..., 157.7118, 157.7100, 157.7070],\n        [  1.6256,   9.4600,  -6.9933,  ..., 293.6097, 293.5411, 191.3940],\n        [  1.8511,   6.3100,  -7.9675,  ..., 799.5881, 437.9039, 282.9455],\n        ...,\n        [  1.2480,  73.6000,  -6.0763,  ...,   3.6712,   2.1431,   1.8950],\n        [  1.9576,  77.4000,  -5.7743,  ...,   3.5285,   2.1513,   1.8658],\n        [  0.8626,  69.4800,  -6.3022,  ...,   3.6402,   2.2176,   1.9379]])"
     },
     "execution_count": 32,
     "metadata": {},
     "output_type": "execute_result"
    }
   ],
   "source": [
    "train.dataset.data.y"
   ],
   "metadata": {
    "collapsed": false,
    "ExecuteTime": {
     "end_time": "2023-05-03T15:06:38.393810013Z",
     "start_time": "2023-05-03T15:06:38.379008598Z"
    }
   }
  },
  {
   "cell_type": "code",
   "execution_count": 4,
   "outputs": [
    {
     "data": {
      "text/plain": "tensor([[0, 0, 0, 0, 1, 1, 2, 2, 3, 4, 5, 6],\n        [1, 3, 4, 5, 0, 2, 1, 6, 0, 0, 0, 2]], device='cuda:0')"
     },
     "execution_count": 4,
     "metadata": {},
     "output_type": "execute_result"
    }
   ],
   "source": [
    "small_datapoint.edge_index"
   ],
   "metadata": {
    "collapsed": false,
    "ExecuteTime": {
     "end_time": "2023-05-03T14:27:28.022402176Z",
     "start_time": "2023-05-03T14:27:28.019129183Z"
    }
   }
  },
  {
   "cell_type": "code",
   "execution_count": 9,
   "outputs": [
    {
     "name": "stdout",
     "output_type": "stream",
     "text": [
      "tensor([[0, 0, 0, 0, 1, 1, 2, 3, 4, 5],\n",
      "        [1, 2, 3, 4, 0, 5, 0, 0, 0, 1]], device='cuda:0')\n",
      "tensor([[0, 0, 0, 0, 0, 1, 1, 1, 1, 1, 2, 2, 2, 2, 2, 3, 3, 3, 3, 3, 4, 4, 4, 4,\n",
      "         4, 5, 5, 5, 5, 5],\n",
      "        [1, 2, 3, 4, 5, 0, 2, 3, 4, 5, 0, 1, 3, 4, 5, 0, 1, 2, 4, 5, 0, 1, 2, 3,\n",
      "         5, 0, 1, 2, 3, 4]], device='cuda:0')\n",
      "\n",
      "\n",
      "tensor([[ 6,  6,  6,  6,  7,  7,  8,  9, 10, 11, 12, 12, 12, 12, 13],\n",
      "        [ 7,  8,  9, 10,  6, 11,  6,  6,  6,  7, 13, 14, 15, 16, 12]],\n",
      "       device='cuda:0')\n",
      "tensor([[ 6,  6,  6,  6,  6,  7,  7,  7,  7,  7,  8,  8,  8,  8,  8,  9,  9,  9,\n",
      "          9,  9, 10, 10, 10, 10, 10, 11, 11, 11, 11, 11, 12, 12, 12, 12, 12, 13,\n",
      "         13, 13, 13, 13],\n",
      "        [ 7,  8,  9, 10, 11,  6,  8,  9, 10, 11,  6,  7,  9, 10, 11,  6,  7,  8,\n",
      "         10, 11,  6,  7,  8,  9, 11,  6,  7,  8,  9, 10, 13, 14, 15, 16, 17, 12,\n",
      "         14, 15, 16, 17]], device='cuda:0')\n"
     ]
    }
   ],
   "source": [
    "transform_1 = Graph_to_Subgraph(fully_connect=False)\n",
    "transform_2 = Graph_to_Subgraph(fully_connect=True)\n",
    "\n",
    "# clone the small datapoint\n",
    "small_datapoint_1 = small_datapoint.clone()\n",
    "small_datapoint_2 = small_datapoint.clone()\n",
    "\n",
    "small_datapoint_1 = transform_1(small_datapoint)\n",
    "small_datapoint_2 = transform_2(small_datapoint)\n",
    "\n",
    "print(small_datapoint_1.edge_index)\n",
    "print(small_datapoint_2.edge_index)\n",
    "\n",
    "print('\\n')\n",
    "print(small_datapoint_1.subgraph_edge_index[:, :15])\n",
    "print(small_datapoint_2.subgraph_edge_index[:, :40])"
   ],
   "metadata": {
    "collapsed": false,
    "ExecuteTime": {
     "end_time": "2023-05-03T14:28:50.684116882Z",
     "start_time": "2023-05-03T14:28:50.670423334Z"
    }
   }
  }
 ],
 "metadata": {
  "kernelspec": {
   "display_name": "Python 3",
   "language": "python",
   "name": "python3"
  },
  "language_info": {
   "codemirror_mode": {
    "name": "ipython",
    "version": 2
   },
   "file_extension": ".py",
   "mimetype": "text/x-python",
   "name": "python",
   "nbconvert_exporter": "python",
   "pygments_lexer": "ipython2",
   "version": "2.7.6"
  }
 },
 "nbformat": 4,
 "nbformat_minor": 0
}
