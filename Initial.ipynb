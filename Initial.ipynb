{
 "cells": [
  {
   "cell_type": "code",
   "execution_count": 2,
   "metadata": {
    "collapsed": true,
    "pycharm": {
     "name": "#%%\n"
    }
   },
   "outputs": [],
   "source": [
    "import torch\n",
    "import torch.nn.functional as F\n",
    "import torch.nn as nn\n",
    "import torch_geometric as tg"
   ]
  },
  {
   "cell_type": "code",
   "execution_count": 10,
   "outputs": [],
   "source": [
    "# import QM9 dataset\n",
    "from torch_geometric.datasets import QM9"
   ],
   "metadata": {
    "collapsed": false,
    "pycharm": {
     "name": "#%%\n"
    }
   }
  },
  {
   "cell_type": "code",
   "execution_count": 28,
   "outputs": [],
   "source": [
    "# load some data from QM9\n",
    "data = QM9('~/data/QM9') # this will download the dataset if it is not already present\n",
    "sample_data = data[0]"
   ],
   "metadata": {
    "collapsed": false,
    "pycharm": {
     "name": "#%%\n"
    }
   }
  },
  {
   "cell_type": "code",
   "execution_count": 111,
   "outputs": [],
   "source": [
    "class Subgraph:\n",
    "    def __init__(self, graph, depth=1):\n",
    "        self.num_nodes = graph.x.shape[0]\n",
    "        self.subgraph = graph.clone()\n",
    "\n",
    "    def convert_to_subgraph(self):\n",
    "        self.add_subnode_features()\n",
    "        self.add_node_flags()\n",
    "        self.add_subnode_edges()\n",
    "        self.add_node_subnode_edges()\n",
    "        self.add_subgraph_batch_index()\n",
    "        return self.subgraph\n",
    "\n",
    "    def add_subnode_features(self):\n",
    "        self.subgraph.x = self.subgraph.x.repeat(self.num_nodes+1,1)\n",
    "        self.total_num_nodes = self.subgraph.x.shape[0]\n",
    "\n",
    "    def add_node_flags(self):\n",
    "        if hasattr(self.subgraph, 'x'):\n",
    "            self.subgraph.ground_node = torch.arange(self.subgraph.x.shape[0]) < self.num_nodes\n",
    "        else:\n",
    "            print('No node features found. Please add node features first.')\n",
    "\n",
    "    def add_subnode_edges(self):\n",
    "        self.subgraph.subgraph_edge_index = self.subgraph.edge_index + self.num_nodes\n",
    "        for subg in range(self.num_nodes):\n",
    "            self.subgraph.subgraph_edge_index = torch.cat([self.subgraph.subgraph_edge_index, self.subgraph.edge_index + (subg+1)*self.num_nodes], dim=1)\n",
    "\n",
    "    def add_node_subnode_edges(self):\n",
    "        self.subgraph.node_subnode_index = torch.stack([torch.arange(self.num_nodes).repeat_interleave(self.num_nodes), torch.arange(self.num_nodes, self.total_num_nodes)], dim=0)\n",
    "\n",
    "    def add_subgraph_batch_index(self):\n",
    "        self.subgraph.subgraph_batch_index = torch.arange(self.num_nodes).repeat_interleave(self.num_nodes)"
   ],
   "metadata": {
    "collapsed": false,
    "pycharm": {
     "name": "#%%\n"
    }
   }
  },
  {
   "cell_type": "code",
   "execution_count": 114,
   "outputs": [],
   "source": [
    "class FractalMP(tg.nn.MessagePassing):\n",
    "    \"\"\"Message Passing Neural Network Layer\"\"\"\n",
    "    def __init__(\n",
    "        self,\n",
    "        node_features,\n",
    "        edge_features,\n",
    "        hidden_features,\n",
    "        out_features,\n",
    "        aggr=\"add\",\n",
    "        act=nn.ReLU,\n",
    "        edge_inference=False,\n",
    "    ):\n",
    "        super().__init__(aggr=aggr)\n",
    "        self.edge_inference = edge_inference\n",
    "        self.message_net = nn.Sequential(\n",
    "            nn.Linear(2 * node_features + edge_features, hidden_features),\n",
    "            act(),\n",
    "            nn.Linear(hidden_features, hidden_features),\n",
    "            act(),\n",
    "        )\n",
    "\n",
    "        self.update_net = nn.Sequential(\n",
    "            nn.Linear(node_features + hidden_features, hidden_features),\n",
    "            act(),\n",
    "            nn.Linear(hidden_features, out_features),\n",
    "        )\n",
    "\n",
    "        if edge_inference:\n",
    "            self.edge_inferrer = nn.Sequential(\n",
    "                nn.Linear(hidden_features, 1), nn.Sigmoid()\n",
    "            )\n",
    "\n",
    "    def forward(self, x, edge_index, subgraph_edge_index, node_subnode_index, ground_node, subgraph_batch_index, edge_attr=None):\n",
    "        \"\"\"Propagate\"\"\"\n",
    "        x = self.embedding(x)\n",
    "        x = self.propagate(edge_index, x=x, edge_attr=edge_attr)\n",
    "        x = self.propagate(node_subnode_index, x=x, edge_attr=edge_attr)\n",
    "        x = self.propagate(subgraph_edge_index, x=x, edge_attr=edge_attr)\n",
    "        # global pool over nodes whose ground node is false\n",
    "        x[ground_node] = tg.nn.global_mean_pool(x[~ground_node], subgraph_batch_index)\n",
    "        return x\n",
    "\n",
    "    def message(self, x_i, x_j, edge_attr):\n",
    "        \"\"\"Send message with edge attributes\"\"\"\n",
    "        input = [x_i, x_j, edge_attr]\n",
    "        input = [val for val in input if val is not None]\n",
    "        input = torch.cat(input, dim=-1)\n",
    "        message = self.message_net(input)\n",
    "\n",
    "        if self.edge_inference:\n",
    "            message = message * self.edge_inferrer(message)\n",
    "        return message\n",
    "\n",
    "    def update(self, message, x):\n",
    "        \"\"\"Update node\"\"\"\n",
    "        input = torch.cat((x, message), dim=-1)\n",
    "        update = self.update_net(input)\n",
    "        return update"
   ],
   "metadata": {
    "collapsed": false,
    "pycharm": {
     "name": "#%%\n"
    }
   }
  },
  {
   "cell_type": "code",
   "execution_count": null,
   "outputs": [],
   "source": [
    "class FractalNet(nn.Module):\n",
    "    def __init__(self, node_features, edge_features, hidden_features, out_features, depth=1):\n",
    "        super().__init__()\n",
    "        self.depth = depth\n",
    "        self.embedding = nn.Linear(node_features, hidden_features)\n",
    "        self.fractal_mps = nn.ModuleList()\n",
    "        for i in range(depth):\n",
    "            self.fractal_mps.append(FractalMP(hidden_features, edge_features, hidden_features, hidden_features))\n",
    "        self.output = nn.Linear(hidden_features, out_features)\n",
    "\n",
    "    def forward(self, x, edge_index, subgraph_edge_index, node_subnode_index, ground_node, subgraph_batch_index, edge_attr=None):\n",
    "        x = self.embedding(x)\n",
    "        for i in range(self.depth):\n",
    "            x = self.fractal_mps[i](x, edge_index, subgraph_edge_index, node_subnode_index, ground_node, subgraph_batch_index, edge_attr)\n",
    "        x = self.output(x)\n",
    "        # global pooling over nodes whose ground node is true\n",
    "        x = tg.nn.global_mean_pool(x[ground_node], subgraph_batch_index)\n",
    "        return x"
   ],
   "metadata": {
    "collapsed": false,
    "pycharm": {
     "name": "#%%\n"
    }
   }
  },
  {
   "cell_type": "code",
   "execution_count": 115,
   "outputs": [],
   "source": [
    "sample_graph = Subgraph(sample_data).convert_to_subgraph()\n",
    "node_features = sample_graph.x.shape[1]\n",
    "edge_features = 0\n",
    "hidden_features = 64\n",
    "out_features = 64\n",
    "layer = FractalMP(node_features, edge_features, hidden_features, out_features)\n",
    "out = layer(sample_graph.x, sample_graph.edge_index, sample_graph.subgraph_edge_index, sample_graph.node_subnode_index, sample_graph.ground_node, sample_graph.subgraph_batch_index)"
   ],
   "metadata": {
    "collapsed": false,
    "pycharm": {
     "name": "#%%\n"
    }
   }
  },
  {
   "cell_type": "code",
   "execution_count": 117,
   "outputs": [
    {
     "data": {
      "text/plain": "tensor([-0.0263,  0.0020, -0.0888,  0.0458,  0.0152, -0.0808,  0.0896, -0.1155,\n        -0.0826, -0.0725, -0.0338, -0.0385,  0.1004, -0.0594,  0.1465,  0.0600,\n        -0.1349, -0.0576,  0.1031, -0.0441, -0.0286, -0.0843,  0.0871,  0.0326,\n        -0.1241, -0.1079,  0.1021,  0.0963, -0.1220,  0.0195, -0.0154, -0.0978,\n        -0.0361,  0.1233,  0.1183,  0.1136, -0.1251, -0.0688,  0.0894,  0.0901,\n        -0.0143,  0.0708,  0.0143, -0.1047, -0.0889,  0.0551,  0.0380,  0.0014,\n         0.0119, -0.0628,  0.0366, -0.0665, -0.0357,  0.0654,  0.0114,  0.0592,\n        -0.0043,  0.1494,  0.0709,  0.0020,  0.1297,  0.0260,  0.0497,  0.1348],\n       grad_fn=<SelectBackward0>)"
     },
     "execution_count": 117,
     "metadata": {},
     "output_type": "execute_result"
    }
   ],
   "source": [
    "out[10]"
   ],
   "metadata": {
    "collapsed": false,
    "pycharm": {
     "name": "#%%\n"
    }
   }
  },
  {
   "cell_type": "code",
   "execution_count": null,
   "outputs": [],
   "source": [
    "# MISC\n",
    "def graph_to_subgraph(graph, depth=1):\n",
    "    num_nodes = graph.x.shape[0]\n",
    "    subgraph = graph.clone()\n",
    "    subgraph.x = subgraph.x.repeat(num_nodes+1,1) # Initialize subnodes by concatenation\n",
    "    total_num_nodes = subgraph.x.shape[0]\n",
    "    ground_node = torch.arange(subgraph.x.shape[0]) < num_nodes # Mask for whether the node is a subnode or not\n",
    "    subgraph.ground_node = ground_node # Add to the Data object\n",
    "    # Create subgraph edge index which is same as edge index but for every subgraph\n",
    "    subgraph.subgraph_edge_index = subgraph.edge_index + num_nodes\n",
    "    for subg in range(num_nodes):\n",
    "        subgraph.subgraph_edge_index = torch.cat([subgraph.subgraph_edge_index, subgraph.edge_index + (subg+1)*num_nodes], dim=1)\n",
    "    # Create edge index for directed edges between ground node and it's subnodes\n",
    "    subgraph.interaction_index = torch.stack([torch.arange(num_nodes).repeat_interleave(num_nodes), torch.arange(num_nodes, total_num_nodes)], dim=0)"
   ],
   "metadata": {
    "collapsed": false,
    "pycharm": {
     "name": "#%%\n"
    }
   }
  }
 ],
 "metadata": {
  "kernelspec": {
   "display_name": "Python 3",
   "language": "python",
   "name": "python3"
  },
  "language_info": {
   "codemirror_mode": {
    "name": "ipython",
    "version": 2
   },
   "file_extension": ".py",
   "mimetype": "text/x-python",
   "name": "python",
   "nbconvert_exporter": "python",
   "pygments_lexer": "ipython2",
   "version": "2.7.6"
  }
 },
 "nbformat": 4,
 "nbformat_minor": 0
}