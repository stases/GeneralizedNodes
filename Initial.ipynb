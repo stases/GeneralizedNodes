{
 "cells": [
  {
   "cell_type": "code",
   "execution_count": 4,
   "outputs": [],
   "source": [
    "import torch\n",
    "import torch.nn as nn\n",
    "from torch_geometric.loader import DataLoader\n",
    "from networks import FractalNet, FractalNetShared, Net, GNN_no_rel, GNN, TransformerNet\n",
    "from subgraph import Graph_to_Subgraph\n",
    "from train import train_model, get_qm9"
   ],
   "metadata": {
    "collapsed": false,
    "pycharm": {
     "name": "#%%\n"
    }
   }
  },
  {
   "cell_type": "code",
   "execution_count": 5,
   "outputs": [],
   "source": [
    "# GLOBAL VARIABLES FOR THE EXPERIMENT\n",
    "device = torch.device('cuda' if torch.cuda.is_available() else 'cpu')\n",
    "epochs = 55\n",
    "batch_size = 32\n",
    "node_features = 5\n",
    "# data related (x and y)\n",
    "Z_ONE_HOT_DIM = 5\n",
    "LABEL_INDEX = 7\n",
    "EDGE_ATTR_DIM = 4\n",
    "edge_features = 0\n",
    "hidden_features = 64\n",
    "out_features = 1"
   ],
   "metadata": {
    "collapsed": false,
    "pycharm": {
     "name": "#%%\n"
    }
   }
  },
  {
   "cell_type": "markdown",
   "source": [
    "# TRAINING SHARED PARAMETERS FRACTAL NET"
   ],
   "metadata": {
    "collapsed": false,
    "pycharm": {
     "name": "#%% md\n"
    }
   }
  },
  {
   "cell_type": "code",
   "execution_count": 3,
   "outputs": [
    {
     "name": "stderr",
     "output_type": "stream",
     "text": [
      "/home/tin/Documents/GitHub/FractalMessagePassing/train.py:23: UserWarning: Using non-standard permutation since permute.pt does not exist.\n",
      "  warn(\"Using non-standard permutation since permute.pt does not exist.\")\n"
     ]
    }
   ],
   "source": [
    "model_name = 'FractalNetShared'\n",
    "model = FractalNetShared(node_features,\n",
    "                           edge_features,\n",
    "                           hidden_features,\n",
    "                           out_features,\n",
    "                           depth=1,\n",
    "                           pool='add').to(device)\n",
    "optimizer = torch.optim.Adam(model.parameters(), lr=0.001)\n",
    "criterion = torch.nn.MSELoss()\n",
    "scheduler = torch.optim.lr_scheduler.ReduceLROnPlateau(optimizer, mode='min', factor=0.7, patience=3, verbose=True)\n",
    "train, valid, test = get_qm9(\"data/qm9\",\n",
    "                             device=device,\n",
    "                             LABEL_INDEX = LABEL_INDEX,\n",
    "                             transform=Graph_to_Subgraph())\n",
    "train_loader = DataLoader(train, batch_size=batch_size, shuffle=True)\n",
    "valid_loader = DataLoader(valid, batch_size=32, shuffle=False)\n",
    "test_loader = DataLoader(test, batch_size=32, shuffle=False)"
   ],
   "metadata": {
    "collapsed": false,
    "pycharm": {
     "name": "#%%\n"
    }
   }
  },
  {
   "cell_type": "code",
   "execution_count": 10,
   "outputs": [
    {
     "name": "stdout",
     "output_type": "stream",
     "text": [
      "Total number of parameters: 25281\n"
     ]
    },
    {
     "data": {
      "text/plain": "  0%|          | 0/25 [00:00<?, ?it/s]",
      "application/vnd.jupyter.widget-view+json": {
       "version_major": 2,
       "version_minor": 0,
       "model_id": "6995388640f4451583f95877b8089ad3"
      }
     },
     "metadata": {},
     "output_type": "display_data"
    },
    {
     "data": {
      "text/plain": "  0%|          | 0/3125 [00:00<?, ?it/s]",
      "application/vnd.jupyter.widget-view+json": {
       "version_major": 2,
       "version_minor": 0,
       "model_id": "e81636b7402544a28780366094b672cc"
      }
     },
     "metadata": {},
     "output_type": "display_data"
    },
    {
     "ename": "ValueError",
     "evalue": "Model name not recognized",
     "output_type": "error",
     "traceback": [
      "\u001B[0;31m---------------------------------------------------------------------------\u001B[0m",
      "\u001B[0;31mValueError\u001B[0m                                Traceback (most recent call last)",
      "\u001B[0;32m<ipython-input-10-7cc9311c4f13>\u001B[0m in \u001B[0;36m<module>\u001B[0;34m\u001B[0m\n\u001B[0;32m----> 1\u001B[0;31m \u001B[0mfractalnetshared_results\u001B[0m \u001B[0;34m=\u001B[0m \u001B[0mtrain_model\u001B[0m\u001B[0;34m(\u001B[0m\u001B[0mmodel\u001B[0m\u001B[0;34m,\u001B[0m \u001B[0mmodel_name\u001B[0m\u001B[0;34m,\u001B[0m \u001B[0mepochs\u001B[0m\u001B[0;34m,\u001B[0m \u001B[0mtrain_loader\u001B[0m\u001B[0;34m,\u001B[0m \u001B[0mvalid_loader\u001B[0m\u001B[0;34m,\u001B[0m \u001B[0mtest_loader\u001B[0m\u001B[0;34m,\u001B[0m \u001B[0moptimizer\u001B[0m\u001B[0;34m,\u001B[0m \u001B[0mcriterion\u001B[0m\u001B[0;34m,\u001B[0m \u001B[0mscheduler\u001B[0m\u001B[0;34m,\u001B[0m \u001B[0mdevice\u001B[0m\u001B[0;34m,\u001B[0m \u001B[0mLABEL_INDEX\u001B[0m\u001B[0;34m,\u001B[0m \u001B[0mZ_ONE_HOT_DIM\u001B[0m\u001B[0;34m)\u001B[0m\u001B[0;34m\u001B[0m\u001B[0;34m\u001B[0m\u001B[0m\n\u001B[0m",
      "\u001B[0;32m~/Documents/GitHub/FractalMessagePassing/train.py\u001B[0m in \u001B[0;36mtrain_model\u001B[0;34m(model, model_name, epochs, train_loader, valid_loader, test_loader, optimizer, criterion, scheduler, device, LABEL_INDEX, Z_ONE_HOT_DIM, **kwargs)\u001B[0m\n\u001B[1;32m    104\u001B[0m                 \u001B[0;31m# keep only ground nodes in the data.batch\u001B[0m\u001B[0;34m\u001B[0m\u001B[0;34m\u001B[0m\u001B[0;34m\u001B[0m\u001B[0m\n\u001B[1;32m    105\u001B[0m                 \u001B[0;31m# check if there is ground_node in data.batch\u001B[0m\u001B[0;34m\u001B[0m\u001B[0;34m\u001B[0m\u001B[0;34m\u001B[0m\u001B[0m\n\u001B[0;32m--> 106\u001B[0;31m                 \u001B[0mout\u001B[0m \u001B[0;34m=\u001B[0m \u001B[0mget_forward_function\u001B[0m\u001B[0;34m(\u001B[0m\u001B[0mmodel\u001B[0m\u001B[0;34m,\u001B[0m \u001B[0mmodel_name\u001B[0m\u001B[0;34m,\u001B[0m \u001B[0mdata\u001B[0m\u001B[0;34m,\u001B[0m \u001B[0mZ_ONE_HOT_DIM\u001B[0m\u001B[0;34m)\u001B[0m\u001B[0;34m\u001B[0m\u001B[0;34m\u001B[0m\u001B[0m\n\u001B[0m\u001B[1;32m    107\u001B[0m                 \u001B[0mloss\u001B[0m \u001B[0;34m=\u001B[0m \u001B[0mcriterion\u001B[0m\u001B[0;34m(\u001B[0m\u001B[0mout\u001B[0m\u001B[0;34m.\u001B[0m\u001B[0msqueeze\u001B[0m\u001B[0;34m(\u001B[0m\u001B[0;34m)\u001B[0m\u001B[0;34m,\u001B[0m \u001B[0mtarget\u001B[0m\u001B[0;34m)\u001B[0m\u001B[0;34m\u001B[0m\u001B[0;34m\u001B[0m\u001B[0m\n\u001B[1;32m    108\u001B[0m                 \u001B[0mloss\u001B[0m\u001B[0;34m.\u001B[0m\u001B[0mbackward\u001B[0m\u001B[0;34m(\u001B[0m\u001B[0;34m)\u001B[0m\u001B[0;34m\u001B[0m\u001B[0;34m\u001B[0m\u001B[0m\n",
      "\u001B[0;32m~/Documents/GitHub/FractalMessagePassing/train.py\u001B[0m in \u001B[0;36mget_forward_function\u001B[0;34m(model, model_name, data, Z_ONE_HOT_DIM)\u001B[0m\n\u001B[1;32m     76\u001B[0m         \u001B[0;32mreturn\u001B[0m \u001B[0mout\u001B[0m\u001B[0;34m\u001B[0m\u001B[0;34m\u001B[0m\u001B[0m\n\u001B[1;32m     77\u001B[0m     \u001B[0;32melse\u001B[0m\u001B[0;34m:\u001B[0m\u001B[0;34m\u001B[0m\u001B[0;34m\u001B[0m\u001B[0m\n\u001B[0;32m---> 78\u001B[0;31m         \u001B[0;32mraise\u001B[0m \u001B[0mValueError\u001B[0m\u001B[0;34m(\u001B[0m\u001B[0;34m\"Model name not recognized\"\u001B[0m\u001B[0;34m)\u001B[0m\u001B[0;34m\u001B[0m\u001B[0;34m\u001B[0m\u001B[0m\n\u001B[0m\u001B[1;32m     79\u001B[0m \u001B[0;34m\u001B[0m\u001B[0m\n\u001B[1;32m     80\u001B[0m \u001B[0;32mdef\u001B[0m \u001B[0mtrain_model\u001B[0m\u001B[0;34m(\u001B[0m\u001B[0mmodel\u001B[0m\u001B[0;34m,\u001B[0m \u001B[0mmodel_name\u001B[0m\u001B[0;34m,\u001B[0m \u001B[0mepochs\u001B[0m\u001B[0;34m,\u001B[0m \u001B[0mtrain_loader\u001B[0m\u001B[0;34m,\u001B[0m \u001B[0mvalid_loader\u001B[0m\u001B[0;34m,\u001B[0m \u001B[0mtest_loader\u001B[0m\u001B[0;34m,\u001B[0m \u001B[0moptimizer\u001B[0m\u001B[0;34m,\u001B[0m \u001B[0mcriterion\u001B[0m\u001B[0;34m,\u001B[0m \u001B[0mscheduler\u001B[0m\u001B[0;34m,\u001B[0m \u001B[0mdevice\u001B[0m\u001B[0;34m,\u001B[0m \u001B[0mLABEL_INDEX\u001B[0m \u001B[0;34m=\u001B[0m \u001B[0;36m7\u001B[0m\u001B[0;34m,\u001B[0m \u001B[0mZ_ONE_HOT_DIM\u001B[0m \u001B[0;34m=\u001B[0m \u001B[0;36m5\u001B[0m\u001B[0;34m,\u001B[0m \u001B[0;34m**\u001B[0m\u001B[0mkwargs\u001B[0m\u001B[0;34m)\u001B[0m\u001B[0;34m:\u001B[0m\u001B[0;34m\u001B[0m\u001B[0;34m\u001B[0m\u001B[0m\n",
      "\u001B[0;31mValueError\u001B[0m: Model name not recognized"
     ]
    }
   ],
   "source": [
    "fractalnetshared_results = train_model(model, model_name, epochs, train_loader, valid_loader, test_loader, optimizer, criterion, scheduler, device, LABEL_INDEX, Z_ONE_HOT_DIM)"
   ],
   "metadata": {
    "collapsed": false,
    "pycharm": {
     "name": "#%%\n"
    }
   }
  },
  {
   "cell_type": "markdown",
   "source": [
    "# TRAINING FRACTAL NET"
   ],
   "metadata": {
    "collapsed": false,
    "pycharm": {
     "name": "#%% md\n"
    }
   }
  },
  {
   "cell_type": "code",
   "execution_count": 13,
   "outputs": [],
   "source": [
    "model_name = 'FractalNet'\n",
    "model = FractalNet(node_features,\n",
    "                   edge_features,\n",
    "                   hidden_features,\n",
    "                   out_features,\n",
    "                   depth=3,\n",
    "                   pool='add',\n",
    "                   add_residual_skip=True).to(device)\n",
    "optimizer = torch.optim.Adam(model.parameters(), lr=0.0001)\n",
    "criterion = nn.MSELoss()\n",
    "scheduler = torch.optim.lr_scheduler.ReduceLROnPlateau(optimizer, mode='min', factor=0.7, patience=3, verbose=True)\n",
    "train, valid, test = get_qm9(\"data/qm9\",\n",
    "                             device=device,\n",
    "                             LABEL_INDEX=LABEL_INDEX,\n",
    "                             transform=Graph_to_Subgraph())\n",
    "train = train[:int(0.1 * len(train))]\n",
    "train_loader = DataLoader(train, batch_size=batch_size, shuffle=True)\n",
    "valid_loader = DataLoader(valid, batch_size=32, shuffle=False)\n",
    "test_loader = DataLoader(test, batch_size=32, shuffle=False)"
   ],
   "metadata": {
    "collapsed": false,
    "pycharm": {
     "name": "#%%\n"
    }
   }
  },
  {
   "cell_type": "code",
   "execution_count": 14,
   "outputs": [
    {
     "name": "stdout",
     "output_type": "stream",
     "text": [
      "Total number of parameters: 298433\n"
     ]
    },
    {
     "data": {
      "text/plain": "  0%|          | 0/55 [00:00<?, ?it/s]",
      "application/vnd.jupyter.widget-view+json": {
       "version_major": 2,
       "version_minor": 0,
       "model_id": "396ba9aa5622433ebc076faff223cc87"
      }
     },
     "metadata": {},
     "output_type": "display_data"
    },
    {
     "data": {
      "text/plain": "  0%|          | 0/313 [00:00<?, ?it/s]",
      "application/vnd.jupyter.widget-view+json": {
       "version_major": 2,
       "version_minor": 0,
       "model_id": "81fc04ec13e84d289044c886e66ee255"
      }
     },
     "metadata": {},
     "output_type": "display_data"
    },
    {
     "data": {
      "text/plain": "  0%|          | 0/313 [00:00<?, ?it/s]",
      "application/vnd.jupyter.widget-view+json": {
       "version_major": 2,
       "version_minor": 0,
       "model_id": "628f17f8a4b644bb8891eb9783c8aaa4"
      }
     },
     "metadata": {},
     "output_type": "display_data"
    },
    {
     "name": "stdout",
     "output_type": "stream",
     "text": [
      "Epoch: 0, Loss: 0.8165286079453774, Valid Loss: 0.3341747196718527\n"
     ]
    },
    {
     "data": {
      "text/plain": "  0%|          | 0/313 [00:00<?, ?it/s]",
      "application/vnd.jupyter.widget-view+json": {
       "version_major": 2,
       "version_minor": 0,
       "model_id": "974c40e29d8f4eac81e919c1a1d63735"
      }
     },
     "metadata": {},
     "output_type": "display_data"
    },
    {
     "data": {
      "text/plain": "  0%|          | 0/313 [00:00<?, ?it/s]",
      "application/vnd.jupyter.widget-view+json": {
       "version_major": 2,
       "version_minor": 0,
       "model_id": "8c308d4143034f0f8086aa607360ca93"
      }
     },
     "metadata": {},
     "output_type": "display_data"
    },
    {
     "name": "stdout",
     "output_type": "stream",
     "text": [
      "Epoch: 1, Loss: 0.24079825270313995, Valid Loss: 0.184387219552034\n"
     ]
    },
    {
     "data": {
      "text/plain": "  0%|          | 0/313 [00:00<?, ?it/s]",
      "application/vnd.jupyter.widget-view+json": {
       "version_major": 2,
       "version_minor": 0,
       "model_id": "174821c27f034ecaa649a32afebf44d5"
      }
     },
     "metadata": {},
     "output_type": "display_data"
    },
    {
     "data": {
      "text/plain": "  0%|          | 0/313 [00:00<?, ?it/s]",
      "application/vnd.jupyter.widget-view+json": {
       "version_major": 2,
       "version_minor": 0,
       "model_id": "5d15ba08b3ed49a7a7aa98cac963b8db"
      }
     },
     "metadata": {},
     "output_type": "display_data"
    },
    {
     "name": "stdout",
     "output_type": "stream",
     "text": [
      "Epoch: 2, Loss: 0.08893119533822988, Valid Loss: 0.06514097188417904\n"
     ]
    },
    {
     "data": {
      "text/plain": "  0%|          | 0/313 [00:00<?, ?it/s]",
      "application/vnd.jupyter.widget-view+json": {
       "version_major": 2,
       "version_minor": 0,
       "model_id": "d6083702167349909b070711200c7400"
      }
     },
     "metadata": {},
     "output_type": "display_data"
    },
    {
     "data": {
      "text/plain": "  0%|          | 0/313 [00:00<?, ?it/s]",
      "application/vnd.jupyter.widget-view+json": {
       "version_major": 2,
       "version_minor": 0,
       "model_id": "8ca60dd812e344a3aea0d303fd50bb00"
      }
     },
     "metadata": {},
     "output_type": "display_data"
    },
    {
     "name": "stdout",
     "output_type": "stream",
     "text": [
      "Epoch: 3, Loss: 0.022421466380234262, Valid Loss: 0.021305969437977045\n"
     ]
    },
    {
     "data": {
      "text/plain": "  0%|          | 0/313 [00:00<?, ?it/s]",
      "application/vnd.jupyter.widget-view+json": {
       "version_major": 2,
       "version_minor": 0,
       "model_id": "844571009d154d69afa74ea7d2dd96fd"
      }
     },
     "metadata": {},
     "output_type": "display_data"
    },
    {
     "ename": "KeyboardInterrupt",
     "evalue": "",
     "output_type": "error",
     "traceback": [
      "\u001B[0;31m---------------------------------------------------------------------------\u001B[0m",
      "\u001B[0;31mKeyboardInterrupt\u001B[0m                         Traceback (most recent call last)",
      "\u001B[0;32m<ipython-input-14-11f6bd27a94e>\u001B[0m in \u001B[0;36m<module>\u001B[0;34m\u001B[0m\n\u001B[0;32m----> 1\u001B[0;31m \u001B[0mfractalnet_results\u001B[0m \u001B[0;34m=\u001B[0m \u001B[0mtrain_model\u001B[0m\u001B[0;34m(\u001B[0m\u001B[0mmodel\u001B[0m\u001B[0;34m,\u001B[0m \u001B[0mmodel_name\u001B[0m\u001B[0;34m,\u001B[0m \u001B[0mepochs\u001B[0m\u001B[0;34m,\u001B[0m \u001B[0mtrain_loader\u001B[0m\u001B[0;34m,\u001B[0m \u001B[0mvalid_loader\u001B[0m\u001B[0;34m,\u001B[0m \u001B[0mtest_loader\u001B[0m\u001B[0;34m,\u001B[0m \u001B[0moptimizer\u001B[0m\u001B[0;34m,\u001B[0m \u001B[0mcriterion\u001B[0m\u001B[0;34m,\u001B[0m \u001B[0mscheduler\u001B[0m\u001B[0;34m,\u001B[0m \u001B[0mdevice\u001B[0m\u001B[0;34m,\u001B[0m \u001B[0mLABEL_INDEX\u001B[0m\u001B[0;34m,\u001B[0m \u001B[0mZ_ONE_HOT_DIM\u001B[0m\u001B[0;34m)\u001B[0m\u001B[0;34m\u001B[0m\u001B[0;34m\u001B[0m\u001B[0m\n\u001B[0m",
      "\u001B[0;32m~/Documents/GitHub/FractalMessagePassing/train.py\u001B[0m in \u001B[0;36mtrain_model\u001B[0;34m(model, model_name, epochs, train_loader, valid_loader, test_loader, optimizer, criterion, scheduler, device, LABEL_INDEX, Z_ONE_HOT_DIM, **kwargs)\u001B[0m\n\u001B[1;32m    108\u001B[0m         \u001B[0mmodel\u001B[0m\u001B[0;34m.\u001B[0m\u001B[0mtrain\u001B[0m\u001B[0;34m(\u001B[0m\u001B[0;34m)\u001B[0m\u001B[0;34m\u001B[0m\u001B[0;34m\u001B[0m\u001B[0m\n\u001B[1;32m    109\u001B[0m         \u001B[0mtrain_loss\u001B[0m \u001B[0;34m=\u001B[0m \u001B[0;36m0\u001B[0m\u001B[0;34m\u001B[0m\u001B[0;34m\u001B[0m\u001B[0m\n\u001B[0;32m--> 110\u001B[0;31m         \u001B[0;32mfor\u001B[0m \u001B[0mdata\u001B[0m \u001B[0;32min\u001B[0m \u001B[0mtqdm\u001B[0m\u001B[0;34m.\u001B[0m\u001B[0mtqdm\u001B[0m\u001B[0;34m(\u001B[0m\u001B[0mtrain_loader\u001B[0m\u001B[0;34m)\u001B[0m\u001B[0;34m:\u001B[0m\u001B[0;34m\u001B[0m\u001B[0;34m\u001B[0m\u001B[0m\n\u001B[0m\u001B[1;32m    111\u001B[0m                 \u001B[0mdata\u001B[0m \u001B[0;34m=\u001B[0m \u001B[0mdata\u001B[0m\u001B[0;34m.\u001B[0m\u001B[0mto\u001B[0m\u001B[0;34m(\u001B[0m\u001B[0mdevice\u001B[0m\u001B[0;34m)\u001B[0m\u001B[0;34m\u001B[0m\u001B[0;34m\u001B[0m\u001B[0m\n\u001B[1;32m    112\u001B[0m                 \u001B[0moptimizer\u001B[0m\u001B[0;34m.\u001B[0m\u001B[0mzero_grad\u001B[0m\u001B[0;34m(\u001B[0m\u001B[0;34m)\u001B[0m\u001B[0;34m\u001B[0m\u001B[0;34m\u001B[0m\u001B[0m\n",
      "\u001B[0;32m~/anaconda3/envs/Geometric/lib/python3.8/site-packages/tqdm/notebook.py\u001B[0m in \u001B[0;36m__iter__\u001B[0;34m(self)\u001B[0m\n\u001B[1;32m    255\u001B[0m     \u001B[0;32mdef\u001B[0m \u001B[0m__iter__\u001B[0m\u001B[0;34m(\u001B[0m\u001B[0mself\u001B[0m\u001B[0;34m)\u001B[0m\u001B[0;34m:\u001B[0m\u001B[0;34m\u001B[0m\u001B[0;34m\u001B[0m\u001B[0m\n\u001B[1;32m    256\u001B[0m         \u001B[0;32mtry\u001B[0m\u001B[0;34m:\u001B[0m\u001B[0;34m\u001B[0m\u001B[0;34m\u001B[0m\u001B[0m\n\u001B[0;32m--> 257\u001B[0;31m             \u001B[0;32mfor\u001B[0m \u001B[0mobj\u001B[0m \u001B[0;32min\u001B[0m \u001B[0msuper\u001B[0m\u001B[0;34m(\u001B[0m\u001B[0mtqdm_notebook\u001B[0m\u001B[0;34m,\u001B[0m \u001B[0mself\u001B[0m\u001B[0;34m)\u001B[0m\u001B[0;34m.\u001B[0m\u001B[0m__iter__\u001B[0m\u001B[0;34m(\u001B[0m\u001B[0;34m)\u001B[0m\u001B[0;34m:\u001B[0m\u001B[0;34m\u001B[0m\u001B[0;34m\u001B[0m\u001B[0m\n\u001B[0m\u001B[1;32m    258\u001B[0m                 \u001B[0;31m# return super(tqdm...) will not catch exception\u001B[0m\u001B[0;34m\u001B[0m\u001B[0;34m\u001B[0m\u001B[0;34m\u001B[0m\u001B[0m\n\u001B[1;32m    259\u001B[0m                 \u001B[0;32myield\u001B[0m \u001B[0mobj\u001B[0m\u001B[0;34m\u001B[0m\u001B[0;34m\u001B[0m\u001B[0m\n",
      "\u001B[0;32m~/anaconda3/envs/Geometric/lib/python3.8/site-packages/tqdm/std.py\u001B[0m in \u001B[0;36m__iter__\u001B[0;34m(self)\u001B[0m\n\u001B[1;32m   1193\u001B[0m \u001B[0;34m\u001B[0m\u001B[0m\n\u001B[1;32m   1194\u001B[0m         \u001B[0;32mtry\u001B[0m\u001B[0;34m:\u001B[0m\u001B[0;34m\u001B[0m\u001B[0;34m\u001B[0m\u001B[0m\n\u001B[0;32m-> 1195\u001B[0;31m             \u001B[0;32mfor\u001B[0m \u001B[0mobj\u001B[0m \u001B[0;32min\u001B[0m \u001B[0miterable\u001B[0m\u001B[0;34m:\u001B[0m\u001B[0;34m\u001B[0m\u001B[0;34m\u001B[0m\u001B[0m\n\u001B[0m\u001B[1;32m   1196\u001B[0m                 \u001B[0;32myield\u001B[0m \u001B[0mobj\u001B[0m\u001B[0;34m\u001B[0m\u001B[0;34m\u001B[0m\u001B[0m\n\u001B[1;32m   1197\u001B[0m                 \u001B[0;31m# Update and possibly print the progressbar.\u001B[0m\u001B[0;34m\u001B[0m\u001B[0;34m\u001B[0m\u001B[0;34m\u001B[0m\u001B[0m\n",
      "\u001B[0;32m~/anaconda3/envs/Geometric/lib/python3.8/site-packages/torch/utils/data/dataloader.py\u001B[0m in \u001B[0;36m__next__\u001B[0;34m(self)\u001B[0m\n\u001B[1;32m    528\u001B[0m             \u001B[0;32mif\u001B[0m \u001B[0mself\u001B[0m\u001B[0;34m.\u001B[0m\u001B[0m_sampler_iter\u001B[0m \u001B[0;32mis\u001B[0m \u001B[0;32mNone\u001B[0m\u001B[0;34m:\u001B[0m\u001B[0;34m\u001B[0m\u001B[0;34m\u001B[0m\u001B[0m\n\u001B[1;32m    529\u001B[0m                 \u001B[0mself\u001B[0m\u001B[0;34m.\u001B[0m\u001B[0m_reset\u001B[0m\u001B[0;34m(\u001B[0m\u001B[0;34m)\u001B[0m\u001B[0;34m\u001B[0m\u001B[0;34m\u001B[0m\u001B[0m\n\u001B[0;32m--> 530\u001B[0;31m             \u001B[0mdata\u001B[0m \u001B[0;34m=\u001B[0m \u001B[0mself\u001B[0m\u001B[0;34m.\u001B[0m\u001B[0m_next_data\u001B[0m\u001B[0;34m(\u001B[0m\u001B[0;34m)\u001B[0m\u001B[0;34m\u001B[0m\u001B[0;34m\u001B[0m\u001B[0m\n\u001B[0m\u001B[1;32m    531\u001B[0m             \u001B[0mself\u001B[0m\u001B[0;34m.\u001B[0m\u001B[0m_num_yielded\u001B[0m \u001B[0;34m+=\u001B[0m \u001B[0;36m1\u001B[0m\u001B[0;34m\u001B[0m\u001B[0;34m\u001B[0m\u001B[0m\n\u001B[1;32m    532\u001B[0m             \u001B[0;32mif\u001B[0m \u001B[0mself\u001B[0m\u001B[0;34m.\u001B[0m\u001B[0m_dataset_kind\u001B[0m \u001B[0;34m==\u001B[0m \u001B[0m_DatasetKind\u001B[0m\u001B[0;34m.\u001B[0m\u001B[0mIterable\u001B[0m \u001B[0;32mand\u001B[0m\u001B[0;31m \u001B[0m\u001B[0;31m\\\u001B[0m\u001B[0;34m\u001B[0m\u001B[0;34m\u001B[0m\u001B[0m\n",
      "\u001B[0;32m~/anaconda3/envs/Geometric/lib/python3.8/site-packages/torch/utils/data/dataloader.py\u001B[0m in \u001B[0;36m_next_data\u001B[0;34m(self)\u001B[0m\n\u001B[1;32m    568\u001B[0m     \u001B[0;32mdef\u001B[0m \u001B[0m_next_data\u001B[0m\u001B[0;34m(\u001B[0m\u001B[0mself\u001B[0m\u001B[0;34m)\u001B[0m\u001B[0;34m:\u001B[0m\u001B[0;34m\u001B[0m\u001B[0;34m\u001B[0m\u001B[0m\n\u001B[1;32m    569\u001B[0m         \u001B[0mindex\u001B[0m \u001B[0;34m=\u001B[0m \u001B[0mself\u001B[0m\u001B[0;34m.\u001B[0m\u001B[0m_next_index\u001B[0m\u001B[0;34m(\u001B[0m\u001B[0;34m)\u001B[0m  \u001B[0;31m# may raise StopIteration\u001B[0m\u001B[0;34m\u001B[0m\u001B[0;34m\u001B[0m\u001B[0m\n\u001B[0;32m--> 570\u001B[0;31m         \u001B[0mdata\u001B[0m \u001B[0;34m=\u001B[0m \u001B[0mself\u001B[0m\u001B[0;34m.\u001B[0m\u001B[0m_dataset_fetcher\u001B[0m\u001B[0;34m.\u001B[0m\u001B[0mfetch\u001B[0m\u001B[0;34m(\u001B[0m\u001B[0mindex\u001B[0m\u001B[0;34m)\u001B[0m  \u001B[0;31m# may raise StopIteration\u001B[0m\u001B[0;34m\u001B[0m\u001B[0;34m\u001B[0m\u001B[0m\n\u001B[0m\u001B[1;32m    571\u001B[0m         \u001B[0;32mif\u001B[0m \u001B[0mself\u001B[0m\u001B[0;34m.\u001B[0m\u001B[0m_pin_memory\u001B[0m\u001B[0;34m:\u001B[0m\u001B[0;34m\u001B[0m\u001B[0;34m\u001B[0m\u001B[0m\n\u001B[1;32m    572\u001B[0m             \u001B[0mdata\u001B[0m \u001B[0;34m=\u001B[0m \u001B[0m_utils\u001B[0m\u001B[0;34m.\u001B[0m\u001B[0mpin_memory\u001B[0m\u001B[0;34m.\u001B[0m\u001B[0mpin_memory\u001B[0m\u001B[0;34m(\u001B[0m\u001B[0mdata\u001B[0m\u001B[0;34m)\u001B[0m\u001B[0;34m\u001B[0m\u001B[0;34m\u001B[0m\u001B[0m\n",
      "\u001B[0;32m~/anaconda3/envs/Geometric/lib/python3.8/site-packages/torch/utils/data/_utils/fetch.py\u001B[0m in \u001B[0;36mfetch\u001B[0;34m(self, possibly_batched_index)\u001B[0m\n\u001B[1;32m     47\u001B[0m     \u001B[0;32mdef\u001B[0m \u001B[0mfetch\u001B[0m\u001B[0;34m(\u001B[0m\u001B[0mself\u001B[0m\u001B[0;34m,\u001B[0m \u001B[0mpossibly_batched_index\u001B[0m\u001B[0;34m)\u001B[0m\u001B[0;34m:\u001B[0m\u001B[0;34m\u001B[0m\u001B[0;34m\u001B[0m\u001B[0m\n\u001B[1;32m     48\u001B[0m         \u001B[0;32mif\u001B[0m \u001B[0mself\u001B[0m\u001B[0;34m.\u001B[0m\u001B[0mauto_collation\u001B[0m\u001B[0;34m:\u001B[0m\u001B[0;34m\u001B[0m\u001B[0;34m\u001B[0m\u001B[0m\n\u001B[0;32m---> 49\u001B[0;31m             \u001B[0mdata\u001B[0m \u001B[0;34m=\u001B[0m \u001B[0;34m[\u001B[0m\u001B[0mself\u001B[0m\u001B[0;34m.\u001B[0m\u001B[0mdataset\u001B[0m\u001B[0;34m[\u001B[0m\u001B[0midx\u001B[0m\u001B[0;34m]\u001B[0m \u001B[0;32mfor\u001B[0m \u001B[0midx\u001B[0m \u001B[0;32min\u001B[0m \u001B[0mpossibly_batched_index\u001B[0m\u001B[0;34m]\u001B[0m\u001B[0;34m\u001B[0m\u001B[0;34m\u001B[0m\u001B[0m\n\u001B[0m\u001B[1;32m     50\u001B[0m         \u001B[0;32melse\u001B[0m\u001B[0;34m:\u001B[0m\u001B[0;34m\u001B[0m\u001B[0;34m\u001B[0m\u001B[0m\n\u001B[1;32m     51\u001B[0m             \u001B[0mdata\u001B[0m \u001B[0;34m=\u001B[0m \u001B[0mself\u001B[0m\u001B[0;34m.\u001B[0m\u001B[0mdataset\u001B[0m\u001B[0;34m[\u001B[0m\u001B[0mpossibly_batched_index\u001B[0m\u001B[0;34m]\u001B[0m\u001B[0;34m\u001B[0m\u001B[0;34m\u001B[0m\u001B[0m\n",
      "\u001B[0;32m~/anaconda3/envs/Geometric/lib/python3.8/site-packages/torch/utils/data/_utils/fetch.py\u001B[0m in \u001B[0;36m<listcomp>\u001B[0;34m(.0)\u001B[0m\n\u001B[1;32m     47\u001B[0m     \u001B[0;32mdef\u001B[0m \u001B[0mfetch\u001B[0m\u001B[0;34m(\u001B[0m\u001B[0mself\u001B[0m\u001B[0;34m,\u001B[0m \u001B[0mpossibly_batched_index\u001B[0m\u001B[0;34m)\u001B[0m\u001B[0;34m:\u001B[0m\u001B[0;34m\u001B[0m\u001B[0;34m\u001B[0m\u001B[0m\n\u001B[1;32m     48\u001B[0m         \u001B[0;32mif\u001B[0m \u001B[0mself\u001B[0m\u001B[0;34m.\u001B[0m\u001B[0mauto_collation\u001B[0m\u001B[0;34m:\u001B[0m\u001B[0;34m\u001B[0m\u001B[0;34m\u001B[0m\u001B[0m\n\u001B[0;32m---> 49\u001B[0;31m             \u001B[0mdata\u001B[0m \u001B[0;34m=\u001B[0m \u001B[0;34m[\u001B[0m\u001B[0mself\u001B[0m\u001B[0;34m.\u001B[0m\u001B[0mdataset\u001B[0m\u001B[0;34m[\u001B[0m\u001B[0midx\u001B[0m\u001B[0;34m]\u001B[0m \u001B[0;32mfor\u001B[0m \u001B[0midx\u001B[0m \u001B[0;32min\u001B[0m \u001B[0mpossibly_batched_index\u001B[0m\u001B[0;34m]\u001B[0m\u001B[0;34m\u001B[0m\u001B[0;34m\u001B[0m\u001B[0m\n\u001B[0m\u001B[1;32m     50\u001B[0m         \u001B[0;32melse\u001B[0m\u001B[0;34m:\u001B[0m\u001B[0;34m\u001B[0m\u001B[0;34m\u001B[0m\u001B[0m\n\u001B[1;32m     51\u001B[0m             \u001B[0mdata\u001B[0m \u001B[0;34m=\u001B[0m \u001B[0mself\u001B[0m\u001B[0;34m.\u001B[0m\u001B[0mdataset\u001B[0m\u001B[0;34m[\u001B[0m\u001B[0mpossibly_batched_index\u001B[0m\u001B[0;34m]\u001B[0m\u001B[0;34m\u001B[0m\u001B[0;34m\u001B[0m\u001B[0m\n",
      "\u001B[0;32m~/anaconda3/envs/Geometric/lib/python3.8/site-packages/torch_geometric/data/dataset.py\u001B[0m in \u001B[0;36m__getitem__\u001B[0;34m(self, idx)\u001B[0m\n\u001B[1;32m    196\u001B[0m \u001B[0;34m\u001B[0m\u001B[0m\n\u001B[1;32m    197\u001B[0m             \u001B[0mdata\u001B[0m \u001B[0;34m=\u001B[0m \u001B[0mself\u001B[0m\u001B[0;34m.\u001B[0m\u001B[0mget\u001B[0m\u001B[0;34m(\u001B[0m\u001B[0mself\u001B[0m\u001B[0;34m.\u001B[0m\u001B[0mindices\u001B[0m\u001B[0;34m(\u001B[0m\u001B[0;34m)\u001B[0m\u001B[0;34m[\u001B[0m\u001B[0midx\u001B[0m\u001B[0;34m]\u001B[0m\u001B[0;34m)\u001B[0m\u001B[0;34m\u001B[0m\u001B[0;34m\u001B[0m\u001B[0m\n\u001B[0;32m--> 198\u001B[0;31m             \u001B[0mdata\u001B[0m \u001B[0;34m=\u001B[0m \u001B[0mdata\u001B[0m \u001B[0;32mif\u001B[0m \u001B[0mself\u001B[0m\u001B[0;34m.\u001B[0m\u001B[0mtransform\u001B[0m \u001B[0;32mis\u001B[0m \u001B[0;32mNone\u001B[0m \u001B[0;32melse\u001B[0m \u001B[0mself\u001B[0m\u001B[0;34m.\u001B[0m\u001B[0mtransform\u001B[0m\u001B[0;34m(\u001B[0m\u001B[0mdata\u001B[0m\u001B[0;34m)\u001B[0m\u001B[0;34m\u001B[0m\u001B[0;34m\u001B[0m\u001B[0m\n\u001B[0m\u001B[1;32m    199\u001B[0m             \u001B[0;32mreturn\u001B[0m \u001B[0mdata\u001B[0m\u001B[0;34m\u001B[0m\u001B[0;34m\u001B[0m\u001B[0m\n\u001B[1;32m    200\u001B[0m \u001B[0;34m\u001B[0m\u001B[0m\n",
      "\u001B[0;32m~/Documents/GitHub/FractalMessagePassing/subgraph.py\u001B[0m in \u001B[0;36m__call__\u001B[0;34m(self, data)\u001B[0m\n\u001B[1;32m     98\u001B[0m         \u001B[0mself\u001B[0m\u001B[0;34m.\u001B[0m\u001B[0mdepth\u001B[0m \u001B[0;34m=\u001B[0m \u001B[0mdepth\u001B[0m\u001B[0;34m\u001B[0m\u001B[0;34m\u001B[0m\u001B[0m\n\u001B[1;32m     99\u001B[0m     \u001B[0;32mdef\u001B[0m \u001B[0m__call__\u001B[0m\u001B[0;34m(\u001B[0m\u001B[0mself\u001B[0m\u001B[0;34m,\u001B[0m \u001B[0mdata\u001B[0m\u001B[0;34m)\u001B[0m\u001B[0;34m:\u001B[0m\u001B[0;34m\u001B[0m\u001B[0;34m\u001B[0m\u001B[0m\n\u001B[0;32m--> 100\u001B[0;31m         \u001B[0msubgraph\u001B[0m \u001B[0;34m=\u001B[0m \u001B[0mSubgraph\u001B[0m\u001B[0;34m(\u001B[0m\u001B[0mdata\u001B[0m\u001B[0;34m,\u001B[0m \u001B[0mmode\u001B[0m\u001B[0;34m=\u001B[0m\u001B[0mself\u001B[0m\u001B[0;34m.\u001B[0m\u001B[0mmode\u001B[0m\u001B[0;34m,\u001B[0m \u001B[0mdepth\u001B[0m\u001B[0;34m=\u001B[0m\u001B[0mself\u001B[0m\u001B[0;34m.\u001B[0m\u001B[0mdepth\u001B[0m\u001B[0;34m)\u001B[0m\u001B[0;34m\u001B[0m\u001B[0;34m\u001B[0m\u001B[0m\n\u001B[0m\u001B[1;32m    101\u001B[0m         \u001B[0;32mreturn\u001B[0m \u001B[0msubgraph\u001B[0m\u001B[0;34m.\u001B[0m\u001B[0mconvert_to_subgraph\u001B[0m\u001B[0;34m(\u001B[0m\u001B[0;34m)\u001B[0m\u001B[0;34m\u001B[0m\u001B[0;34m\u001B[0m\u001B[0m\n\u001B[1;32m    102\u001B[0m \u001B[0;34m\u001B[0m\u001B[0m\n",
      "\u001B[0;32m~/Documents/GitHub/FractalMessagePassing/subgraph.py\u001B[0m in \u001B[0;36m__init__\u001B[0;34m(self, graph, mode, depth)\u001B[0m\n\u001B[1;32m      6\u001B[0m         \u001B[0mself\u001B[0m\u001B[0;34m.\u001B[0m\u001B[0mdevice\u001B[0m \u001B[0;34m=\u001B[0m \u001B[0mgraph\u001B[0m\u001B[0;34m.\u001B[0m\u001B[0mx\u001B[0m\u001B[0;34m.\u001B[0m\u001B[0mdevice\u001B[0m\u001B[0;34m\u001B[0m\u001B[0;34m\u001B[0m\u001B[0m\n\u001B[1;32m      7\u001B[0m         \u001B[0mself\u001B[0m\u001B[0;34m.\u001B[0m\u001B[0mnum_nodes\u001B[0m \u001B[0;34m=\u001B[0m \u001B[0mgraph\u001B[0m\u001B[0;34m.\u001B[0m\u001B[0mx\u001B[0m\u001B[0;34m.\u001B[0m\u001B[0mshape\u001B[0m\u001B[0;34m[\u001B[0m\u001B[0;36m0\u001B[0m\u001B[0;34m]\u001B[0m\u001B[0;34m\u001B[0m\u001B[0;34m\u001B[0m\u001B[0m\n\u001B[0;32m----> 8\u001B[0;31m         \u001B[0mself\u001B[0m\u001B[0;34m.\u001B[0m\u001B[0msubgraph\u001B[0m \u001B[0;34m=\u001B[0m \u001B[0mgraph\u001B[0m\u001B[0;34m.\u001B[0m\u001B[0mclone\u001B[0m\u001B[0;34m(\u001B[0m\u001B[0;34m)\u001B[0m\u001B[0;34m.\u001B[0m\u001B[0mto\u001B[0m\u001B[0;34m(\u001B[0m\u001B[0mself\u001B[0m\u001B[0;34m.\u001B[0m\u001B[0mdevice\u001B[0m\u001B[0;34m)\u001B[0m\u001B[0;34m\u001B[0m\u001B[0;34m\u001B[0m\u001B[0m\n\u001B[0m\u001B[1;32m      9\u001B[0m         \u001B[0mself\u001B[0m\u001B[0;34m.\u001B[0m\u001B[0mmode\u001B[0m \u001B[0;34m=\u001B[0m \u001B[0mmode\u001B[0m\u001B[0;34m\u001B[0m\u001B[0;34m\u001B[0m\u001B[0m\n\u001B[1;32m     10\u001B[0m         \u001B[0;31m#TODO: not have this hardcoded\u001B[0m\u001B[0;34m\u001B[0m\u001B[0;34m\u001B[0m\u001B[0;34m\u001B[0m\u001B[0m\n",
      "\u001B[0;32m~/anaconda3/envs/Geometric/lib/python3.8/site-packages/torch_geometric/data/data.py\u001B[0m in \u001B[0;36mclone\u001B[0;34m(self, *args)\u001B[0m\n\u001B[1;32m    203\u001B[0m         r\"\"\"Performs cloning of tensors, either for all attributes or only the\n\u001B[1;32m    204\u001B[0m         ones given in :obj:`*args`.\"\"\"\n\u001B[0;32m--> 205\u001B[0;31m         \u001B[0;32mreturn\u001B[0m \u001B[0mcopy\u001B[0m\u001B[0;34m.\u001B[0m\u001B[0mcopy\u001B[0m\u001B[0;34m(\u001B[0m\u001B[0mself\u001B[0m\u001B[0;34m)\u001B[0m\u001B[0;34m.\u001B[0m\u001B[0mapply\u001B[0m\u001B[0;34m(\u001B[0m\u001B[0;32mlambda\u001B[0m \u001B[0mx\u001B[0m\u001B[0;34m:\u001B[0m \u001B[0mx\u001B[0m\u001B[0;34m.\u001B[0m\u001B[0mclone\u001B[0m\u001B[0;34m(\u001B[0m\u001B[0;34m)\u001B[0m\u001B[0;34m,\u001B[0m \u001B[0;34m*\u001B[0m\u001B[0margs\u001B[0m\u001B[0;34m)\u001B[0m\u001B[0;34m\u001B[0m\u001B[0;34m\u001B[0m\u001B[0m\n\u001B[0m\u001B[1;32m    206\u001B[0m \u001B[0;34m\u001B[0m\u001B[0m\n\u001B[1;32m    207\u001B[0m     \u001B[0;32mdef\u001B[0m \u001B[0mcontiguous\u001B[0m\u001B[0;34m(\u001B[0m\u001B[0mself\u001B[0m\u001B[0;34m,\u001B[0m \u001B[0;34m*\u001B[0m\u001B[0margs\u001B[0m\u001B[0;34m:\u001B[0m \u001B[0mList\u001B[0m\u001B[0;34m[\u001B[0m\u001B[0mstr\u001B[0m\u001B[0;34m]\u001B[0m\u001B[0;34m)\u001B[0m\u001B[0;34m:\u001B[0m\u001B[0;34m\u001B[0m\u001B[0;34m\u001B[0m\u001B[0m\n",
      "\u001B[0;32m~/anaconda3/envs/Geometric/lib/python3.8/site-packages/torch_geometric/data/data.py\u001B[0m in \u001B[0;36mapply\u001B[0;34m(self, func, *args)\u001B[0m\n\u001B[1;32m    197\u001B[0m         the ones given in :obj:`*args`.\"\"\"\n\u001B[1;32m    198\u001B[0m         \u001B[0;32mfor\u001B[0m \u001B[0mstore\u001B[0m \u001B[0;32min\u001B[0m \u001B[0mself\u001B[0m\u001B[0;34m.\u001B[0m\u001B[0mstores\u001B[0m\u001B[0;34m:\u001B[0m\u001B[0;34m\u001B[0m\u001B[0;34m\u001B[0m\u001B[0m\n\u001B[0;32m--> 199\u001B[0;31m             \u001B[0mstore\u001B[0m\u001B[0;34m.\u001B[0m\u001B[0mapply\u001B[0m\u001B[0;34m(\u001B[0m\u001B[0mfunc\u001B[0m\u001B[0;34m,\u001B[0m \u001B[0;34m*\u001B[0m\u001B[0margs\u001B[0m\u001B[0;34m)\u001B[0m\u001B[0;34m\u001B[0m\u001B[0;34m\u001B[0m\u001B[0m\n\u001B[0m\u001B[1;32m    200\u001B[0m         \u001B[0;32mreturn\u001B[0m \u001B[0mself\u001B[0m\u001B[0;34m\u001B[0m\u001B[0;34m\u001B[0m\u001B[0m\n\u001B[1;32m    201\u001B[0m \u001B[0;34m\u001B[0m\u001B[0m\n",
      "\u001B[0;32m~/anaconda3/envs/Geometric/lib/python3.8/site-packages/torch_geometric/data/storage.py\u001B[0m in \u001B[0;36mapply\u001B[0;34m(self, func, *args)\u001B[0m\n\u001B[1;32m    146\u001B[0m         the ones given in :obj:`*args`.\"\"\"\n\u001B[1;32m    147\u001B[0m         \u001B[0;32mfor\u001B[0m \u001B[0mkey\u001B[0m\u001B[0;34m,\u001B[0m \u001B[0mvalue\u001B[0m \u001B[0;32min\u001B[0m \u001B[0mself\u001B[0m\u001B[0;34m.\u001B[0m\u001B[0mitems\u001B[0m\u001B[0;34m(\u001B[0m\u001B[0;34m*\u001B[0m\u001B[0margs\u001B[0m\u001B[0;34m)\u001B[0m\u001B[0;34m:\u001B[0m\u001B[0;34m\u001B[0m\u001B[0;34m\u001B[0m\u001B[0m\n\u001B[0;32m--> 148\u001B[0;31m             \u001B[0mself\u001B[0m\u001B[0;34m[\u001B[0m\u001B[0mkey\u001B[0m\u001B[0;34m]\u001B[0m \u001B[0;34m=\u001B[0m \u001B[0mrecursive_apply\u001B[0m\u001B[0;34m(\u001B[0m\u001B[0mvalue\u001B[0m\u001B[0;34m,\u001B[0m \u001B[0mfunc\u001B[0m\u001B[0;34m)\u001B[0m\u001B[0;34m\u001B[0m\u001B[0;34m\u001B[0m\u001B[0m\n\u001B[0m\u001B[1;32m    149\u001B[0m         \u001B[0;32mreturn\u001B[0m \u001B[0mself\u001B[0m\u001B[0;34m\u001B[0m\u001B[0;34m\u001B[0m\u001B[0m\n\u001B[1;32m    150\u001B[0m \u001B[0;34m\u001B[0m\u001B[0m\n",
      "\u001B[0;32m~/anaconda3/envs/Geometric/lib/python3.8/site-packages/torch_geometric/data/storage.py\u001B[0m in \u001B[0;36mrecursive_apply\u001B[0;34m(data, func)\u001B[0m\n\u001B[1;32m    496\u001B[0m \u001B[0;32mdef\u001B[0m \u001B[0mrecursive_apply\u001B[0m\u001B[0;34m(\u001B[0m\u001B[0mdata\u001B[0m\u001B[0;34m:\u001B[0m \u001B[0mAny\u001B[0m\u001B[0;34m,\u001B[0m \u001B[0mfunc\u001B[0m\u001B[0;34m:\u001B[0m \u001B[0mCallable\u001B[0m\u001B[0;34m)\u001B[0m \u001B[0;34m->\u001B[0m \u001B[0mAny\u001B[0m\u001B[0;34m:\u001B[0m\u001B[0;34m\u001B[0m\u001B[0;34m\u001B[0m\u001B[0m\n\u001B[1;32m    497\u001B[0m     \u001B[0;32mif\u001B[0m \u001B[0misinstance\u001B[0m\u001B[0;34m(\u001B[0m\u001B[0mdata\u001B[0m\u001B[0;34m,\u001B[0m \u001B[0mTensor\u001B[0m\u001B[0;34m)\u001B[0m\u001B[0;34m:\u001B[0m\u001B[0;34m\u001B[0m\u001B[0;34m\u001B[0m\u001B[0m\n\u001B[0;32m--> 498\u001B[0;31m         \u001B[0;32mreturn\u001B[0m \u001B[0mfunc\u001B[0m\u001B[0;34m(\u001B[0m\u001B[0mdata\u001B[0m\u001B[0;34m)\u001B[0m\u001B[0;34m\u001B[0m\u001B[0;34m\u001B[0m\u001B[0m\n\u001B[0m\u001B[1;32m    499\u001B[0m     \u001B[0;32melif\u001B[0m \u001B[0misinstance\u001B[0m\u001B[0;34m(\u001B[0m\u001B[0mdata\u001B[0m\u001B[0;34m,\u001B[0m \u001B[0mtorch\u001B[0m\u001B[0;34m.\u001B[0m\u001B[0mnn\u001B[0m\u001B[0;34m.\u001B[0m\u001B[0mutils\u001B[0m\u001B[0;34m.\u001B[0m\u001B[0mrnn\u001B[0m\u001B[0;34m.\u001B[0m\u001B[0mPackedSequence\u001B[0m\u001B[0;34m)\u001B[0m\u001B[0;34m:\u001B[0m\u001B[0;34m\u001B[0m\u001B[0;34m\u001B[0m\u001B[0m\n\u001B[1;32m    500\u001B[0m         \u001B[0;32mreturn\u001B[0m \u001B[0mfunc\u001B[0m\u001B[0;34m(\u001B[0m\u001B[0mdata\u001B[0m\u001B[0;34m)\u001B[0m\u001B[0;34m\u001B[0m\u001B[0;34m\u001B[0m\u001B[0m\n",
      "\u001B[0;32m~/anaconda3/envs/Geometric/lib/python3.8/site-packages/torch_geometric/data/data.py\u001B[0m in \u001B[0;36m<lambda>\u001B[0;34m(x)\u001B[0m\n\u001B[1;32m    203\u001B[0m         r\"\"\"Performs cloning of tensors, either for all attributes or only the\n\u001B[1;32m    204\u001B[0m         ones given in :obj:`*args`.\"\"\"\n\u001B[0;32m--> 205\u001B[0;31m         \u001B[0;32mreturn\u001B[0m \u001B[0mcopy\u001B[0m\u001B[0;34m.\u001B[0m\u001B[0mcopy\u001B[0m\u001B[0;34m(\u001B[0m\u001B[0mself\u001B[0m\u001B[0;34m)\u001B[0m\u001B[0;34m.\u001B[0m\u001B[0mapply\u001B[0m\u001B[0;34m(\u001B[0m\u001B[0;32mlambda\u001B[0m \u001B[0mx\u001B[0m\u001B[0;34m:\u001B[0m \u001B[0mx\u001B[0m\u001B[0;34m.\u001B[0m\u001B[0mclone\u001B[0m\u001B[0;34m(\u001B[0m\u001B[0;34m)\u001B[0m\u001B[0;34m,\u001B[0m \u001B[0;34m*\u001B[0m\u001B[0margs\u001B[0m\u001B[0;34m)\u001B[0m\u001B[0;34m\u001B[0m\u001B[0;34m\u001B[0m\u001B[0m\n\u001B[0m\u001B[1;32m    206\u001B[0m \u001B[0;34m\u001B[0m\u001B[0m\n\u001B[1;32m    207\u001B[0m     \u001B[0;32mdef\u001B[0m \u001B[0mcontiguous\u001B[0m\u001B[0;34m(\u001B[0m\u001B[0mself\u001B[0m\u001B[0;34m,\u001B[0m \u001B[0;34m*\u001B[0m\u001B[0margs\u001B[0m\u001B[0;34m:\u001B[0m \u001B[0mList\u001B[0m\u001B[0;34m[\u001B[0m\u001B[0mstr\u001B[0m\u001B[0;34m]\u001B[0m\u001B[0;34m)\u001B[0m\u001B[0;34m:\u001B[0m\u001B[0;34m\u001B[0m\u001B[0;34m\u001B[0m\u001B[0m\n",
      "\u001B[0;31mKeyboardInterrupt\u001B[0m: "
     ]
    }
   ],
   "source": [
    "fractalnet_results = train_model(model, model_name, epochs, train_loader, valid_loader, test_loader, optimizer, criterion, scheduler, device, LABEL_INDEX, Z_ONE_HOT_DIM)"
   ],
   "metadata": {
    "collapsed": false,
    "pycharm": {
     "name": "#%%\n"
    }
   }
  },
  {
   "cell_type": "markdown",
   "source": [
    "# Training a Transformer Subgraph GNN"
   ],
   "metadata": {
    "collapsed": false,
    "pycharm": {
     "name": "#%% md\n"
    }
   }
  },
  {
   "cell_type": "code",
   "execution_count": 6,
   "outputs": [
    {
     "name": "stderr",
     "output_type": "stream",
     "text": [
      "/home/tin/Documents/GitHub/FractalMessagePassing/train.py:23: UserWarning: Using non-standard permutation since permute.pt does not exist.\n",
      "  warn(\"Using non-standard permutation since permute.pt does not exist.\")\n"
     ]
    }
   ],
   "source": [
    "#device = 'cpu'\n",
    "model_name = 'TransformerNet'\n",
    "mode = 'transformer_10'\n",
    "transformer_size = int(mode.split('_')[1])\n",
    "model = TransformerNet(node_features+transformer_size, # this is needed as now we have more onehot encodings due to unique transformer nodes\n",
    "                   edge_features,\n",
    "                   hidden_features,\n",
    "                   out_features,\n",
    "                   depth=3,\n",
    "                   pool='add',\n",
    "                   add_residual_skip=True,\n",
    "                   num_heads=4).to(device)\n",
    "optimizer = torch.optim.Adam(model.parameters(), lr=0.0001)\n",
    "criterion = nn.MSELoss()\n",
    "scheduler = torch.optim.lr_scheduler.ReduceLROnPlateau(optimizer, mode='min', factor=0.7, patience=3, verbose=True)\n",
    "\n",
    "train, valid, test = get_qm9(\"data/qm9\",\n",
    "                             device=device,\n",
    "                             LABEL_INDEX=LABEL_INDEX,\n",
    "                             transform=Graph_to_Subgraph(mode=mode))\n",
    "# take only 10% of the training data\n",
    "train = train[:int(0.1 * len(train))]\n",
    "train_loader = DataLoader(train, batch_size=batch_size, shuffle=True)\n",
    "\n",
    "valid_loader = DataLoader(valid, batch_size=32, shuffle=False)\n",
    "test_loader = DataLoader(test, batch_size=32, shuffle=False)"
   ],
   "metadata": {
    "collapsed": false,
    "pycharm": {
     "name": "#%%\n"
    }
   }
  },
  {
   "cell_type": "code",
   "execution_count": 7,
   "outputs": [
    {
     "name": "stdout",
     "output_type": "stream",
     "text": [
      "Total number of parameters: 406593\n"
     ]
    },
    {
     "data": {
      "text/plain": "  0%|          | 0/55 [00:00<?, ?it/s]",
      "application/vnd.jupyter.widget-view+json": {
       "version_major": 2,
       "version_minor": 0,
       "model_id": "f0773b01f1534b51acf714b689188505"
      }
     },
     "metadata": {},
     "output_type": "display_data"
    },
    {
     "data": {
      "text/plain": "  0%|          | 0/313 [00:00<?, ?it/s]",
      "application/vnd.jupyter.widget-view+json": {
       "version_major": 2,
       "version_minor": 0,
       "model_id": "1c3d8fa9c4c54906ab93470e4e58b59d"
      }
     },
     "metadata": {},
     "output_type": "display_data"
    },
    {
     "ename": "RuntimeError",
     "evalue": "mat1 and mat2 shapes cannot be multiplied (6237x256 and 64x256)",
     "output_type": "error",
     "traceback": [
      "\u001B[0;31m---------------------------------------------------------------------------\u001B[0m",
      "\u001B[0;31mRuntimeError\u001B[0m                              Traceback (most recent call last)",
      "\u001B[0;32m<ipython-input-7-6062cc1b13f5>\u001B[0m in \u001B[0;36m<module>\u001B[0;34m\u001B[0m\n\u001B[0;32m----> 1\u001B[0;31m \u001B[0mfractalnet_transformer_results\u001B[0m \u001B[0;34m=\u001B[0m \u001B[0mtrain_model\u001B[0m\u001B[0;34m(\u001B[0m\u001B[0mmodel\u001B[0m\u001B[0;34m,\u001B[0m \u001B[0mmodel_name\u001B[0m\u001B[0;34m,\u001B[0m \u001B[0mepochs\u001B[0m\u001B[0;34m,\u001B[0m \u001B[0mtrain_loader\u001B[0m\u001B[0;34m,\u001B[0m \u001B[0mvalid_loader\u001B[0m\u001B[0;34m,\u001B[0m \u001B[0mtest_loader\u001B[0m\u001B[0;34m,\u001B[0m \u001B[0moptimizer\u001B[0m\u001B[0;34m,\u001B[0m \u001B[0mcriterion\u001B[0m\u001B[0;34m,\u001B[0m \u001B[0mscheduler\u001B[0m\u001B[0;34m,\u001B[0m \u001B[0mdevice\u001B[0m\u001B[0;34m,\u001B[0m \u001B[0mLABEL_INDEX\u001B[0m\u001B[0;34m,\u001B[0m \u001B[0mZ_ONE_HOT_DIM\u001B[0m\u001B[0;34m)\u001B[0m\u001B[0;34m\u001B[0m\u001B[0;34m\u001B[0m\u001B[0m\n\u001B[0m",
      "\u001B[0;32m~/Documents/GitHub/FractalMessagePassing/train.py\u001B[0m in \u001B[0;36mtrain_model\u001B[0;34m(model, model_name, epochs, train_loader, valid_loader, test_loader, optimizer, criterion, scheduler, device, LABEL_INDEX, Z_ONE_HOT_DIM, **kwargs)\u001B[0m\n\u001B[1;32m    124\u001B[0m                 \u001B[0;31m# keep only ground nodes in the data.batch\u001B[0m\u001B[0;34m\u001B[0m\u001B[0;34m\u001B[0m\u001B[0;34m\u001B[0m\u001B[0m\n\u001B[1;32m    125\u001B[0m                 \u001B[0;31m# check if there is ground_node in data.batch\u001B[0m\u001B[0;34m\u001B[0m\u001B[0;34m\u001B[0m\u001B[0;34m\u001B[0m\u001B[0m\n\u001B[0;32m--> 126\u001B[0;31m                 \u001B[0mout\u001B[0m \u001B[0;34m=\u001B[0m \u001B[0mget_forward_function\u001B[0m\u001B[0;34m(\u001B[0m\u001B[0mmodel\u001B[0m\u001B[0;34m,\u001B[0m \u001B[0mmodel_name\u001B[0m\u001B[0;34m,\u001B[0m \u001B[0mdata\u001B[0m\u001B[0;34m,\u001B[0m \u001B[0mZ_ONE_HOT_DIM\u001B[0m\u001B[0;34m)\u001B[0m\u001B[0;34m\u001B[0m\u001B[0;34m\u001B[0m\u001B[0m\n\u001B[0m\u001B[1;32m    127\u001B[0m                 \u001B[0mloss\u001B[0m \u001B[0;34m=\u001B[0m \u001B[0mcriterion\u001B[0m\u001B[0;34m(\u001B[0m\u001B[0mout\u001B[0m\u001B[0;34m.\u001B[0m\u001B[0msqueeze\u001B[0m\u001B[0;34m(\u001B[0m\u001B[0;34m)\u001B[0m\u001B[0;34m,\u001B[0m \u001B[0mtarget\u001B[0m\u001B[0;34m)\u001B[0m\u001B[0;34m\u001B[0m\u001B[0;34m\u001B[0m\u001B[0m\n\u001B[1;32m    128\u001B[0m                 \u001B[0mloss\u001B[0m\u001B[0;34m.\u001B[0m\u001B[0mbackward\u001B[0m\u001B[0;34m(\u001B[0m\u001B[0;34m)\u001B[0m\u001B[0;34m\u001B[0m\u001B[0;34m\u001B[0m\u001B[0m\n",
      "\u001B[0;32m~/Documents/GitHub/FractalMessagePassing/train.py\u001B[0m in \u001B[0;36mget_forward_function\u001B[0;34m(model, model_name, data, Z_ONE_HOT_DIM)\u001B[0m\n\u001B[1;32m     47\u001B[0m     \u001B[0;32mif\u001B[0m \u001B[0mmodel_name\u001B[0m \u001B[0;34m==\u001B[0m \u001B[0;34m'TransformerNet'\u001B[0m\u001B[0;34m:\u001B[0m\u001B[0;34m\u001B[0m\u001B[0;34m\u001B[0m\u001B[0m\n\u001B[1;32m     48\u001B[0m         \u001B[0mdata\u001B[0m\u001B[0;34m.\u001B[0m\u001B[0mbatch\u001B[0m \u001B[0;34m=\u001B[0m \u001B[0mdata\u001B[0m\u001B[0;34m.\u001B[0m\u001B[0mbatch\u001B[0m\u001B[0;34m[\u001B[0m\u001B[0mdata\u001B[0m\u001B[0;34m.\u001B[0m\u001B[0mground_node\u001B[0m\u001B[0;34m]\u001B[0m\u001B[0;34m\u001B[0m\u001B[0;34m\u001B[0m\u001B[0m\n\u001B[0;32m---> 49\u001B[0;31m         out = model(data.x,\n\u001B[0m\u001B[1;32m     50\u001B[0m               \u001B[0mdata\u001B[0m\u001B[0;34m.\u001B[0m\u001B[0medge_index\u001B[0m\u001B[0;34m,\u001B[0m\u001B[0;34m\u001B[0m\u001B[0;34m\u001B[0m\u001B[0m\n\u001B[1;32m     51\u001B[0m               \u001B[0mdata\u001B[0m\u001B[0;34m.\u001B[0m\u001B[0msubgraph_edge_index\u001B[0m\u001B[0;34m,\u001B[0m\u001B[0;34m\u001B[0m\u001B[0;34m\u001B[0m\u001B[0m\n",
      "\u001B[0;32m~/anaconda3/envs/Geometric/lib/python3.8/site-packages/torch/nn/modules/module.py\u001B[0m in \u001B[0;36m_call_impl\u001B[0;34m(self, *input, **kwargs)\u001B[0m\n\u001B[1;32m   1108\u001B[0m         if not (self._backward_hooks or self._forward_hooks or self._forward_pre_hooks or _global_backward_hooks\n\u001B[1;32m   1109\u001B[0m                 or _global_forward_hooks or _global_forward_pre_hooks):\n\u001B[0;32m-> 1110\u001B[0;31m             \u001B[0;32mreturn\u001B[0m \u001B[0mforward_call\u001B[0m\u001B[0;34m(\u001B[0m\u001B[0;34m*\u001B[0m\u001B[0minput\u001B[0m\u001B[0;34m,\u001B[0m \u001B[0;34m**\u001B[0m\u001B[0mkwargs\u001B[0m\u001B[0;34m)\u001B[0m\u001B[0;34m\u001B[0m\u001B[0;34m\u001B[0m\u001B[0m\n\u001B[0m\u001B[1;32m   1111\u001B[0m         \u001B[0;31m# Do not call functions when jit is used\u001B[0m\u001B[0;34m\u001B[0m\u001B[0;34m\u001B[0m\u001B[0;34m\u001B[0m\u001B[0m\n\u001B[1;32m   1112\u001B[0m         \u001B[0mfull_backward_hooks\u001B[0m\u001B[0;34m,\u001B[0m \u001B[0mnon_full_backward_hooks\u001B[0m \u001B[0;34m=\u001B[0m \u001B[0;34m[\u001B[0m\u001B[0;34m]\u001B[0m\u001B[0;34m,\u001B[0m \u001B[0;34m[\u001B[0m\u001B[0;34m]\u001B[0m\u001B[0;34m\u001B[0m\u001B[0;34m\u001B[0m\u001B[0m\n",
      "\u001B[0;32m~/Documents/GitHub/FractalMessagePassing/networks.py\u001B[0m in \u001B[0;36mforward\u001B[0;34m(self, x, edge_index, subgraph_edge_index, node_subnode_index, subnode_node_index, ground_node, subgraph_batch_index, batch_idx, edge_attr)\u001B[0m\n\u001B[1;32m     35\u001B[0m             \u001B[0mx\u001B[0m \u001B[0;34m=\u001B[0m \u001B[0mself\u001B[0m\u001B[0;34m.\u001B[0m\u001B[0mground_mps\u001B[0m\u001B[0;34m[\u001B[0m\u001B[0mi\u001B[0m\u001B[0;34m]\u001B[0m\u001B[0;34m(\u001B[0m\u001B[0mx\u001B[0m\u001B[0;34m,\u001B[0m \u001B[0medge_index\u001B[0m\u001B[0;34m,\u001B[0m \u001B[0medge_attr\u001B[0m\u001B[0;34m)\u001B[0m\u001B[0;34m\u001B[0m\u001B[0;34m\u001B[0m\u001B[0m\n\u001B[1;32m     36\u001B[0m             \u001B[0;31m#TODO: Check the order of edge indices; directed in which direction? subnode to node or vice versa\u001B[0m\u001B[0;34m\u001B[0m\u001B[0;34m\u001B[0m\u001B[0;34m\u001B[0m\u001B[0m\n\u001B[0;32m---> 37\u001B[0;31m             \u001B[0mx\u001B[0m \u001B[0;34m=\u001B[0m \u001B[0mself\u001B[0m\u001B[0;34m.\u001B[0m\u001B[0mground_to_sub_mps\u001B[0m\u001B[0;34m[\u001B[0m\u001B[0mi\u001B[0m\u001B[0;34m]\u001B[0m\u001B[0;34m(\u001B[0m\u001B[0mx\u001B[0m\u001B[0;34m,\u001B[0m \u001B[0mnode_subnode_index\u001B[0m\u001B[0;34m,\u001B[0m \u001B[0medge_attr\u001B[0m\u001B[0;34m)\u001B[0m\u001B[0;34m\u001B[0m\u001B[0;34m\u001B[0m\u001B[0m\n\u001B[0m\u001B[1;32m     38\u001B[0m             \u001B[0mx\u001B[0m \u001B[0;34m=\u001B[0m \u001B[0mself\u001B[0m\u001B[0;34m.\u001B[0m\u001B[0msub_mps\u001B[0m\u001B[0;34m[\u001B[0m\u001B[0mi\u001B[0m\u001B[0;34m]\u001B[0m\u001B[0;34m(\u001B[0m\u001B[0mx\u001B[0m\u001B[0;34m,\u001B[0m \u001B[0msubgraph_edge_index\u001B[0m\u001B[0;34m,\u001B[0m \u001B[0medge_attr\u001B[0m\u001B[0;34m)\u001B[0m\u001B[0;34m\u001B[0m\u001B[0;34m\u001B[0m\u001B[0m\n\u001B[1;32m     39\u001B[0m             \u001B[0mx\u001B[0m \u001B[0;34m=\u001B[0m \u001B[0mself\u001B[0m\u001B[0;34m.\u001B[0m\u001B[0msub_to_ground_mps\u001B[0m\u001B[0;34m[\u001B[0m\u001B[0mi\u001B[0m\u001B[0;34m]\u001B[0m\u001B[0;34m(\u001B[0m\u001B[0mx\u001B[0m\u001B[0;34m,\u001B[0m \u001B[0msubnode_node_index\u001B[0m\u001B[0;34m,\u001B[0m \u001B[0medge_attr\u001B[0m\u001B[0;34m)\u001B[0m\u001B[0;34m\u001B[0m\u001B[0;34m\u001B[0m\u001B[0m\n",
      "\u001B[0;32m~/anaconda3/envs/Geometric/lib/python3.8/site-packages/torch/nn/modules/module.py\u001B[0m in \u001B[0;36m_call_impl\u001B[0;34m(self, *input, **kwargs)\u001B[0m\n\u001B[1;32m   1108\u001B[0m         if not (self._backward_hooks or self._forward_hooks or self._forward_pre_hooks or _global_backward_hooks\n\u001B[1;32m   1109\u001B[0m                 or _global_forward_hooks or _global_forward_pre_hooks):\n\u001B[0;32m-> 1110\u001B[0;31m             \u001B[0;32mreturn\u001B[0m \u001B[0mforward_call\u001B[0m\u001B[0;34m(\u001B[0m\u001B[0;34m*\u001B[0m\u001B[0minput\u001B[0m\u001B[0;34m,\u001B[0m \u001B[0;34m**\u001B[0m\u001B[0mkwargs\u001B[0m\u001B[0;34m)\u001B[0m\u001B[0;34m\u001B[0m\u001B[0;34m\u001B[0m\u001B[0m\n\u001B[0m\u001B[1;32m   1111\u001B[0m         \u001B[0;31m# Do not call functions when jit is used\u001B[0m\u001B[0;34m\u001B[0m\u001B[0;34m\u001B[0m\u001B[0;34m\u001B[0m\u001B[0m\n\u001B[1;32m   1112\u001B[0m         \u001B[0mfull_backward_hooks\u001B[0m\u001B[0;34m,\u001B[0m \u001B[0mnon_full_backward_hooks\u001B[0m \u001B[0;34m=\u001B[0m \u001B[0;34m[\u001B[0m\u001B[0;34m]\u001B[0m\u001B[0;34m,\u001B[0m \u001B[0;34m[\u001B[0m\u001B[0;34m]\u001B[0m\u001B[0;34m\u001B[0m\u001B[0;34m\u001B[0m\u001B[0m\n",
      "\u001B[0;32m~/anaconda3/envs/Geometric/lib/python3.8/site-packages/torch_geometric/nn/conv/gatv2_conv.py\u001B[0m in \u001B[0;36mforward\u001B[0;34m(self, x, edge_index, edge_attr, return_attention_weights)\u001B[0m\n\u001B[1;32m    198\u001B[0m         \u001B[0;32mif\u001B[0m \u001B[0misinstance\u001B[0m\u001B[0;34m(\u001B[0m\u001B[0mx\u001B[0m\u001B[0;34m,\u001B[0m \u001B[0mTensor\u001B[0m\u001B[0;34m)\u001B[0m\u001B[0;34m:\u001B[0m\u001B[0;34m\u001B[0m\u001B[0;34m\u001B[0m\u001B[0m\n\u001B[1;32m    199\u001B[0m             \u001B[0;32massert\u001B[0m \u001B[0mx\u001B[0m\u001B[0;34m.\u001B[0m\u001B[0mdim\u001B[0m\u001B[0;34m(\u001B[0m\u001B[0;34m)\u001B[0m \u001B[0;34m==\u001B[0m \u001B[0;36m2\u001B[0m\u001B[0;34m\u001B[0m\u001B[0;34m\u001B[0m\u001B[0m\n\u001B[0;32m--> 200\u001B[0;31m             \u001B[0mx_l\u001B[0m \u001B[0;34m=\u001B[0m \u001B[0mself\u001B[0m\u001B[0;34m.\u001B[0m\u001B[0mlin_l\u001B[0m\u001B[0;34m(\u001B[0m\u001B[0mx\u001B[0m\u001B[0;34m)\u001B[0m\u001B[0;34m.\u001B[0m\u001B[0mview\u001B[0m\u001B[0;34m(\u001B[0m\u001B[0;34m-\u001B[0m\u001B[0;36m1\u001B[0m\u001B[0;34m,\u001B[0m \u001B[0mH\u001B[0m\u001B[0;34m,\u001B[0m \u001B[0mC\u001B[0m\u001B[0;34m)\u001B[0m\u001B[0;34m\u001B[0m\u001B[0;34m\u001B[0m\u001B[0m\n\u001B[0m\u001B[1;32m    201\u001B[0m             \u001B[0;32mif\u001B[0m \u001B[0mself\u001B[0m\u001B[0;34m.\u001B[0m\u001B[0mshare_weights\u001B[0m\u001B[0;34m:\u001B[0m\u001B[0;34m\u001B[0m\u001B[0;34m\u001B[0m\u001B[0m\n\u001B[1;32m    202\u001B[0m                 \u001B[0mx_r\u001B[0m \u001B[0;34m=\u001B[0m \u001B[0mx_l\u001B[0m\u001B[0;34m\u001B[0m\u001B[0;34m\u001B[0m\u001B[0m\n",
      "\u001B[0;32m~/anaconda3/envs/Geometric/lib/python3.8/site-packages/torch/nn/modules/module.py\u001B[0m in \u001B[0;36m_call_impl\u001B[0;34m(self, *input, **kwargs)\u001B[0m\n\u001B[1;32m   1108\u001B[0m         if not (self._backward_hooks or self._forward_hooks or self._forward_pre_hooks or _global_backward_hooks\n\u001B[1;32m   1109\u001B[0m                 or _global_forward_hooks or _global_forward_pre_hooks):\n\u001B[0;32m-> 1110\u001B[0;31m             \u001B[0;32mreturn\u001B[0m \u001B[0mforward_call\u001B[0m\u001B[0;34m(\u001B[0m\u001B[0;34m*\u001B[0m\u001B[0minput\u001B[0m\u001B[0;34m,\u001B[0m \u001B[0;34m**\u001B[0m\u001B[0mkwargs\u001B[0m\u001B[0;34m)\u001B[0m\u001B[0;34m\u001B[0m\u001B[0;34m\u001B[0m\u001B[0m\n\u001B[0m\u001B[1;32m   1111\u001B[0m         \u001B[0;31m# Do not call functions when jit is used\u001B[0m\u001B[0;34m\u001B[0m\u001B[0;34m\u001B[0m\u001B[0;34m\u001B[0m\u001B[0m\n\u001B[1;32m   1112\u001B[0m         \u001B[0mfull_backward_hooks\u001B[0m\u001B[0;34m,\u001B[0m \u001B[0mnon_full_backward_hooks\u001B[0m \u001B[0;34m=\u001B[0m \u001B[0;34m[\u001B[0m\u001B[0;34m]\u001B[0m\u001B[0;34m,\u001B[0m \u001B[0;34m[\u001B[0m\u001B[0;34m]\u001B[0m\u001B[0;34m\u001B[0m\u001B[0;34m\u001B[0m\u001B[0m\n",
      "\u001B[0;32m~/anaconda3/envs/Geometric/lib/python3.8/site-packages/torch_geometric/nn/dense/linear.py\u001B[0m in \u001B[0;36mforward\u001B[0;34m(self, x)\u001B[0m\n\u001B[1;32m    116\u001B[0m             \u001B[0mx\u001B[0m \u001B[0;34m(\u001B[0m\u001B[0mTensor\u001B[0m\u001B[0;34m)\u001B[0m\u001B[0;34m:\u001B[0m \u001B[0mThe\u001B[0m \u001B[0mfeatures\u001B[0m\u001B[0;34m.\u001B[0m\u001B[0;34m\u001B[0m\u001B[0;34m\u001B[0m\u001B[0m\n\u001B[1;32m    117\u001B[0m         \"\"\"\n\u001B[0;32m--> 118\u001B[0;31m         \u001B[0;32mreturn\u001B[0m \u001B[0mF\u001B[0m\u001B[0;34m.\u001B[0m\u001B[0mlinear\u001B[0m\u001B[0;34m(\u001B[0m\u001B[0mx\u001B[0m\u001B[0;34m,\u001B[0m \u001B[0mself\u001B[0m\u001B[0;34m.\u001B[0m\u001B[0mweight\u001B[0m\u001B[0;34m,\u001B[0m \u001B[0mself\u001B[0m\u001B[0;34m.\u001B[0m\u001B[0mbias\u001B[0m\u001B[0;34m)\u001B[0m\u001B[0;34m\u001B[0m\u001B[0;34m\u001B[0m\u001B[0m\n\u001B[0m\u001B[1;32m    119\u001B[0m \u001B[0;34m\u001B[0m\u001B[0m\n\u001B[1;32m    120\u001B[0m     \u001B[0;34m@\u001B[0m\u001B[0mtorch\u001B[0m\u001B[0;34m.\u001B[0m\u001B[0mno_grad\u001B[0m\u001B[0;34m(\u001B[0m\u001B[0;34m)\u001B[0m\u001B[0;34m\u001B[0m\u001B[0;34m\u001B[0m\u001B[0m\n",
      "\u001B[0;31mRuntimeError\u001B[0m: mat1 and mat2 shapes cannot be multiplied (6237x256 and 64x256)"
     ]
    }
   ],
   "source": [
    "fractalnet_transformer_results = train_model(model, model_name, epochs, train_loader, valid_loader, test_loader, optimizer, criterion, scheduler, device, LABEL_INDEX, Z_ONE_HOT_DIM)"
   ],
   "metadata": {
    "collapsed": false,
    "pycharm": {
     "name": "#%%\n"
    }
   }
  },
  {
   "cell_type": "markdown",
   "source": [
    "# TRAINING SAME NET AS FRACTAL BUT WITHOUT SUBNODES"
   ],
   "metadata": {
    "collapsed": false,
    "pycharm": {
     "name": "#%% md\n"
    }
   }
  },
  {
   "cell_type": "code",
   "execution_count": 5,
   "outputs": [
    {
     "name": "stderr",
     "output_type": "stream",
     "text": [
      "/home/tin/Documents/GitHub/FractalMessagePassing/train.py:23: UserWarning: Using non-standard permutation since permute.pt does not exist.\n",
      "  warn(\"Using non-standard permutation since permute.pt does not exist.\")\n"
     ]
    }
   ],
   "source": [
    "model_name = 'Net'\n",
    "model = Net(node_features,\n",
    "            edge_features,\n",
    "            hidden_features,\n",
    "            out_features,\n",
    "            depth=3,\n",
    "            pool='add').to(device)\n",
    "optimizer = torch.optim.Adam(model.parameters(), lr=0.0001)\n",
    "criterion = nn.MSELoss()\n",
    "scheduler = torch.optim.lr_scheduler.ReduceLROnPlateau(optimizer, mode='min', factor=0.7, patience=3, verbose=True)\n",
    "train, valid, test = get_qm9(\"data/qm9\",\n",
    "                             device=device,\n",
    "                             LABEL_INDEX=LABEL_INDEX,\n",
    "                             transform=None)\n",
    "train_loader = DataLoader(train, batch_size=batch_size, shuffle=True)\n",
    "valid_loader = DataLoader(valid, batch_size=32, shuffle=False)\n",
    "test_loader = DataLoader(test, batch_size=32, shuffle=False)"
   ],
   "metadata": {
    "collapsed": false,
    "pycharm": {
     "name": "#%%\n"
    }
   }
  },
  {
   "cell_type": "code",
   "execution_count": 6,
   "outputs": [
    {
     "name": "stdout",
     "output_type": "stream",
     "text": [
      "Total number of parameters: 74945\n"
     ]
    },
    {
     "data": {
      "text/plain": "  0%|          | 0/55 [00:00<?, ?it/s]",
      "application/vnd.jupyter.widget-view+json": {
       "version_major": 2,
       "version_minor": 0,
       "model_id": "50b879cf71e14549a35a45afb745747b"
      }
     },
     "metadata": {},
     "output_type": "display_data"
    },
    {
     "data": {
      "text/plain": "  0%|          | 0/3125 [00:00<?, ?it/s]",
      "application/vnd.jupyter.widget-view+json": {
       "version_major": 2,
       "version_minor": 0,
       "model_id": "65c54e7302584331a4201d6587b9db64"
      }
     },
     "metadata": {},
     "output_type": "display_data"
    },
    {
     "name": "stdout",
     "output_type": "stream",
     "text": [
      "ptr cpu\n",
      "edge_attr cpu\n",
      "edge_index cpu\n",
      "pos cpu\n",
      "idx cpu\n",
      "batch cpu\n",
      "x cpu\n",
      "z cpu\n",
      "y cpu\n",
      "ptr cpu\n",
      "edge_attr cpu\n",
      "edge_index cpu\n",
      "pos cpu\n",
      "idx cpu\n",
      "batch cpu\n",
      "x cpu\n",
      "z cpu\n",
      "y cpu\n",
      "ptr cpu\n",
      "edge_attr cpu\n",
      "edge_index cpu\n",
      "pos cpu\n",
      "idx cpu\n",
      "batch cpu\n",
      "x cpu\n",
      "z cpu\n",
      "y cpu\n",
      "ptr cpu\n",
      "edge_attr cpu\n",
      "edge_index cpu\n",
      "pos cpu\n",
      "idx cpu\n",
      "batch cpu\n",
      "x cpu\n",
      "z cpu\n",
      "y cpu\n",
      "ptr cpu\n",
      "edge_attr cpu\n",
      "edge_index cpu\n",
      "pos cpu\n",
      "idx cpu\n",
      "batch cpu\n",
      "x cpu\n",
      "z cpu\n",
      "y cpu\n",
      "ptr cpu\n",
      "edge_attr cpu\n",
      "edge_index cpu\n",
      "pos cpu\n",
      "idx cpu\n",
      "batch cpu\n",
      "x cpu\n",
      "z cpu\n",
      "y cpu\n",
      "ptr cpu\n",
      "edge_attr cpu\n",
      "edge_index cpu\n",
      "pos cpu\n",
      "idx cpu\n",
      "batch cpu\n",
      "x cpu\n",
      "z cpu\n",
      "y cpu\n",
      "ptr cpu\n",
      "edge_attr cpu\n",
      "edge_index cpu\n",
      "pos cpu\n",
      "idx cpu\n",
      "batch cpu\n",
      "x cpu\n",
      "z cpu\n",
      "y cpu\n",
      "ptr cpu\n",
      "edge_attr cpu\n",
      "edge_index cpu\n",
      "pos cpu\n",
      "idx cpu\n",
      "batch cpu\n",
      "x cpu\n",
      "z cpu\n",
      "y cpu\n",
      "ptr cpu\n",
      "edge_attr cpu\n",
      "edge_index cpu\n",
      "pos cpu\n",
      "idx cpu\n",
      "batch cpu\n",
      "x cpu\n",
      "z cpu\n",
      "y cpu\n",
      "ptr cpu\n",
      "edge_attr cpu\n",
      "edge_index cpu\n",
      "pos cpu\n",
      "idx cpu\n",
      "batch cpu\n",
      "x cpu\n",
      "z cpu\n",
      "y cpu\n",
      "ptr cpu\n",
      "edge_attr cpu\n",
      "edge_index cpu\n",
      "pos cpu\n",
      "idx cpu\n",
      "batch cpu\n",
      "x cpu\n",
      "z cpu\n",
      "y cpu\n",
      "ptr cpu\n",
      "edge_attr cpu\n",
      "edge_index cpu\n",
      "pos cpu\n",
      "idx cpu\n",
      "batch cpu\n",
      "x cpu\n",
      "z cpu\n",
      "y cpu\n",
      "ptr cpu\n",
      "edge_attr cpu\n",
      "edge_index cpu\n",
      "pos cpu\n",
      "idx cpu\n",
      "batch cpu\n",
      "x cpu\n",
      "z cpu\n",
      "y cpu\n",
      "ptr cpu\n",
      "edge_attr cpu\n",
      "edge_index cpu\n",
      "pos cpu\n",
      "idx cpu\n",
      "batch cpu\n",
      "x cpu\n",
      "z cpu\n",
      "y cpu\n",
      "ptr cpu\n",
      "edge_attr cpu\n",
      "edge_index cpu\n",
      "pos cpu\n",
      "idx cpu\n",
      "batch cpu\n",
      "x cpu\n",
      "z cpu\n",
      "y cpu\n",
      "ptr cpu\n",
      "edge_attr cpu\n",
      "edge_index cpu\n",
      "pos cpu\n",
      "idx cpu\n",
      "batch cpu\n",
      "x cpu\n",
      "z cpu\n",
      "y cpu\n",
      "ptr cpu\n",
      "edge_attr cpu\n",
      "edge_index cpu\n",
      "pos cpu\n",
      "idx cpu\n",
      "batch cpu\n",
      "x cpu\n",
      "z cpu\n",
      "y cpu\n",
      "ptr cpu\n",
      "edge_attr cpu\n",
      "edge_index cpu\n",
      "pos cpu\n",
      "idx cpu\n",
      "batch cpu\n",
      "x cpu\n",
      "z cpu\n",
      "y cpu\n",
      "ptr cpu\n",
      "edge_attr cpu\n",
      "edge_index cpu\n",
      "pos cpu\n",
      "idx cpu\n",
      "batch cpu\n",
      "x cpu\n",
      "z cpu\n",
      "y cpu\n",
      "ptr cpu\n",
      "edge_attr cpu\n",
      "edge_index cpu\n",
      "pos cpu\n",
      "idx cpu\n",
      "batch cpu\n",
      "x cpu\n",
      "z cpu\n",
      "y cpu\n",
      "ptr cpu\n",
      "edge_attr cpu\n",
      "edge_index cpu\n",
      "pos cpu\n",
      "idx cpu\n",
      "batch cpu\n",
      "x cpu\n",
      "z cpu\n",
      "y cpu\n",
      "ptr cpu\n",
      "edge_attr cpu\n",
      "edge_index cpu\n",
      "pos cpu\n",
      "idx cpu\n",
      "batch cpu\n",
      "x cpu\n",
      "z cpu\n",
      "y cpu\n",
      "ptr cpu\n",
      "edge_attr cpu\n",
      "edge_index cpu\n",
      "pos cpu\n",
      "idx cpu\n",
      "batch cpu\n",
      "x cpu\n",
      "z cpu\n",
      "y cpu\n",
      "ptr cpu\n",
      "edge_attr cpu\n",
      "edge_index cpu\n",
      "pos cpu\n",
      "idx cpu\n",
      "batch cpu\n",
      "x cpu\n",
      "z cpu\n",
      "y cpu\n",
      "ptr cpu\n",
      "edge_attr cpu\n",
      "edge_index cpu\n",
      "pos cpu\n",
      "idx cpu\n",
      "batch cpu\n",
      "x cpu\n",
      "z cpu\n",
      "y cpu\n",
      "ptr cpu\n",
      "edge_attr cpu\n",
      "edge_index cpu\n",
      "pos cpu\n",
      "idx cpu\n",
      "batch cpu\n",
      "x cpu\n",
      "z cpu\n",
      "y cpu\n",
      "ptr cpu\n",
      "edge_attr cpu\n",
      "edge_index cpu\n",
      "pos cpu\n",
      "idx cpu\n",
      "batch cpu\n",
      "x cpu\n",
      "z cpu\n",
      "y cpu\n",
      "ptr cpu\n",
      "edge_attr cpu\n",
      "edge_index cpu\n",
      "pos cpu\n",
      "idx cpu\n",
      "batch cpu\n",
      "x cpu\n",
      "z cpu\n",
      "y cpu\n",
      "ptr cpu\n",
      "edge_attr cpu\n",
      "edge_index cpu\n",
      "pos cpu\n",
      "idx cpu\n",
      "batch cpu\n",
      "x cpu\n",
      "z cpu\n",
      "y cpu\n",
      "ptr cpu\n",
      "edge_attr cpu\n",
      "edge_index cpu\n",
      "pos cpu\n",
      "idx cpu\n",
      "batch cpu\n",
      "x cpu\n",
      "z cpu\n",
      "y cpu\n",
      "ptr cpu\n",
      "edge_attr cpu\n",
      "edge_index cpu\n",
      "pos cpu\n",
      "idx cpu\n",
      "batch cpu\n",
      "x cpu\n",
      "z cpu\n",
      "y cpu\n",
      "ptr cpu\n",
      "edge_attr cpu\n",
      "edge_index cpu\n",
      "pos cpu\n",
      "idx cpu\n",
      "batch cpu\n",
      "x cpu\n",
      "z cpu\n",
      "y cpu\n",
      "ptr cpu\n",
      "edge_attr cpu\n",
      "edge_index cpu\n",
      "pos cpu\n",
      "idx cpu\n",
      "batch cpu\n",
      "x cpu\n",
      "z cpu\n",
      "y cpu\n",
      "ptr cpu\n",
      "edge_attr cpu\n",
      "edge_index cpu\n",
      "pos cpu\n",
      "idx cpu\n",
      "batch cpu\n",
      "x cpu\n",
      "z cpu\n",
      "y cpu\n",
      "ptr cpu\n",
      "edge_attr cpu\n",
      "edge_index cpu\n",
      "pos cpu\n",
      "idx cpu\n",
      "batch cpu\n",
      "x cpu\n",
      "z cpu\n",
      "y cpu\n",
      "ptr cpu\n",
      "edge_attr cpu\n",
      "edge_index cpu\n",
      "pos cpu\n",
      "idx cpu\n",
      "batch cpu\n",
      "x cpu\n",
      "z cpu\n",
      "y cpu\n",
      "ptr cpu\n",
      "edge_attr cpu\n",
      "edge_index cpu\n",
      "pos cpu\n",
      "idx cpu\n",
      "batch cpu\n",
      "x cpu\n",
      "z cpu\n",
      "y cpu\n",
      "ptr cpu\n",
      "edge_attr cpu\n",
      "edge_index cpu\n",
      "pos cpu\n",
      "idx cpu\n",
      "batch cpu\n",
      "x cpu\n",
      "z cpu\n",
      "y cpu\n",
      "ptr cpu\n",
      "edge_attr cpu\n",
      "edge_index cpu\n",
      "pos cpu\n",
      "idx cpu\n",
      "batch cpu\n",
      "x cpu\n",
      "z cpu\n",
      "y cpu\n",
      "ptr cpu\n",
      "edge_attr cpu\n",
      "edge_index cpu\n",
      "pos cpu\n",
      "idx cpu\n",
      "batch cpu\n",
      "x cpu\n",
      "z cpu\n",
      "y cpu\n",
      "ptr cpu\n",
      "edge_attr cpu\n",
      "edge_index cpu\n",
      "pos cpu\n",
      "idx cpu\n",
      "batch cpu\n",
      "x cpu\n",
      "z cpu\n",
      "y cpu\n",
      "ptr cpu\n",
      "edge_attr cpu\n",
      "edge_index cpu\n",
      "pos cpu\n",
      "idx cpu\n",
      "batch cpu\n",
      "x cpu\n",
      "z cpu\n",
      "y cpu\n",
      "ptr cpu\n",
      "edge_attr cpu\n",
      "edge_index cpu\n",
      "pos cpu\n",
      "idx cpu\n",
      "batch cpu\n",
      "x cpu\n",
      "z cpu\n",
      "y cpu\n",
      "ptr cpu\n",
      "edge_attr cpu\n",
      "edge_index cpu\n",
      "pos cpu\n",
      "idx cpu\n",
      "batch cpu\n",
      "x cpu\n",
      "z cpu\n",
      "y cpu\n",
      "ptr cpu\n",
      "edge_attr cpu\n",
      "edge_index cpu\n",
      "pos cpu\n",
      "idx cpu\n",
      "batch cpu\n",
      "x cpu\n",
      "z cpu\n",
      "y cpu\n",
      "ptr cpu\n",
      "edge_attr cpu\n",
      "edge_index cpu\n",
      "pos cpu\n",
      "idx cpu\n",
      "batch cpu\n",
      "x cpu\n",
      "z cpu\n",
      "y cpu\n",
      "ptr cpu\n",
      "edge_attr cpu\n",
      "edge_index cpu\n",
      "pos cpu\n",
      "idx cpu\n",
      "batch cpu\n",
      "x cpu\n",
      "z cpu\n",
      "y cpu\n",
      "ptr cpu\n",
      "edge_attr cpu\n",
      "edge_index cpu\n",
      "pos cpu\n",
      "idx cpu\n",
      "batch cpu\n",
      "x cpu\n",
      "z cpu\n",
      "y cpu\n",
      "ptr cpu\n",
      "edge_attr cpu\n",
      "edge_index cpu\n",
      "pos cpu\n",
      "idx cpu\n",
      "batch cpu\n",
      "x cpu\n",
      "z cpu\n",
      "y cpu\n",
      "ptr cpu\n",
      "edge_attr cpu\n",
      "edge_index cpu\n",
      "pos cpu\n",
      "idx cpu\n",
      "batch cpu\n",
      "x cpu\n",
      "z cpu\n",
      "y cpu\n",
      "ptr cpu\n",
      "edge_attr cpu\n",
      "edge_index cpu\n",
      "pos cpu\n",
      "idx cpu\n",
      "batch cpu\n",
      "x cpu\n",
      "z cpu\n",
      "y cpu\n",
      "ptr cpu\n",
      "edge_attr cpu\n",
      "edge_index cpu\n",
      "pos cpu\n",
      "idx cpu\n",
      "batch cpu\n",
      "x cpu\n",
      "z cpu\n",
      "y cpu\n",
      "ptr cpu\n",
      "edge_attr cpu\n",
      "edge_index cpu\n",
      "pos cpu\n",
      "idx cpu\n",
      "batch cpu\n",
      "x cpu\n",
      "z cpu\n",
      "y cpu\n",
      "ptr cpu\n",
      "edge_attr cpu\n",
      "edge_index cpu\n",
      "pos cpu\n",
      "idx cpu\n",
      "batch cpu\n",
      "x cpu\n",
      "z cpu\n",
      "y cpu\n",
      "ptr cpu\n",
      "edge_attr cpu\n",
      "edge_index cpu\n",
      "pos cpu\n",
      "idx cpu\n",
      "batch cpu\n",
      "x cpu\n",
      "z cpu\n",
      "y cpu\n",
      "ptr cpu\n",
      "edge_attr cpu\n",
      "edge_index cpu\n",
      "pos cpu\n",
      "idx cpu\n",
      "batch cpu\n",
      "x cpu\n",
      "z cpu\n",
      "y cpu\n",
      "ptr cpu\n",
      "edge_attr cpu\n",
      "edge_index cpu\n",
      "pos cpu\n",
      "idx cpu\n",
      "batch cpu\n",
      "x cpu\n",
      "z cpu\n",
      "y cpu\n",
      "ptr cpu\n",
      "edge_attr cpu\n",
      "edge_index cpu\n",
      "pos cpu\n",
      "idx cpu\n",
      "batch cpu\n",
      "x cpu\n",
      "z cpu\n",
      "y cpu\n",
      "ptr cpu\n",
      "edge_attr cpu\n",
      "edge_index cpu\n",
      "pos cpu\n",
      "idx cpu\n",
      "batch cpu\n",
      "x cpu\n",
      "z cpu\n",
      "y cpu\n",
      "ptr cpu\n",
      "edge_attr cpu\n",
      "edge_index cpu\n",
      "pos cpu\n",
      "idx cpu\n",
      "batch cpu\n",
      "x cpu\n",
      "z cpu\n",
      "y cpu\n",
      "ptr cpu\n",
      "edge_attr cpu\n",
      "edge_index cpu\n",
      "pos cpu\n",
      "idx cpu\n",
      "batch cpu\n",
      "x cpu\n",
      "z cpu\n",
      "y cpu\n",
      "ptr cpu\n",
      "edge_attr cpu\n",
      "edge_index cpu\n",
      "pos cpu\n",
      "idx cpu\n",
      "batch cpu\n",
      "x cpu\n",
      "z cpu\n",
      "y cpu\n",
      "ptr cpu\n",
      "edge_attr cpu\n",
      "edge_index cpu\n",
      "pos cpu\n",
      "idx cpu\n",
      "batch cpu\n",
      "x cpu\n",
      "z cpu\n",
      "y cpu\n",
      "ptr cpu\n",
      "edge_attr cpu\n",
      "edge_index cpu\n",
      "pos cpu\n",
      "idx cpu\n",
      "batch cpu\n",
      "x cpu\n",
      "z cpu\n",
      "y cpu\n",
      "ptr cpu\n",
      "edge_attr cpu\n",
      "edge_index cpu\n",
      "pos cpu\n",
      "idx cpu\n",
      "batch cpu\n",
      "x cpu\n",
      "z cpu\n",
      "y cpu\n",
      "ptr cpu\n",
      "edge_attr cpu\n",
      "edge_index cpu\n",
      "pos cpu\n",
      "idx cpu\n",
      "batch cpu\n",
      "x cpu\n",
      "z cpu\n",
      "y cpu\n",
      "ptr cpu\n",
      "edge_attr cpu\n",
      "edge_index cpu\n",
      "pos cpu\n",
      "idx cpu\n",
      "batch cpu\n",
      "x cpu\n",
      "z cpu\n",
      "y cpu\n",
      "ptr cpu\n",
      "edge_attr cpu\n",
      "edge_index cpu\n",
      "pos cpu\n",
      "idx cpu\n",
      "batch cpu\n",
      "x cpu\n",
      "z cpu\n",
      "y cpu\n",
      "ptr cpu\n",
      "edge_attr cpu\n",
      "edge_index cpu\n",
      "pos cpu\n",
      "idx cpu\n",
      "batch cpu\n",
      "x cpu\n",
      "z cpu\n",
      "y cpu\n",
      "ptr cpu\n",
      "edge_attr cpu\n",
      "edge_index cpu\n",
      "pos cpu\n",
      "idx cpu\n",
      "batch cpu\n",
      "x cpu\n",
      "z cpu\n",
      "y cpu\n",
      "ptr cpu\n",
      "edge_attr cpu\n",
      "edge_index cpu\n",
      "pos cpu\n",
      "idx cpu\n",
      "batch cpu\n",
      "x cpu\n",
      "z cpu\n",
      "y cpu\n",
      "ptr cpu\n",
      "edge_attr cpu\n",
      "edge_index cpu\n",
      "pos cpu\n",
      "idx cpu\n",
      "batch cpu\n",
      "x cpu\n",
      "z cpu\n",
      "y cpu\n",
      "ptr cpu\n",
      "edge_attr cpu\n",
      "edge_index cpu\n",
      "pos cpu\n",
      "idx cpu\n",
      "batch cpu\n",
      "x cpu\n",
      "z cpu\n",
      "y cpu\n",
      "ptr cpu\n",
      "edge_attr cpu\n",
      "edge_index cpu\n",
      "pos cpu\n",
      "idx cpu\n",
      "batch cpu\n",
      "x cpu\n",
      "z cpu\n",
      "y cpu\n",
      "ptr cpu\n",
      "edge_attr cpu\n",
      "edge_index cpu\n",
      "pos cpu\n",
      "idx cpu\n",
      "batch cpu\n",
      "x cpu\n",
      "z cpu\n",
      "y cpu\n",
      "ptr cpu\n",
      "edge_attr cpu\n",
      "edge_index cpu\n",
      "pos cpu\n",
      "idx cpu\n",
      "batch cpu\n",
      "x cpu\n",
      "z cpu\n",
      "y cpu\n",
      "ptr cpu\n",
      "edge_attr cpu\n",
      "edge_index cpu\n",
      "pos cpu\n",
      "idx cpu\n",
      "batch cpu\n",
      "x cpu\n",
      "z cpu\n",
      "y cpu\n",
      "ptr cpu\n",
      "edge_attr cpu\n",
      "edge_index cpu\n",
      "pos cpu\n",
      "idx cpu\n",
      "batch cpu\n",
      "x cpu\n",
      "z cpu\n",
      "y cpu\n",
      "ptr cpu\n",
      "edge_attr cpu\n",
      "edge_index cpu\n",
      "pos cpu\n",
      "idx cpu\n",
      "batch cpu\n",
      "x cpu\n",
      "z cpu\n",
      "y cpu\n",
      "ptr cpu\n",
      "edge_attr cpu\n",
      "edge_index cpu\n",
      "pos cpu\n",
      "idx cpu\n",
      "batch cpu\n",
      "x cpu\n",
      "z cpu\n",
      "y cpu\n",
      "ptr cpu\n",
      "edge_attr cpu\n",
      "edge_index cpu\n",
      "pos cpu\n",
      "idx cpu\n",
      "batch cpu\n",
      "x cpu\n",
      "z cpu\n",
      "y cpu\n",
      "ptr cpu\n",
      "edge_attr cpu\n",
      "edge_index cpu\n",
      "pos cpu\n",
      "idx cpu\n",
      "batch cpu\n",
      "x cpu\n",
      "z cpu\n",
      "y cpu\n",
      "ptr cpu\n",
      "edge_attr cpu\n",
      "edge_index cpu\n",
      "pos cpu\n",
      "idx cpu\n",
      "batch cpu\n",
      "x cpu\n",
      "z cpu\n",
      "y cpu\n",
      "ptr cpu\n",
      "edge_attr cpu\n",
      "edge_index cpu\n",
      "pos cpu\n",
      "idx cpu\n",
      "batch cpu\n",
      "x cpu\n",
      "z cpu\n",
      "y cpu\n",
      "ptr cpu\n",
      "edge_attr cpu\n",
      "edge_index cpu\n",
      "pos cpu\n",
      "idx cpu\n",
      "batch cpu\n",
      "x cpu\n",
      "z cpu\n",
      "y cpu\n",
      "ptr cpu\n",
      "edge_attr cpu\n",
      "edge_index cpu\n",
      "pos cpu\n",
      "idx cpu\n",
      "batch cpu\n",
      "x cpu\n",
      "z cpu\n",
      "y cpu\n",
      "ptr cpu\n",
      "edge_attr cpu\n",
      "edge_index cpu\n",
      "pos cpu\n",
      "idx cpu\n",
      "batch cpu\n",
      "x cpu\n",
      "z cpu\n",
      "y cpu\n",
      "ptr cpu\n",
      "edge_attr cpu\n",
      "edge_index cpu\n",
      "pos cpu\n",
      "idx cpu\n",
      "batch cpu\n",
      "x cpu\n",
      "z cpu\n",
      "y cpu\n",
      "ptr cpu\n",
      "edge_attr cpu\n",
      "edge_index cpu\n",
      "pos cpu\n",
      "idx cpu\n",
      "batch cpu\n",
      "x cpu\n",
      "z cpu\n",
      "y cpu\n",
      "ptr cpu\n",
      "edge_attr cpu\n",
      "edge_index cpu\n",
      "pos cpu\n",
      "idx cpu\n",
      "batch cpu\n",
      "x cpu\n",
      "z cpu\n",
      "y cpu\n",
      "ptr cpu\n",
      "edge_attr cpu\n",
      "edge_index cpu\n",
      "pos cpu\n",
      "idx cpu\n",
      "batch cpu\n",
      "x cpu\n",
      "z cpu\n",
      "y cpu\n",
      "ptr cpu\n",
      "edge_attr cpu\n",
      "edge_index cpu\n",
      "pos cpu\n",
      "idx cpu\n",
      "batch cpu\n",
      "x cpu\n",
      "z cpu\n",
      "y cpu\n",
      "ptr cpu\n",
      "edge_attr cpu\n",
      "edge_index cpu\n",
      "pos cpu\n",
      "idx cpu\n",
      "batch cpu\n",
      "x cpu\n",
      "z cpu\n",
      "y cpu\n",
      "ptr cpu\n",
      "edge_attr cpu\n",
      "edge_index cpu\n",
      "pos cpu\n",
      "idx cpu\n",
      "batch cpu\n",
      "x cpu\n",
      "z cpu\n",
      "y cpu\n",
      "ptr cpu\n",
      "edge_attr cpu\n",
      "edge_index cpu\n",
      "pos cpu\n",
      "idx cpu\n",
      "batch cpu\n",
      "x cpu\n",
      "z cpu\n",
      "y cpu\n",
      "ptr cpu\n",
      "edge_attr cpu\n",
      "edge_index cpu\n",
      "pos cpu\n",
      "idx cpu\n",
      "batch cpu\n",
      "x cpu\n",
      "z cpu\n",
      "y cpu\n",
      "ptr cpu\n",
      "edge_attr cpu\n",
      "edge_index cpu\n",
      "pos cpu\n",
      "idx cpu\n",
      "batch cpu\n",
      "x cpu\n",
      "z cpu\n",
      "y cpu\n",
      "ptr cpu\n",
      "edge_attr cpu\n",
      "edge_index cpu\n",
      "pos cpu\n",
      "idx cpu\n",
      "batch cpu\n",
      "x cpu\n",
      "z cpu\n",
      "y cpu\n",
      "ptr cpu\n",
      "edge_attr cpu\n",
      "edge_index cpu\n",
      "pos cpu\n",
      "idx cpu\n",
      "batch cpu\n",
      "x cpu\n",
      "z cpu\n",
      "y cpu\n",
      "ptr cpu\n",
      "edge_attr cpu\n",
      "edge_index cpu\n",
      "pos cpu\n",
      "idx cpu\n",
      "batch cpu\n",
      "x cpu\n",
      "z cpu\n",
      "y cpu\n",
      "ptr cpu\n",
      "edge_attr cpu\n",
      "edge_index cpu\n",
      "pos cpu\n",
      "idx cpu\n",
      "batch cpu\n",
      "x cpu\n",
      "z cpu\n",
      "y cpu\n",
      "ptr cpu\n",
      "edge_attr cpu\n",
      "edge_index cpu\n",
      "pos cpu\n",
      "idx cpu\n",
      "batch cpu\n",
      "x cpu\n",
      "z cpu\n",
      "y cpu\n",
      "ptr cpu\n",
      "edge_attr cpu\n",
      "edge_index cpu\n",
      "pos cpu\n",
      "idx cpu\n",
      "batch cpu\n",
      "x cpu\n",
      "z cpu\n",
      "y cpu\n",
      "ptr cpu\n",
      "edge_attr cpu\n",
      "edge_index cpu\n",
      "pos cpu\n",
      "idx cpu\n",
      "batch cpu\n",
      "x cpu\n",
      "z cpu\n",
      "y cpu\n",
      "ptr cpu\n",
      "edge_attr cpu\n",
      "edge_index cpu\n",
      "pos cpu\n",
      "idx cpu\n",
      "batch cpu\n",
      "x cpu\n",
      "z cpu\n",
      "y cpu\n",
      "ptr cpu\n",
      "edge_attr cpu\n",
      "edge_index cpu\n",
      "pos cpu\n",
      "idx cpu\n",
      "batch cpu\n",
      "x cpu\n",
      "z cpu\n",
      "y cpu\n",
      "ptr cpu\n",
      "edge_attr cpu\n",
      "edge_index cpu\n",
      "pos cpu\n",
      "idx cpu\n",
      "batch cpu\n",
      "x cpu\n",
      "z cpu\n",
      "y cpu\n",
      "ptr cpu\n",
      "edge_attr cpu\n",
      "edge_index cpu\n",
      "pos cpu\n",
      "idx cpu\n",
      "batch cpu\n",
      "x cpu\n",
      "z cpu\n",
      "y cpu\n",
      "ptr cpu\n",
      "edge_attr cpu\n",
      "edge_index cpu\n",
      "pos cpu\n",
      "idx cpu\n",
      "batch cpu\n",
      "x cpu\n",
      "z cpu\n",
      "y cpu\n",
      "ptr cpu\n",
      "edge_attr cpu\n",
      "edge_index cpu\n",
      "pos cpu\n",
      "idx cpu\n",
      "batch cpu\n",
      "x cpu\n",
      "z cpu\n",
      "y cpu\n",
      "ptr cpu\n",
      "edge_attr cpu\n",
      "edge_index cpu\n",
      "pos cpu\n",
      "idx cpu\n",
      "batch cpu\n",
      "x cpu\n",
      "z cpu\n",
      "y cpu\n",
      "ptr cpu\n",
      "edge_attr cpu\n",
      "edge_index cpu\n",
      "pos cpu\n",
      "idx cpu\n",
      "batch cpu\n",
      "x cpu\n",
      "z cpu\n",
      "y cpu\n",
      "ptr cpu\n",
      "edge_attr cpu\n",
      "edge_index cpu\n",
      "pos cpu\n",
      "idx cpu\n",
      "batch cpu\n",
      "x cpu\n",
      "z cpu\n",
      "y cpu\n",
      "ptr cpu\n",
      "edge_attr cpu\n",
      "edge_index cpu\n",
      "pos cpu\n",
      "idx cpu\n",
      "batch cpu\n",
      "x cpu\n",
      "z cpu\n",
      "y cpu\n",
      "ptr cpu\n",
      "edge_attr cpu\n",
      "edge_index cpu\n",
      "pos cpu\n",
      "idx cpu\n",
      "batch cpu\n",
      "x cpu\n",
      "z cpu\n",
      "y cpu\n",
      "ptr cpu\n",
      "edge_attr cpu\n",
      "edge_index cpu\n",
      "pos cpu\n",
      "idx cpu\n",
      "batch cpu\n",
      "x cpu\n",
      "z cpu\n",
      "y cpu\n",
      "ptr cpu\n",
      "edge_attr cpu\n",
      "edge_index cpu\n",
      "pos cpu\n",
      "idx cpu\n",
      "batch cpu\n",
      "x cpu\n",
      "z cpu\n",
      "y cpu\n",
      "ptr cpu\n",
      "edge_attr cpu\n",
      "edge_index cpu\n",
      "pos cpu\n",
      "idx cpu\n",
      "batch cpu\n",
      "x cpu\n",
      "z cpu\n",
      "y cpu\n",
      "ptr cpu\n",
      "edge_attr cpu\n",
      "edge_index cpu\n",
      "pos cpu\n",
      "idx cpu\n",
      "batch cpu\n",
      "x cpu\n",
      "z cpu\n",
      "y cpu\n",
      "ptr cpu\n",
      "edge_attr cpu\n",
      "edge_index cpu\n",
      "pos cpu\n",
      "idx cpu\n",
      "batch cpu\n",
      "x cpu\n",
      "z cpu\n",
      "y cpu\n",
      "ptr cpu\n",
      "edge_attr cpu\n",
      "edge_index cpu\n",
      "pos cpu\n",
      "idx cpu\n",
      "batch cpu\n",
      "x cpu\n",
      "z cpu\n",
      "y cpu\n",
      "ptr cpu\n",
      "edge_attr cpu\n",
      "edge_index cpu\n",
      "pos cpu\n",
      "idx cpu\n",
      "batch cpu\n",
      "x cpu\n",
      "z cpu\n",
      "y cpu\n",
      "ptr cpu\n",
      "edge_attr cpu\n",
      "edge_index cpu\n",
      "pos cpu\n",
      "idx cpu\n",
      "batch cpu\n",
      "x cpu\n",
      "z cpu\n",
      "y cpu\n",
      "ptr cpu\n",
      "edge_attr cpu\n",
      "edge_index cpu\n",
      "pos cpu\n",
      "idx cpu\n",
      "batch cpu\n",
      "x cpu\n",
      "z cpu\n",
      "y cpu\n",
      "ptr cpu\n",
      "edge_attr cpu\n",
      "edge_index cpu\n",
      "pos cpu\n",
      "idx cpu\n",
      "batch cpu\n",
      "x cpu\n",
      "z cpu\n",
      "y cpu\n",
      "ptr cpu\n",
      "edge_attr cpu\n",
      "edge_index cpu\n",
      "pos cpu\n",
      "idx cpu\n",
      "batch cpu\n",
      "x cpu\n",
      "z cpu\n",
      "y cpu\n",
      "ptr cpu\n",
      "edge_attr cpu\n",
      "edge_index cpu\n",
      "pos cpu\n",
      "idx cpu\n",
      "batch cpu\n",
      "x cpu\n",
      "z cpu\n",
      "y cpu\n",
      "ptr cpu\n",
      "edge_attr cpu\n",
      "edge_index cpu\n",
      "pos cpu\n",
      "idx cpu\n",
      "batch cpu\n",
      "x cpu\n",
      "z cpu\n",
      "y cpu\n",
      "ptr cpu\n",
      "edge_attr cpu\n",
      "edge_index cpu\n",
      "pos cpu\n",
      "idx cpu\n",
      "batch cpu\n",
      "x cpu\n",
      "z cpu\n",
      "y cpu\n",
      "ptr cpu\n",
      "edge_attr cpu\n",
      "edge_index cpu\n",
      "pos cpu\n",
      "idx cpu\n",
      "batch cpu\n",
      "x cpu\n",
      "z cpu\n",
      "y cpu\n",
      "ptr cpu\n",
      "edge_attr cpu\n",
      "edge_index cpu\n",
      "pos cpu\n",
      "idx cpu\n",
      "batch cpu\n",
      "x cpu\n",
      "z cpu\n",
      "y cpu\n",
      "ptr cpu\n",
      "edge_attr cpu\n",
      "edge_index cpu\n",
      "pos cpu\n",
      "idx cpu\n",
      "batch cpu\n",
      "x cpu\n",
      "z cpu\n",
      "y cpu\n",
      "ptr cpu\n",
      "edge_attr cpu\n",
      "edge_index cpu\n",
      "pos cpu\n",
      "idx cpu\n",
      "batch cpu\n",
      "x cpu\n",
      "z cpu\n",
      "y cpu\n",
      "ptr cpu\n",
      "edge_attr cpu\n",
      "edge_index cpu\n",
      "pos cpu\n",
      "idx cpu\n",
      "batch cpu\n",
      "x cpu\n",
      "z cpu\n",
      "y cpu\n",
      "ptr cpu\n",
      "edge_attr cpu\n",
      "edge_index cpu\n",
      "pos cpu\n",
      "idx cpu\n",
      "batch cpu\n",
      "x cpu\n",
      "z cpu\n",
      "y cpu\n",
      "ptr cpu\n",
      "edge_attr cpu\n",
      "edge_index cpu\n",
      "pos cpu\n",
      "idx cpu\n",
      "batch cpu\n",
      "x cpu\n",
      "z cpu\n",
      "y cpu\n",
      "ptr cpu\n",
      "edge_attr cpu\n",
      "edge_index cpu\n",
      "pos cpu\n",
      "idx cpu\n",
      "batch cpu\n",
      "x cpu\n",
      "z cpu\n",
      "y cpu\n",
      "ptr cpu\n",
      "edge_attr cpu\n",
      "edge_index cpu\n",
      "pos cpu\n",
      "idx cpu\n",
      "batch cpu\n",
      "x cpu\n",
      "z cpu\n",
      "y cpu\n",
      "ptr cpu\n",
      "edge_attr cpu\n",
      "edge_index cpu\n",
      "pos cpu\n",
      "idx cpu\n",
      "batch cpu\n",
      "x cpu\n",
      "z cpu\n",
      "y cpu\n",
      "ptr cpu\n",
      "edge_attr cpu\n",
      "edge_index cpu\n",
      "pos cpu\n",
      "idx cpu\n",
      "batch cpu\n",
      "x cpu\n",
      "z cpu\n",
      "y cpu\n",
      "ptr cpu\n",
      "edge_attr cpu\n",
      "edge_index cpu\n",
      "pos cpu\n",
      "idx cpu\n",
      "batch cpu\n",
      "x cpu\n",
      "z cpu\n",
      "y cpu\n",
      "ptr cpu\n",
      "edge_attr cpu\n",
      "edge_index cpu\n",
      "pos cpu\n",
      "idx cpu\n",
      "batch cpu\n",
      "x cpu\n",
      "z cpu\n",
      "y cpu\n",
      "ptr cpu\n",
      "edge_attr cpu\n",
      "edge_index cpu\n",
      "pos cpu\n",
      "idx cpu\n",
      "batch cpu\n",
      "x cpu\n",
      "z cpu\n",
      "y cpu\n",
      "ptr cpu\n",
      "edge_attr cpu\n",
      "edge_index cpu\n",
      "pos cpu\n",
      "idx cpu\n",
      "batch cpu\n",
      "x cpu\n",
      "z cpu\n",
      "y cpu\n",
      "ptr cpu\n",
      "edge_attr cpu\n",
      "edge_index cpu\n",
      "pos cpu\n",
      "idx cpu\n",
      "batch cpu\n",
      "x cpu\n",
      "z cpu\n",
      "y cpu\n",
      "ptr cpu\n",
      "edge_attr cpu\n",
      "edge_index cpu\n",
      "pos cpu\n",
      "idx cpu\n",
      "batch cpu\n",
      "x cpu\n",
      "z cpu\n",
      "y cpu\n",
      "ptr cpu\n",
      "edge_attr cpu\n",
      "edge_index cpu\n",
      "pos cpu\n",
      "idx cpu\n",
      "batch cpu\n",
      "x cpu\n",
      "z cpu\n",
      "y cpu\n",
      "ptr cpu\n",
      "edge_attr cpu\n",
      "edge_index cpu\n",
      "pos cpu\n",
      "idx cpu\n",
      "batch cpu\n",
      "x cpu\n",
      "z cpu\n",
      "y cpu\n",
      "ptr cpu\n",
      "edge_attr cpu\n",
      "edge_index cpu\n",
      "pos cpu\n",
      "idx cpu\n",
      "batch cpu\n",
      "x cpu\n",
      "z cpu\n",
      "y cpu\n",
      "ptr cpu\n",
      "edge_attr cpu\n",
      "edge_index cpu\n",
      "pos cpu\n",
      "idx cpu\n",
      "batch cpu\n",
      "x cpu\n",
      "z cpu\n",
      "y cpu\n",
      "ptr cpu\n",
      "edge_attr cpu\n",
      "edge_index cpu\n",
      "pos cpu\n",
      "idx cpu\n",
      "batch cpu\n",
      "x cpu\n",
      "z cpu\n",
      "y cpu\n",
      "ptr cpu\n",
      "edge_attr cpu\n",
      "edge_index cpu\n",
      "pos cpu\n",
      "idx cpu\n",
      "batch cpu\n",
      "x cpu\n",
      "z cpu\n",
      "y cpu\n",
      "ptr cpu\n",
      "edge_attr cpu\n",
      "edge_index cpu\n",
      "pos cpu\n",
      "idx cpu\n",
      "batch cpu\n",
      "x cpu\n",
      "z cpu\n",
      "y cpu\n",
      "ptr cpu\n",
      "edge_attr cpu\n",
      "edge_index cpu\n",
      "pos cpu\n",
      "idx cpu\n",
      "batch cpu\n",
      "x cpu\n",
      "z cpu\n",
      "y cpu\n",
      "ptr cpu\n",
      "edge_attr cpu\n",
      "edge_index cpu\n",
      "pos cpu\n",
      "idx cpu\n",
      "batch cpu\n",
      "x cpu\n",
      "z cpu\n",
      "y cpu\n",
      "ptr cpu\n",
      "edge_attr cpu\n",
      "edge_index cpu\n",
      "pos cpu\n",
      "idx cpu\n",
      "batch cpu\n",
      "x cpu\n",
      "z cpu\n",
      "y cpu\n",
      "ptr cpu\n",
      "edge_attr cpu\n",
      "edge_index cpu\n",
      "pos cpu\n",
      "idx cpu\n",
      "batch cpu\n",
      "x cpu\n",
      "z cpu\n",
      "y cpu\n",
      "ptr cpu\n",
      "edge_attr cpu\n",
      "edge_index cpu\n",
      "pos cpu\n",
      "idx cpu\n",
      "batch cpu\n",
      "x cpu\n",
      "z cpu\n",
      "y cpu\n",
      "ptr cpu\n",
      "edge_attr cpu\n",
      "edge_index cpu\n",
      "pos cpu\n",
      "idx cpu\n",
      "batch cpu\n",
      "x cpu\n",
      "z cpu\n",
      "y cpu\n",
      "ptr cpu\n",
      "edge_attr cpu\n",
      "edge_index cpu\n",
      "pos cpu\n",
      "idx cpu\n",
      "batch cpu\n",
      "x cpu\n",
      "z cpu\n",
      "y cpu\n",
      "ptr cpu\n",
      "edge_attr cpu\n",
      "edge_index cpu\n",
      "pos cpu\n",
      "idx cpu\n",
      "batch cpu\n",
      "x cpu\n",
      "z cpu\n",
      "y cpu\n",
      "ptr cpu\n",
      "edge_attr cpu\n",
      "edge_index cpu\n",
      "pos cpu\n",
      "idx cpu\n",
      "batch cpu\n",
      "x cpu\n",
      "z cpu\n",
      "y cpu\n",
      "ptr cpu\n",
      "edge_attr cpu\n",
      "edge_index cpu\n",
      "pos cpu\n",
      "idx cpu\n",
      "batch cpu\n",
      "x cpu\n",
      "z cpu\n",
      "y cpu\n",
      "ptr cpu\n",
      "edge_attr cpu\n",
      "edge_index cpu\n",
      "pos cpu\n",
      "idx cpu\n",
      "batch cpu\n",
      "x cpu\n",
      "z cpu\n",
      "y cpu\n",
      "ptr cpu\n",
      "edge_attr cpu\n",
      "edge_index cpu\n",
      "pos cpu\n",
      "idx cpu\n",
      "batch cpu\n",
      "x cpu\n",
      "z cpu\n",
      "y cpu\n",
      "ptr cpu\n",
      "edge_attr cpu\n",
      "edge_index cpu\n",
      "pos cpu\n",
      "idx cpu\n",
      "batch cpu\n",
      "x cpu\n",
      "z cpu\n",
      "y cpu\n",
      "ptr cpu\n",
      "edge_attr cpu\n",
      "edge_index cpu\n",
      "pos cpu\n",
      "idx cpu\n",
      "batch cpu\n",
      "x cpu\n",
      "z cpu\n",
      "y cpu\n",
      "ptr cpu\n",
      "edge_attr cpu\n",
      "edge_index cpu\n",
      "pos cpu\n",
      "idx cpu\n",
      "batch cpu\n",
      "x cpu\n",
      "z cpu\n",
      "y cpu\n",
      "ptr cpu\n",
      "edge_attr cpu\n",
      "edge_index cpu\n",
      "pos cpu\n",
      "idx cpu\n",
      "batch cpu\n",
      "x cpu\n",
      "z cpu\n",
      "y cpu\n",
      "ptr cpu\n",
      "edge_attr cpu\n",
      "edge_index cpu\n",
      "pos cpu\n",
      "idx cpu\n",
      "batch cpu\n",
      "x cpu\n",
      "z cpu\n",
      "y cpu\n",
      "ptr cpu\n",
      "edge_attr cpu\n",
      "edge_index cpu\n",
      "pos cpu\n",
      "idx cpu\n",
      "batch cpu\n",
      "x cpu\n",
      "z cpu\n",
      "y cpu\n",
      "ptr cpu\n",
      "edge_attr cpu\n",
      "edge_index cpu\n",
      "pos cpu\n",
      "idx cpu\n",
      "batch cpu\n",
      "x cpu\n",
      "z cpu\n",
      "y cpu\n",
      "ptr cpu\n",
      "edge_attr cpu\n",
      "edge_index cpu\n",
      "pos cpu\n",
      "idx cpu\n",
      "batch cpu\n",
      "x cpu\n",
      "z cpu\n",
      "y cpu\n",
      "ptr cpu\n",
      "edge_attr cpu\n",
      "edge_index cpu\n",
      "pos cpu\n",
      "idx cpu\n",
      "batch cpu\n",
      "x cpu\n",
      "z cpu\n",
      "y cpu\n",
      "ptr cpu\n",
      "edge_attr cpu\n",
      "edge_index cpu\n",
      "pos cpu\n",
      "idx cpu\n",
      "batch cpu\n",
      "x cpu\n",
      "z cpu\n",
      "y cpu\n",
      "ptr cpu\n",
      "edge_attr cpu\n",
      "edge_index cpu\n",
      "pos cpu\n",
      "idx cpu\n",
      "batch cpu\n",
      "x cpu\n",
      "z cpu\n",
      "y cpu\n",
      "ptr cpu\n",
      "edge_attr cpu\n",
      "edge_index cpu\n",
      "pos cpu\n",
      "idx cpu\n",
      "batch cpu\n",
      "x cpu\n",
      "z cpu\n",
      "y cpu\n",
      "ptr cpu\n",
      "edge_attr cpu\n",
      "edge_index cpu\n",
      "pos cpu\n",
      "idx cpu\n",
      "batch cpu\n",
      "x cpu\n",
      "z cpu\n",
      "y cpu\n",
      "ptr cpu\n",
      "edge_attr cpu\n",
      "edge_index cpu\n",
      "pos cpu\n",
      "idx cpu\n",
      "batch cpu\n",
      "x cpu\n",
      "z cpu\n",
      "y cpu\n",
      "ptr cpu\n",
      "edge_attr cpu\n",
      "edge_index cpu\n",
      "pos cpu\n",
      "idx cpu\n",
      "batch cpu\n",
      "x cpu\n",
      "z cpu\n",
      "y cpu\n",
      "ptr cpu\n",
      "edge_attr cpu\n",
      "edge_index cpu\n",
      "pos cpu\n",
      "idx cpu\n",
      "batch cpu\n",
      "x cpu\n",
      "z cpu\n",
      "y cpu\n",
      "ptr cpu\n",
      "edge_attr cpu\n",
      "edge_index cpu\n",
      "pos cpu\n",
      "idx cpu\n",
      "batch cpu\n",
      "x cpu\n",
      "z cpu\n",
      "y cpu\n",
      "ptr cpu\n",
      "edge_attr cpu\n",
      "edge_index cpu\n",
      "pos cpu\n",
      "idx cpu\n",
      "batch cpu\n",
      "x cpu\n",
      "z cpu\n",
      "y cpu\n",
      "ptr cpu\n",
      "edge_attr cpu\n",
      "edge_index cpu\n",
      "pos cpu\n",
      "idx cpu\n",
      "batch cpu\n",
      "x cpu\n",
      "z cpu\n",
      "y cpu\n",
      "ptr cpu\n",
      "edge_attr cpu\n",
      "edge_index cpu\n",
      "pos cpu\n",
      "idx cpu\n",
      "batch cpu\n",
      "x cpu\n",
      "z cpu\n",
      "y cpu\n",
      "ptr cpu\n",
      "edge_attr cpu\n",
      "edge_index cpu\n",
      "pos cpu\n",
      "idx cpu\n",
      "batch cpu\n",
      "x cpu\n",
      "z cpu\n",
      "y cpu\n",
      "ptr cpu\n",
      "edge_attr cpu\n",
      "edge_index cpu\n",
      "pos cpu\n",
      "idx cpu\n",
      "batch cpu\n",
      "x cpu\n",
      "z cpu\n",
      "y cpu\n",
      "ptr cpu\n",
      "edge_attr cpu\n",
      "edge_index cpu\n",
      "pos cpu\n",
      "idx cpu\n",
      "batch cpu\n",
      "x cpu\n",
      "z cpu\n",
      "y cpu\n",
      "ptr cpu\n",
      "edge_attr cpu\n",
      "edge_index cpu\n",
      "pos cpu\n",
      "idx cpu\n",
      "batch cpu\n",
      "x cpu\n",
      "z cpu\n",
      "y cpu\n",
      "ptr cpu\n",
      "edge_attr cpu\n",
      "edge_index cpu\n",
      "pos cpu\n",
      "idx cpu\n",
      "batch cpu\n",
      "x cpu\n",
      "z cpu\n",
      "y cpu\n",
      "ptr cpu\n",
      "edge_attr cpu\n",
      "edge_index cpu\n",
      "pos cpu\n",
      "idx cpu\n",
      "batch cpu\n",
      "x cpu\n",
      "z cpu\n",
      "y cpu\n",
      "ptr cpu\n",
      "edge_attr cpu\n",
      "edge_index cpu\n",
      "pos cpu\n",
      "idx cpu\n",
      "batch cpu\n",
      "x cpu\n",
      "z cpu\n",
      "y cpu\n",
      "ptr cpu\n",
      "edge_attr cpu\n",
      "edge_index cpu\n",
      "pos cpu\n",
      "idx cpu\n",
      "batch cpu\n",
      "x cpu\n",
      "z cpu\n",
      "y cpu\n",
      "ptr cpu\n",
      "edge_attr cpu\n",
      "edge_index cpu\n",
      "pos cpu\n",
      "idx cpu\n",
      "batch cpu\n",
      "x cpu\n",
      "z cpu\n",
      "y cpu\n",
      "ptr cpu\n",
      "edge_attr cpu\n",
      "edge_index cpu\n",
      "pos cpu\n",
      "idx cpu\n",
      "batch cpu\n",
      "x cpu\n",
      "z cpu\n",
      "y cpu\n",
      "ptr cpu\n",
      "edge_attr cpu\n",
      "edge_index cpu\n",
      "pos cpu\n",
      "idx cpu\n",
      "batch cpu\n",
      "x cpu\n",
      "z cpu\n",
      "y cpu\n",
      "ptr cpu\n",
      "edge_attr cpu\n",
      "edge_index cpu\n",
      "pos cpu\n",
      "idx cpu\n",
      "batch cpu\n",
      "x cpu\n",
      "z cpu\n",
      "y cpu\n",
      "ptr cpu\n",
      "edge_attr cpu\n",
      "edge_index cpu\n",
      "pos cpu\n",
      "idx cpu\n",
      "batch cpu\n",
      "x cpu\n",
      "z cpu\n",
      "y cpu\n",
      "ptr cpu\n",
      "edge_attr cpu\n",
      "edge_index cpu\n",
      "pos cpu\n",
      "idx cpu\n",
      "batch cpu\n",
      "x cpu\n",
      "z cpu\n",
      "y cpu\n",
      "ptr cpu\n",
      "edge_attr cpu\n",
      "edge_index cpu\n",
      "pos cpu\n",
      "idx cpu\n",
      "batch cpu\n",
      "x cpu\n",
      "z cpu\n",
      "y cpu\n",
      "ptr cpu\n",
      "edge_attr cpu\n",
      "edge_index cpu\n",
      "pos cpu\n",
      "idx cpu\n",
      "batch cpu\n",
      "x cpu\n",
      "z cpu\n",
      "y cpu\n",
      "ptr cpu\n",
      "edge_attr cpu\n",
      "edge_index cpu\n",
      "pos cpu\n",
      "idx cpu\n",
      "batch cpu\n",
      "x cpu\n",
      "z cpu\n",
      "y cpu\n",
      "ptr cpu\n",
      "edge_attr cpu\n",
      "edge_index cpu\n",
      "pos cpu\n",
      "idx cpu\n",
      "batch cpu\n",
      "x cpu\n",
      "z cpu\n",
      "y cpu\n",
      "ptr cpu\n",
      "edge_attr cpu\n",
      "edge_index cpu\n",
      "pos cpu\n",
      "idx cpu\n",
      "batch cpu\n",
      "x cpu\n",
      "z cpu\n",
      "y cpu\n",
      "ptr cpu\n",
      "edge_attr cpu\n",
      "edge_index cpu\n",
      "pos cpu\n",
      "idx cpu\n",
      "batch cpu\n",
      "x cpu\n",
      "z cpu\n",
      "y cpu\n",
      "ptr cpu\n",
      "edge_attr cpu\n",
      "edge_index cpu\n",
      "pos cpu\n",
      "idx cpu\n",
      "batch cpu\n",
      "x cpu\n",
      "z cpu\n",
      "y cpu\n",
      "ptr cpu\n",
      "edge_attr cpu\n",
      "edge_index cpu\n",
      "pos cpu\n",
      "idx cpu\n",
      "batch cpu\n",
      "x cpu\n",
      "z cpu\n",
      "y cpu\n",
      "ptr cpu\n",
      "edge_attr cpu\n",
      "edge_index cpu\n",
      "pos cpu\n",
      "idx cpu\n",
      "batch cpu\n",
      "x cpu\n",
      "z cpu\n",
      "y cpu\n",
      "ptr cpu\n",
      "edge_attr cpu\n",
      "edge_index cpu\n",
      "pos cpu\n",
      "idx cpu\n",
      "batch cpu\n",
      "x cpu\n",
      "z cpu\n",
      "y cpu\n",
      "ptr cpu\n",
      "edge_attr cpu\n",
      "edge_index cpu\n",
      "pos cpu\n",
      "idx cpu\n",
      "batch cpu\n",
      "x cpu\n",
      "z cpu\n",
      "y cpu\n",
      "ptr cpu\n",
      "edge_attr cpu\n",
      "edge_index cpu\n",
      "pos cpu\n",
      "idx cpu\n",
      "batch cpu\n",
      "x cpu\n",
      "z cpu\n",
      "y cpu\n",
      "ptr cpu\n",
      "edge_attr cpu\n",
      "edge_index cpu\n",
      "pos cpu\n",
      "idx cpu\n",
      "batch cpu\n",
      "x cpu\n",
      "z cpu\n",
      "y cpu\n",
      "ptr cpu\n",
      "edge_attr cpu\n",
      "edge_index cpu\n",
      "pos cpu\n",
      "idx cpu\n",
      "batch cpu\n",
      "x cpu\n",
      "z cpu\n",
      "y cpu\n",
      "ptr cpu\n",
      "edge_attr cpu\n",
      "edge_index cpu\n",
      "pos cpu\n",
      "idx cpu\n",
      "batch cpu\n",
      "x cpu\n",
      "z cpu\n",
      "y cpu\n",
      "ptr cpu\n",
      "edge_attr cpu\n",
      "edge_index cpu\n",
      "pos cpu\n",
      "idx cpu\n",
      "batch cpu\n",
      "x cpu\n",
      "z cpu\n",
      "y cpu\n",
      "ptr cpu\n",
      "edge_attr cpu\n",
      "edge_index cpu\n",
      "pos cpu\n",
      "idx cpu\n",
      "batch cpu\n",
      "x cpu\n",
      "z cpu\n",
      "y cpu\n",
      "ptr cpu\n",
      "edge_attr cpu\n",
      "edge_index cpu\n",
      "pos cpu\n",
      "idx cpu\n",
      "batch cpu\n",
      "x cpu\n",
      "z cpu\n",
      "y cpu\n",
      "ptr cpu\n",
      "edge_attr cpu\n",
      "edge_index cpu\n",
      "pos cpu\n",
      "idx cpu\n",
      "batch cpu\n",
      "x cpu\n",
      "z cpu\n",
      "y cpu\n",
      "ptr cpu\n",
      "edge_attr cpu\n",
      "edge_index cpu\n",
      "pos cpu\n",
      "idx cpu\n",
      "batch cpu\n",
      "x cpu\n",
      "z cpu\n",
      "y cpu\n",
      "ptr cpu\n",
      "edge_attr cpu\n",
      "edge_index cpu\n",
      "pos cpu\n",
      "idx cpu\n",
      "batch cpu\n",
      "x cpu\n",
      "z cpu\n",
      "y cpu\n",
      "ptr cpu\n",
      "edge_attr cpu\n",
      "edge_index cpu\n",
      "pos cpu\n",
      "idx cpu\n",
      "batch cpu\n",
      "x cpu\n",
      "z cpu\n",
      "y cpu\n",
      "ptr cpu\n",
      "edge_attr cpu\n",
      "edge_index cpu\n",
      "pos cpu\n",
      "idx cpu\n",
      "batch cpu\n",
      "x cpu\n",
      "z cpu\n",
      "y cpu\n",
      "ptr cpu\n",
      "edge_attr cpu\n",
      "edge_index cpu\n",
      "pos cpu\n",
      "idx cpu\n",
      "batch cpu\n",
      "x cpu\n",
      "z cpu\n",
      "y cpu\n",
      "ptr cpu\n",
      "edge_attr cpu\n",
      "edge_index cpu\n",
      "pos cpu\n",
      "idx cpu\n",
      "batch cpu\n",
      "x cpu\n",
      "z cpu\n",
      "y cpu\n",
      "ptr cpu\n",
      "edge_attr cpu\n",
      "edge_index cpu\n",
      "pos cpu\n",
      "idx cpu\n",
      "batch cpu\n",
      "x cpu\n",
      "z cpu\n",
      "y cpu\n",
      "ptr cpu\n",
      "edge_attr cpu\n",
      "edge_index cpu\n",
      "pos cpu\n",
      "idx cpu\n",
      "batch cpu\n",
      "x cpu\n",
      "z cpu\n",
      "y cpu\n",
      "ptr cpu\n",
      "edge_attr cpu\n",
      "edge_index cpu\n",
      "pos cpu\n",
      "idx cpu\n",
      "batch cpu\n",
      "x cpu\n",
      "z cpu\n",
      "y cpu\n",
      "ptr cpu\n",
      "edge_attr cpu\n",
      "edge_index cpu\n",
      "pos cpu\n",
      "idx cpu\n",
      "batch cpu\n",
      "x cpu\n",
      "z cpu\n",
      "y cpu\n",
      "ptr cpu\n",
      "edge_attr cpu\n",
      "edge_index cpu\n",
      "pos cpu\n",
      "idx cpu\n",
      "batch cpu\n",
      "x cpu\n",
      "z cpu\n",
      "y cpu\n",
      "ptr cpu\n",
      "edge_attr cpu\n",
      "edge_index cpu\n",
      "pos cpu\n",
      "idx cpu\n",
      "batch cpu\n",
      "x cpu\n",
      "z cpu\n",
      "y cpu\n",
      "ptr cpu\n",
      "edge_attr cpu\n",
      "edge_index cpu\n",
      "pos cpu\n",
      "idx cpu\n",
      "batch cpu\n",
      "x cpu\n",
      "z cpu\n",
      "y cpu\n",
      "ptr cpu\n",
      "edge_attr cpu\n",
      "edge_index cpu\n",
      "pos cpu\n",
      "idx cpu\n",
      "batch cpu\n",
      "x cpu\n",
      "z cpu\n",
      "y cpu\n",
      "ptr cpu\n",
      "edge_attr cpu\n",
      "edge_index cpu\n",
      "pos cpu\n",
      "idx cpu\n",
      "batch cpu\n",
      "x cpu\n",
      "z cpu\n",
      "y cpu\n",
      "ptr cpu\n",
      "edge_attr cpu\n",
      "edge_index cpu\n",
      "pos cpu\n",
      "idx cpu\n",
      "batch cpu\n",
      "x cpu\n",
      "z cpu\n",
      "y cpu\n",
      "ptr cpu\n",
      "edge_attr cpu\n",
      "edge_index cpu\n",
      "pos cpu\n",
      "idx cpu\n",
      "batch cpu\n",
      "x cpu\n",
      "z cpu\n",
      "y cpu\n",
      "ptr cpu\n",
      "edge_attr cpu\n",
      "edge_index cpu\n",
      "pos cpu\n",
      "idx cpu\n",
      "batch cpu\n",
      "x cpu\n",
      "z cpu\n",
      "y cpu\n",
      "ptr cpu\n",
      "edge_attr cpu\n",
      "edge_index cpu\n",
      "pos cpu\n",
      "idx cpu\n",
      "batch cpu\n",
      "x cpu\n",
      "z cpu\n",
      "y cpu\n",
      "ptr cpu\n",
      "edge_attr cpu\n",
      "edge_index cpu\n",
      "pos cpu\n",
      "idx cpu\n",
      "batch cpu\n",
      "x cpu\n",
      "z cpu\n",
      "y cpu\n",
      "ptr cpu\n",
      "edge_attr cpu\n",
      "edge_index cpu\n",
      "pos cpu\n",
      "idx cpu\n",
      "batch cpu\n",
      "x cpu\n",
      "z cpu\n",
      "y cpu\n",
      "ptr cpu\n",
      "edge_attr cpu\n",
      "edge_index cpu\n",
      "pos cpu\n",
      "idx cpu\n",
      "batch cpu\n",
      "x cpu\n",
      "z cpu\n",
      "y cpu\n",
      "ptr cpu\n",
      "edge_attr cpu\n",
      "edge_index cpu\n",
      "pos cpu\n",
      "idx cpu\n",
      "batch cpu\n",
      "x cpu\n",
      "z cpu\n",
      "y cpu\n",
      "ptr cpu\n",
      "edge_attr cpu\n",
      "edge_index cpu\n",
      "pos cpu\n",
      "idx cpu\n",
      "batch cpu\n",
      "x cpu\n",
      "z cpu\n",
      "y cpu\n",
      "ptr cpu\n",
      "edge_attr cpu\n",
      "edge_index cpu\n",
      "pos cpu\n",
      "idx cpu\n",
      "batch cpu\n",
      "x cpu\n",
      "z cpu\n",
      "y cpu\n",
      "ptr cpu\n",
      "edge_attr cpu\n",
      "edge_index cpu\n",
      "pos cpu\n",
      "idx cpu\n",
      "batch cpu\n",
      "x cpu\n",
      "z cpu\n",
      "y cpu\n",
      "ptr cpu\n",
      "edge_attr cpu\n",
      "edge_index cpu\n",
      "pos cpu\n",
      "idx cpu\n",
      "batch cpu\n",
      "x cpu\n",
      "z cpu\n",
      "y cpu\n",
      "ptr cpu\n",
      "edge_attr cpu\n",
      "edge_index cpu\n",
      "pos cpu\n",
      "idx cpu\n",
      "batch cpu\n",
      "x cpu\n",
      "z cpu\n",
      "y cpu\n",
      "ptr cpu\n",
      "edge_attr cpu\n",
      "edge_index cpu\n",
      "pos cpu\n",
      "idx cpu\n",
      "batch cpu\n",
      "x cpu\n",
      "z cpu\n",
      "y cpu\n",
      "ptr cpu\n",
      "edge_attr cpu\n",
      "edge_index cpu\n",
      "pos cpu\n",
      "idx cpu\n",
      "batch cpu\n",
      "x cpu\n",
      "z cpu\n",
      "y cpu\n",
      "ptr cpu\n",
      "edge_attr cpu\n",
      "edge_index cpu\n",
      "pos cpu\n",
      "idx cpu\n",
      "batch cpu\n",
      "x cpu\n",
      "z cpu\n",
      "y cpu\n",
      "ptr cpu\n",
      "edge_attr cpu\n",
      "edge_index cpu\n",
      "pos cpu\n",
      "idx cpu\n",
      "batch cpu\n",
      "x cpu\n",
      "z cpu\n",
      "y cpu\n"
     ]
    },
    {
     "ename": "KeyboardInterrupt",
     "evalue": "",
     "output_type": "error",
     "traceback": [
      "\u001B[0;31m---------------------------------------------------------------------------\u001B[0m",
      "\u001B[0;31mKeyboardInterrupt\u001B[0m                         Traceback (most recent call last)",
      "\u001B[0;32m<ipython-input-6-26f754fb18bb>\u001B[0m in \u001B[0;36m<module>\u001B[0;34m\u001B[0m\n\u001B[0;32m----> 1\u001B[0;31m \u001B[0mno_subnode_results\u001B[0m \u001B[0;34m=\u001B[0m \u001B[0mtrain_model\u001B[0m\u001B[0;34m(\u001B[0m\u001B[0mmodel\u001B[0m\u001B[0;34m,\u001B[0m \u001B[0mmodel_name\u001B[0m\u001B[0;34m,\u001B[0m \u001B[0mepochs\u001B[0m\u001B[0;34m,\u001B[0m \u001B[0mtrain_loader\u001B[0m\u001B[0;34m,\u001B[0m \u001B[0mvalid_loader\u001B[0m\u001B[0;34m,\u001B[0m \u001B[0mtest_loader\u001B[0m\u001B[0;34m,\u001B[0m \u001B[0moptimizer\u001B[0m\u001B[0;34m,\u001B[0m \u001B[0mcriterion\u001B[0m\u001B[0;34m,\u001B[0m \u001B[0mscheduler\u001B[0m\u001B[0;34m,\u001B[0m \u001B[0mdevice\u001B[0m\u001B[0;34m,\u001B[0m \u001B[0mLABEL_INDEX\u001B[0m\u001B[0;34m,\u001B[0m \u001B[0mZ_ONE_HOT_DIM\u001B[0m\u001B[0;34m)\u001B[0m\u001B[0;34m\u001B[0m\u001B[0;34m\u001B[0m\u001B[0m\n\u001B[0m",
      "\u001B[0;32m~/Documents/GitHub/FractalMessagePassing/train.py\u001B[0m in \u001B[0;36mtrain_model\u001B[0;34m(model, model_name, epochs, train_loader, valid_loader, test_loader, optimizer, criterion, scheduler, device, LABEL_INDEX, Z_ONE_HOT_DIM, **kwargs)\u001B[0m\n\u001B[1;32m    129\u001B[0m                 \u001B[0mdata\u001B[0m \u001B[0;34m=\u001B[0m \u001B[0mdata\u001B[0m\u001B[0;34m.\u001B[0m\u001B[0mto\u001B[0m\u001B[0;34m(\u001B[0m\u001B[0mdevice\u001B[0m\u001B[0;34m)\u001B[0m\u001B[0;34m\u001B[0m\u001B[0;34m\u001B[0m\u001B[0m\n\u001B[1;32m    130\u001B[0m                 \u001B[0mtarget\u001B[0m \u001B[0;34m=\u001B[0m \u001B[0mdata\u001B[0m\u001B[0;34m.\u001B[0m\u001B[0my\u001B[0m\u001B[0;34m[\u001B[0m\u001B[0;34m:\u001B[0m\u001B[0;34m,\u001B[0m \u001B[0mLABEL_INDEX\u001B[0m\u001B[0;34m]\u001B[0m\u001B[0;34m\u001B[0m\u001B[0;34m\u001B[0m\u001B[0m\n\u001B[0;32m--> 131\u001B[0;31m                 \u001B[0mout\u001B[0m \u001B[0;34m=\u001B[0m \u001B[0mget_forward_function\u001B[0m\u001B[0;34m(\u001B[0m\u001B[0mmodel\u001B[0m\u001B[0;34m,\u001B[0m \u001B[0mmodel_name\u001B[0m\u001B[0;34m,\u001B[0m \u001B[0mdata\u001B[0m\u001B[0;34m)\u001B[0m\u001B[0;34m\u001B[0m\u001B[0;34m\u001B[0m\u001B[0m\n\u001B[0m\u001B[1;32m    132\u001B[0m                 \u001B[0mloss\u001B[0m \u001B[0;34m=\u001B[0m \u001B[0mcriterion\u001B[0m\u001B[0;34m(\u001B[0m\u001B[0mout\u001B[0m\u001B[0;34m.\u001B[0m\u001B[0msqueeze\u001B[0m\u001B[0;34m(\u001B[0m\u001B[0;34m)\u001B[0m\u001B[0;34m,\u001B[0m \u001B[0mtarget\u001B[0m\u001B[0;34m)\u001B[0m\u001B[0;34m\u001B[0m\u001B[0;34m\u001B[0m\u001B[0m\n\u001B[1;32m    133\u001B[0m                 \u001B[0mvalid_loss\u001B[0m \u001B[0;34m+=\u001B[0m \u001B[0mloss\u001B[0m\u001B[0;34m.\u001B[0m\u001B[0mitem\u001B[0m\u001B[0;34m(\u001B[0m\u001B[0;34m)\u001B[0m\u001B[0;34m\u001B[0m\u001B[0;34m\u001B[0m\u001B[0m\n",
      "\u001B[0;32m~/anaconda3/envs/Geometric/lib/python3.8/site-packages/torch/optim/optimizer.py\u001B[0m in \u001B[0;36mwrapper\u001B[0;34m(*args, **kwargs)\u001B[0m\n\u001B[1;32m     86\u001B[0m                 \u001B[0mprofile_name\u001B[0m \u001B[0;34m=\u001B[0m \u001B[0;34m\"Optimizer.step#{}.step\"\u001B[0m\u001B[0;34m.\u001B[0m\u001B[0mformat\u001B[0m\u001B[0;34m(\u001B[0m\u001B[0mobj\u001B[0m\u001B[0;34m.\u001B[0m\u001B[0m__class__\u001B[0m\u001B[0;34m.\u001B[0m\u001B[0m__name__\u001B[0m\u001B[0;34m)\u001B[0m\u001B[0;34m\u001B[0m\u001B[0;34m\u001B[0m\u001B[0m\n\u001B[1;32m     87\u001B[0m                 \u001B[0;32mwith\u001B[0m \u001B[0mtorch\u001B[0m\u001B[0;34m.\u001B[0m\u001B[0mautograd\u001B[0m\u001B[0;34m.\u001B[0m\u001B[0mprofiler\u001B[0m\u001B[0;34m.\u001B[0m\u001B[0mrecord_function\u001B[0m\u001B[0;34m(\u001B[0m\u001B[0mprofile_name\u001B[0m\u001B[0;34m)\u001B[0m\u001B[0;34m:\u001B[0m\u001B[0;34m\u001B[0m\u001B[0;34m\u001B[0m\u001B[0m\n\u001B[0;32m---> 88\u001B[0;31m                     \u001B[0;32mreturn\u001B[0m \u001B[0mfunc\u001B[0m\u001B[0;34m(\u001B[0m\u001B[0;34m*\u001B[0m\u001B[0margs\u001B[0m\u001B[0;34m,\u001B[0m \u001B[0;34m**\u001B[0m\u001B[0mkwargs\u001B[0m\u001B[0;34m)\u001B[0m\u001B[0;34m\u001B[0m\u001B[0;34m\u001B[0m\u001B[0m\n\u001B[0m\u001B[1;32m     89\u001B[0m             \u001B[0;32mreturn\u001B[0m \u001B[0mwrapper\u001B[0m\u001B[0;34m\u001B[0m\u001B[0;34m\u001B[0m\u001B[0m\n\u001B[1;32m     90\u001B[0m \u001B[0;34m\u001B[0m\u001B[0m\n",
      "\u001B[0;32m~/anaconda3/envs/Geometric/lib/python3.8/site-packages/torch/autograd/grad_mode.py\u001B[0m in \u001B[0;36mdecorate_context\u001B[0;34m(*args, **kwargs)\u001B[0m\n\u001B[1;32m     25\u001B[0m         \u001B[0;32mdef\u001B[0m \u001B[0mdecorate_context\u001B[0m\u001B[0;34m(\u001B[0m\u001B[0;34m*\u001B[0m\u001B[0margs\u001B[0m\u001B[0;34m,\u001B[0m \u001B[0;34m**\u001B[0m\u001B[0mkwargs\u001B[0m\u001B[0;34m)\u001B[0m\u001B[0;34m:\u001B[0m\u001B[0;34m\u001B[0m\u001B[0;34m\u001B[0m\u001B[0m\n\u001B[1;32m     26\u001B[0m             \u001B[0;32mwith\u001B[0m \u001B[0mself\u001B[0m\u001B[0;34m.\u001B[0m\u001B[0mclone\u001B[0m\u001B[0;34m(\u001B[0m\u001B[0;34m)\u001B[0m\u001B[0;34m:\u001B[0m\u001B[0;34m\u001B[0m\u001B[0;34m\u001B[0m\u001B[0m\n\u001B[0;32m---> 27\u001B[0;31m                 \u001B[0;32mreturn\u001B[0m \u001B[0mfunc\u001B[0m\u001B[0;34m(\u001B[0m\u001B[0;34m*\u001B[0m\u001B[0margs\u001B[0m\u001B[0;34m,\u001B[0m \u001B[0;34m**\u001B[0m\u001B[0mkwargs\u001B[0m\u001B[0;34m)\u001B[0m\u001B[0;34m\u001B[0m\u001B[0;34m\u001B[0m\u001B[0m\n\u001B[0m\u001B[1;32m     28\u001B[0m         \u001B[0;32mreturn\u001B[0m \u001B[0mcast\u001B[0m\u001B[0;34m(\u001B[0m\u001B[0mF\u001B[0m\u001B[0;34m,\u001B[0m \u001B[0mdecorate_context\u001B[0m\u001B[0;34m)\u001B[0m\u001B[0;34m\u001B[0m\u001B[0;34m\u001B[0m\u001B[0m\n\u001B[1;32m     29\u001B[0m \u001B[0;34m\u001B[0m\u001B[0m\n",
      "\u001B[0;32m~/anaconda3/envs/Geometric/lib/python3.8/site-packages/torch/optim/adam.py\u001B[0m in \u001B[0;36mstep\u001B[0;34m(self, closure)\u001B[0m\n\u001B[1;32m    139\u001B[0m                     \u001B[0mstate_steps\u001B[0m\u001B[0;34m.\u001B[0m\u001B[0mappend\u001B[0m\u001B[0;34m(\u001B[0m\u001B[0mstate\u001B[0m\u001B[0;34m[\u001B[0m\u001B[0;34m'step'\u001B[0m\u001B[0;34m]\u001B[0m\u001B[0;34m)\u001B[0m\u001B[0;34m\u001B[0m\u001B[0;34m\u001B[0m\u001B[0m\n\u001B[1;32m    140\u001B[0m \u001B[0;34m\u001B[0m\u001B[0m\n\u001B[0;32m--> 141\u001B[0;31m             F.adam(params_with_grad,\n\u001B[0m\u001B[1;32m    142\u001B[0m                    \u001B[0mgrads\u001B[0m\u001B[0;34m,\u001B[0m\u001B[0;34m\u001B[0m\u001B[0;34m\u001B[0m\u001B[0m\n\u001B[1;32m    143\u001B[0m                    \u001B[0mexp_avgs\u001B[0m\u001B[0;34m,\u001B[0m\u001B[0;34m\u001B[0m\u001B[0;34m\u001B[0m\u001B[0m\n",
      "\u001B[0;32m~/anaconda3/envs/Geometric/lib/python3.8/site-packages/torch/optim/_functional.py\u001B[0m in \u001B[0;36madam\u001B[0;34m(params, grads, exp_avgs, exp_avg_sqs, max_exp_avg_sqs, state_steps, amsgrad, beta1, beta2, lr, weight_decay, eps, maximize)\u001B[0m\n\u001B[1;32m    103\u001B[0m             \u001B[0mdenom\u001B[0m \u001B[0;34m=\u001B[0m \u001B[0;34m(\u001B[0m\u001B[0mmax_exp_avg_sqs\u001B[0m\u001B[0;34m[\u001B[0m\u001B[0mi\u001B[0m\u001B[0;34m]\u001B[0m\u001B[0;34m.\u001B[0m\u001B[0msqrt\u001B[0m\u001B[0;34m(\u001B[0m\u001B[0;34m)\u001B[0m \u001B[0;34m/\u001B[0m \u001B[0mmath\u001B[0m\u001B[0;34m.\u001B[0m\u001B[0msqrt\u001B[0m\u001B[0;34m(\u001B[0m\u001B[0mbias_correction2\u001B[0m\u001B[0;34m)\u001B[0m\u001B[0;34m)\u001B[0m\u001B[0;34m.\u001B[0m\u001B[0madd_\u001B[0m\u001B[0;34m(\u001B[0m\u001B[0meps\u001B[0m\u001B[0;34m)\u001B[0m\u001B[0;34m\u001B[0m\u001B[0;34m\u001B[0m\u001B[0m\n\u001B[1;32m    104\u001B[0m         \u001B[0;32melse\u001B[0m\u001B[0;34m:\u001B[0m\u001B[0;34m\u001B[0m\u001B[0;34m\u001B[0m\u001B[0m\n\u001B[0;32m--> 105\u001B[0;31m             \u001B[0mdenom\u001B[0m \u001B[0;34m=\u001B[0m \u001B[0;34m(\u001B[0m\u001B[0mexp_avg_sq\u001B[0m\u001B[0;34m.\u001B[0m\u001B[0msqrt\u001B[0m\u001B[0;34m(\u001B[0m\u001B[0;34m)\u001B[0m \u001B[0;34m/\u001B[0m \u001B[0mmath\u001B[0m\u001B[0;34m.\u001B[0m\u001B[0msqrt\u001B[0m\u001B[0;34m(\u001B[0m\u001B[0mbias_correction2\u001B[0m\u001B[0;34m)\u001B[0m\u001B[0;34m)\u001B[0m\u001B[0;34m.\u001B[0m\u001B[0madd_\u001B[0m\u001B[0;34m(\u001B[0m\u001B[0meps\u001B[0m\u001B[0;34m)\u001B[0m\u001B[0;34m\u001B[0m\u001B[0;34m\u001B[0m\u001B[0m\n\u001B[0m\u001B[1;32m    106\u001B[0m \u001B[0;34m\u001B[0m\u001B[0m\n\u001B[1;32m    107\u001B[0m \u001B[0;34m\u001B[0m\u001B[0m\n",
      "\u001B[0;31mKeyboardInterrupt\u001B[0m: "
     ]
    }
   ],
   "source": [
    "no_subnode_results = train_model(model, model_name, epochs, train_loader, valid_loader, test_loader, optimizer, criterion, scheduler, device, LABEL_INDEX, Z_ONE_HOT_DIM)"
   ],
   "metadata": {
    "collapsed": false,
    "pycharm": {
     "name": "#%%\n"
    }
   }
  },
  {
   "cell_type": "markdown",
   "source": [
    "# TRAINING A NORMAL GNN WITH NO RELATIONAL INFO NET"
   ],
   "metadata": {
    "collapsed": false,
    "pycharm": {
     "name": "#%% md\n"
    }
   }
  },
  {
   "cell_type": "code",
   "execution_count": 17,
   "outputs": [],
   "source": [
    "model_name = 'GNN_no_rel'\n",
    "model = GNN_no_rel(5, edge_features, hidden_features, out_features, num_convolution_blocks=3, pooling='add').to(device)\n",
    "optimizer = torch.optim.Adam(model.parameters(), lr=0.0005)\n",
    "criterion = nn.MSELoss()\n",
    "scheduler = torch.optim.lr_scheduler.ReduceLROnPlateau(optimizer, mode='min', factor=0.7, patience=3, verbose=True)\n",
    "train, valid, test = get_qm9(\"data/qm9\",\n",
    "                             device=device,\n",
    "                             LABEL_INDEX=LABEL_INDEX,\n",
    "                             transform=None)\n",
    "train_loader = DataLoader(train, batch_size=batch_size, shuffle=True)\n",
    "valid_loader = DataLoader(valid, batch_size=32, shuffle=False)\n",
    "test_loader = DataLoader(test, batch_size=32, shuffle=False)"
   ],
   "metadata": {
    "collapsed": false,
    "pycharm": {
     "name": "#%%\n"
    }
   }
  },
  {
   "cell_type": "code",
   "execution_count": 18,
   "outputs": [
    {
     "name": "stdout",
     "output_type": "stream",
     "text": [
      "Total number of parameters: 277057\n"
     ]
    },
    {
     "data": {
      "text/plain": "  0%|          | 0/45 [00:00<?, ?it/s]",
      "application/vnd.jupyter.widget-view+json": {
       "version_major": 2,
       "version_minor": 0,
       "model_id": "c0e86f8fa73b46bb9f703afc69010521"
      }
     },
     "metadata": {},
     "output_type": "display_data"
    },
    {
     "data": {
      "text/plain": "  0%|          | 0/3125 [00:00<?, ?it/s]",
      "application/vnd.jupyter.widget-view+json": {
       "version_major": 2,
       "version_minor": 0,
       "model_id": "36f4c9b27de04bc6bdfcdd2a3996482d"
      }
     },
     "metadata": {},
     "output_type": "display_data"
    },
    {
     "data": {
      "text/plain": "  0%|          | 0/313 [00:00<?, ?it/s]",
      "application/vnd.jupyter.widget-view+json": {
       "version_major": 2,
       "version_minor": 0,
       "model_id": "6184b017bf994a109565def0fd3cb415"
      }
     },
     "metadata": {},
     "output_type": "display_data"
    },
    {
     "name": "stdout",
     "output_type": "stream",
     "text": [
      "Epoch: 0, Loss: 0.34073594618916514, Valid Loss: 0.26796615189804246\n"
     ]
    },
    {
     "data": {
      "text/plain": "  0%|          | 0/3125 [00:00<?, ?it/s]",
      "application/vnd.jupyter.widget-view+json": {
       "version_major": 2,
       "version_minor": 0,
       "model_id": "3c964f33d6224c18992914ed06a0bfad"
      }
     },
     "metadata": {},
     "output_type": "display_data"
    },
    {
     "data": {
      "text/plain": "  0%|          | 0/313 [00:00<?, ?it/s]",
      "application/vnd.jupyter.widget-view+json": {
       "version_major": 2,
       "version_minor": 0,
       "model_id": "0939f61556124a92bc894470e9a9da62"
      }
     },
     "metadata": {},
     "output_type": "display_data"
    },
    {
     "name": "stdout",
     "output_type": "stream",
     "text": [
      "Epoch: 1, Loss: 0.2002595726749301, Valid Loss: 0.11254382863069495\n"
     ]
    },
    {
     "data": {
      "text/plain": "  0%|          | 0/3125 [00:00<?, ?it/s]",
      "application/vnd.jupyter.widget-view+json": {
       "version_major": 2,
       "version_minor": 0,
       "model_id": "de83b2844bd94fbfa71257be2cb16978"
      }
     },
     "metadata": {},
     "output_type": "display_data"
    },
    {
     "data": {
      "text/plain": "  0%|          | 0/313 [00:00<?, ?it/s]",
      "application/vnd.jupyter.widget-view+json": {
       "version_major": 2,
       "version_minor": 0,
       "model_id": "936c5bb3680642bfa641fba7fa7577a6"
      }
     },
     "metadata": {},
     "output_type": "display_data"
    },
    {
     "name": "stdout",
     "output_type": "stream",
     "text": [
      "Epoch: 2, Loss: 0.052325787158980966, Valid Loss: 0.01320092515430797\n"
     ]
    },
    {
     "data": {
      "text/plain": "  0%|          | 0/3125 [00:00<?, ?it/s]",
      "application/vnd.jupyter.widget-view+json": {
       "version_major": 2,
       "version_minor": 0,
       "model_id": "0725e8826a0e45b28100ca70fb6637be"
      }
     },
     "metadata": {},
     "output_type": "display_data"
    },
    {
     "data": {
      "text/plain": "  0%|          | 0/313 [00:00<?, ?it/s]",
      "application/vnd.jupyter.widget-view+json": {
       "version_major": 2,
       "version_minor": 0,
       "model_id": "1de886a031644304a2035f54873b76e4"
      }
     },
     "metadata": {},
     "output_type": "display_data"
    },
    {
     "name": "stdout",
     "output_type": "stream",
     "text": [
      "Epoch: 3, Loss: 0.004784174772752449, Valid Loss: 0.0029446304483434407\n"
     ]
    },
    {
     "data": {
      "text/plain": "  0%|          | 0/3125 [00:00<?, ?it/s]",
      "application/vnd.jupyter.widget-view+json": {
       "version_major": 2,
       "version_minor": 0,
       "model_id": "20ec5b353e8249a7bb91a071c7b92bb3"
      }
     },
     "metadata": {},
     "output_type": "display_data"
    },
    {
     "data": {
      "text/plain": "  0%|          | 0/313 [00:00<?, ?it/s]",
      "application/vnd.jupyter.widget-view+json": {
       "version_major": 2,
       "version_minor": 0,
       "model_id": "269171e01cac4e5d9b7da068aeabcfb0"
      }
     },
     "metadata": {},
     "output_type": "display_data"
    },
    {
     "name": "stdout",
     "output_type": "stream",
     "text": [
      "Epoch: 4, Loss: 0.0017802835443534422, Valid Loss: 0.0011488691687557143\n"
     ]
    },
    {
     "data": {
      "text/plain": "  0%|          | 0/3125 [00:00<?, ?it/s]",
      "application/vnd.jupyter.widget-view+json": {
       "version_major": 2,
       "version_minor": 0,
       "model_id": "32b7325d2f3549e0832654c18e1ab021"
      }
     },
     "metadata": {},
     "output_type": "display_data"
    },
    {
     "data": {
      "text/plain": "  0%|          | 0/313 [00:00<?, ?it/s]",
      "application/vnd.jupyter.widget-view+json": {
       "version_major": 2,
       "version_minor": 0,
       "model_id": "1b83c7f077024014b67288d35b626907"
      }
     },
     "metadata": {},
     "output_type": "display_data"
    },
    {
     "name": "stdout",
     "output_type": "stream",
     "text": [
      "Epoch: 5, Loss: 0.0013485616207064596, Valid Loss: 0.0008311322576402814\n"
     ]
    },
    {
     "data": {
      "text/plain": "  0%|          | 0/3125 [00:00<?, ?it/s]",
      "application/vnd.jupyter.widget-view+json": {
       "version_major": 2,
       "version_minor": 0,
       "model_id": "6d5550ab4ecd47719b627d62aef973af"
      }
     },
     "metadata": {},
     "output_type": "display_data"
    },
    {
     "data": {
      "text/plain": "  0%|          | 0/313 [00:00<?, ?it/s]",
      "application/vnd.jupyter.widget-view+json": {
       "version_major": 2,
       "version_minor": 0,
       "model_id": "609deaf6fea2469a9f413f2bc15af43c"
      }
     },
     "metadata": {},
     "output_type": "display_data"
    },
    {
     "name": "stdout",
     "output_type": "stream",
     "text": [
      "Epoch: 6, Loss: 0.0012334666186670075, Valid Loss: 0.0003099502361021205\n"
     ]
    },
    {
     "data": {
      "text/plain": "  0%|          | 0/3125 [00:00<?, ?it/s]",
      "application/vnd.jupyter.widget-view+json": {
       "version_major": 2,
       "version_minor": 0,
       "model_id": "f0a4632934aa41b39ee8344959dcdfa1"
      }
     },
     "metadata": {},
     "output_type": "display_data"
    },
    {
     "data": {
      "text/plain": "  0%|          | 0/313 [00:00<?, ?it/s]",
      "application/vnd.jupyter.widget-view+json": {
       "version_major": 2,
       "version_minor": 0,
       "model_id": "8456d4f47e2d43cf8799db4e80488a2d"
      }
     },
     "metadata": {},
     "output_type": "display_data"
    },
    {
     "name": "stdout",
     "output_type": "stream",
     "text": [
      "Epoch: 7, Loss: 0.0010672309357262566, Valid Loss: 0.0017416033840451104\n"
     ]
    },
    {
     "data": {
      "text/plain": "  0%|          | 0/3125 [00:00<?, ?it/s]",
      "application/vnd.jupyter.widget-view+json": {
       "version_major": 2,
       "version_minor": 0,
       "model_id": "8c6d508edec440a08ddbdd3715ef5dec"
      }
     },
     "metadata": {},
     "output_type": "display_data"
    },
    {
     "data": {
      "text/plain": "  0%|          | 0/313 [00:00<?, ?it/s]",
      "application/vnd.jupyter.widget-view+json": {
       "version_major": 2,
       "version_minor": 0,
       "model_id": "919d2c52ca4249dcad6ec1dc04fde7ba"
      }
     },
     "metadata": {},
     "output_type": "display_data"
    },
    {
     "name": "stdout",
     "output_type": "stream",
     "text": [
      "Epoch: 8, Loss: 0.0009332941744074923, Valid Loss: 0.0005364063240841742\n"
     ]
    },
    {
     "data": {
      "text/plain": "  0%|          | 0/3125 [00:00<?, ?it/s]",
      "application/vnd.jupyter.widget-view+json": {
       "version_major": 2,
       "version_minor": 0,
       "model_id": "f918c56d45174fa1a19190e2024756d6"
      }
     },
     "metadata": {},
     "output_type": "display_data"
    },
    {
     "data": {
      "text/plain": "  0%|          | 0/313 [00:00<?, ?it/s]",
      "application/vnd.jupyter.widget-view+json": {
       "version_major": 2,
       "version_minor": 0,
       "model_id": "e21887dab79f4b69b2818a520fc378c2"
      }
     },
     "metadata": {},
     "output_type": "display_data"
    },
    {
     "name": "stdout",
     "output_type": "stream",
     "text": [
      "Epoch: 9, Loss: 0.000706238659650553, Valid Loss: 0.0005293432732171099\n"
     ]
    },
    {
     "data": {
      "text/plain": "  0%|          | 0/3125 [00:00<?, ?it/s]",
      "application/vnd.jupyter.widget-view+json": {
       "version_major": 2,
       "version_minor": 0,
       "model_id": "fcf9a75ddde34e529ddbefe2c8b22990"
      }
     },
     "metadata": {},
     "output_type": "display_data"
    },
    {
     "data": {
      "text/plain": "  0%|          | 0/313 [00:00<?, ?it/s]",
      "application/vnd.jupyter.widget-view+json": {
       "version_major": 2,
       "version_minor": 0,
       "model_id": "0066949b26574a7d83065fe6dc6ec309"
      }
     },
     "metadata": {},
     "output_type": "display_data"
    },
    {
     "name": "stdout",
     "output_type": "stream",
     "text": [
      "Epoch 00011: reducing learning rate of group 0 to 3.5000e-04.\n",
      "Epoch: 10, Loss: 0.0005822339579527033, Valid Loss: 0.0005092425674254733\n"
     ]
    },
    {
     "data": {
      "text/plain": "  0%|          | 0/3125 [00:00<?, ?it/s]",
      "application/vnd.jupyter.widget-view+json": {
       "version_major": 2,
       "version_minor": 0,
       "model_id": "760f86eada3b4227adc70821298be429"
      }
     },
     "metadata": {},
     "output_type": "display_data"
    },
    {
     "data": {
      "text/plain": "  0%|          | 0/313 [00:00<?, ?it/s]",
      "application/vnd.jupyter.widget-view+json": {
       "version_major": 2,
       "version_minor": 0,
       "model_id": "d7063e554e454a4ab026369f53ebd1d6"
      }
     },
     "metadata": {},
     "output_type": "display_data"
    },
    {
     "name": "stdout",
     "output_type": "stream",
     "text": [
      "Epoch: 11, Loss: 0.0003077914858500299, Valid Loss: 0.0008925487304637476\n"
     ]
    },
    {
     "data": {
      "text/plain": "  0%|          | 0/3125 [00:00<?, ?it/s]",
      "application/vnd.jupyter.widget-view+json": {
       "version_major": 2,
       "version_minor": 0,
       "model_id": "ff46e19e94884c40a96369fc3bea9cb6"
      }
     },
     "metadata": {},
     "output_type": "display_data"
    },
    {
     "data": {
      "text/plain": "  0%|          | 0/313 [00:00<?, ?it/s]",
      "application/vnd.jupyter.widget-view+json": {
       "version_major": 2,
       "version_minor": 0,
       "model_id": "abcfe8ad97694477a61ad1dfd81dcf20"
      }
     },
     "metadata": {},
     "output_type": "display_data"
    },
    {
     "name": "stdout",
     "output_type": "stream",
     "text": [
      "Epoch: 12, Loss: 0.00034889882537550876, Valid Loss: 0.0005732798170199636\n"
     ]
    },
    {
     "data": {
      "text/plain": "  0%|          | 0/3125 [00:00<?, ?it/s]",
      "application/vnd.jupyter.widget-view+json": {
       "version_major": 2,
       "version_minor": 0,
       "model_id": "faa1897131b14528876a88ec3918315d"
      }
     },
     "metadata": {},
     "output_type": "display_data"
    },
    {
     "data": {
      "text/plain": "  0%|          | 0/313 [00:00<?, ?it/s]",
      "application/vnd.jupyter.widget-view+json": {
       "version_major": 2,
       "version_minor": 0,
       "model_id": "b4df1248155141af910b92f5e915d75b"
      }
     },
     "metadata": {},
     "output_type": "display_data"
    },
    {
     "name": "stdout",
     "output_type": "stream",
     "text": [
      "Epoch: 13, Loss: 0.00028307309053852807, Valid Loss: 0.0005240922351795495\n"
     ]
    },
    {
     "data": {
      "text/plain": "  0%|          | 0/3125 [00:00<?, ?it/s]",
      "application/vnd.jupyter.widget-view+json": {
       "version_major": 2,
       "version_minor": 0,
       "model_id": "e66c49f4329a46ae98fe3b5b886ccf55"
      }
     },
     "metadata": {},
     "output_type": "display_data"
    },
    {
     "data": {
      "text/plain": "  0%|          | 0/313 [00:00<?, ?it/s]",
      "application/vnd.jupyter.widget-view+json": {
       "version_major": 2,
       "version_minor": 0,
       "model_id": "e36107b674df460ca6cc7f830ee1d491"
      }
     },
     "metadata": {},
     "output_type": "display_data"
    },
    {
     "name": "stdout",
     "output_type": "stream",
     "text": [
      "Epoch 00015: reducing learning rate of group 0 to 2.4500e-04.\n",
      "Epoch: 14, Loss: 0.00031421407085596004, Valid Loss: 0.0004182716977618711\n"
     ]
    },
    {
     "data": {
      "text/plain": "  0%|          | 0/3125 [00:00<?, ?it/s]",
      "application/vnd.jupyter.widget-view+json": {
       "version_major": 2,
       "version_minor": 0,
       "model_id": "63fb1708f9434a97ad167041dbd1f79d"
      }
     },
     "metadata": {},
     "output_type": "display_data"
    },
    {
     "data": {
      "text/plain": "  0%|          | 0/313 [00:00<?, ?it/s]",
      "application/vnd.jupyter.widget-view+json": {
       "version_major": 2,
       "version_minor": 0,
       "model_id": "5383e265e72f4e71a2ab0e153c4734ba"
      }
     },
     "metadata": {},
     "output_type": "display_data"
    },
    {
     "name": "stdout",
     "output_type": "stream",
     "text": [
      "Epoch: 15, Loss: 0.0001408623219979927, Valid Loss: 0.0004023277626471715\n"
     ]
    },
    {
     "data": {
      "text/plain": "  0%|          | 0/3125 [00:00<?, ?it/s]",
      "application/vnd.jupyter.widget-view+json": {
       "version_major": 2,
       "version_minor": 0,
       "model_id": "2ce0c39a88f9428c9d5593a65cf2b176"
      }
     },
     "metadata": {},
     "output_type": "display_data"
    },
    {
     "data": {
      "text/plain": "  0%|          | 0/313 [00:00<?, ?it/s]",
      "application/vnd.jupyter.widget-view+json": {
       "version_major": 2,
       "version_minor": 0,
       "model_id": "0447ac5563c642ed8f8b0e6cefc11664"
      }
     },
     "metadata": {},
     "output_type": "display_data"
    },
    {
     "name": "stdout",
     "output_type": "stream",
     "text": [
      "Epoch: 16, Loss: 0.00015678595537177897, Valid Loss: 0.0004508169166948877\n"
     ]
    },
    {
     "data": {
      "text/plain": "  0%|          | 0/3125 [00:00<?, ?it/s]",
      "application/vnd.jupyter.widget-view+json": {
       "version_major": 2,
       "version_minor": 0,
       "model_id": "9c650f1687754c6cb161b4bb00e2d977"
      }
     },
     "metadata": {},
     "output_type": "display_data"
    },
    {
     "data": {
      "text/plain": "  0%|          | 0/313 [00:00<?, ?it/s]",
      "application/vnd.jupyter.widget-view+json": {
       "version_major": 2,
       "version_minor": 0,
       "model_id": "d71448aee37347ca8301c6d6cde71311"
      }
     },
     "metadata": {},
     "output_type": "display_data"
    },
    {
     "name": "stdout",
     "output_type": "stream",
     "text": [
      "Epoch: 17, Loss: 0.00015129269527606085, Valid Loss: 0.00037310238281751114\n"
     ]
    },
    {
     "data": {
      "text/plain": "  0%|          | 0/3125 [00:00<?, ?it/s]",
      "application/vnd.jupyter.widget-view+json": {
       "version_major": 2,
       "version_minor": 0,
       "model_id": "0b3c4116c0644c63b420ed01c859b14f"
      }
     },
     "metadata": {},
     "output_type": "display_data"
    },
    {
     "data": {
      "text/plain": "  0%|          | 0/313 [00:00<?, ?it/s]",
      "application/vnd.jupyter.widget-view+json": {
       "version_major": 2,
       "version_minor": 0,
       "model_id": "a2f6687f66214b0db2143d0d3e47f95f"
      }
     },
     "metadata": {},
     "output_type": "display_data"
    },
    {
     "name": "stdout",
     "output_type": "stream",
     "text": [
      "Epoch 00019: reducing learning rate of group 0 to 1.7150e-04.\n",
      "Epoch: 18, Loss: 0.00014093932886949915, Valid Loss: 0.0005385101686695594\n"
     ]
    },
    {
     "data": {
      "text/plain": "  0%|          | 0/3125 [00:00<?, ?it/s]",
      "application/vnd.jupyter.widget-view+json": {
       "version_major": 2,
       "version_minor": 0,
       "model_id": "4e28cc51073545f085cdbd5e815574f9"
      }
     },
     "metadata": {},
     "output_type": "display_data"
    },
    {
     "data": {
      "text/plain": "  0%|          | 0/313 [00:00<?, ?it/s]",
      "application/vnd.jupyter.widget-view+json": {
       "version_major": 2,
       "version_minor": 0,
       "model_id": "b0650f463c82485f88d1eae1155b173e"
      }
     },
     "metadata": {},
     "output_type": "display_data"
    },
    {
     "name": "stdout",
     "output_type": "stream",
     "text": [
      "Epoch: 19, Loss: 7.378145212042e-05, Valid Loss: 0.0006095445816242954\n"
     ]
    },
    {
     "data": {
      "text/plain": "  0%|          | 0/3125 [00:00<?, ?it/s]",
      "application/vnd.jupyter.widget-view+json": {
       "version_major": 2,
       "version_minor": 0,
       "model_id": "e83a3de550d54dfcb648c6e83bf50de0"
      }
     },
     "metadata": {},
     "output_type": "display_data"
    },
    {
     "data": {
      "text/plain": "  0%|          | 0/313 [00:00<?, ?it/s]",
      "application/vnd.jupyter.widget-view+json": {
       "version_major": 2,
       "version_minor": 0,
       "model_id": "363fc0ae3d9743c990d8cab9be6ba436"
      }
     },
     "metadata": {},
     "output_type": "display_data"
    },
    {
     "name": "stdout",
     "output_type": "stream",
     "text": [
      "Epoch: 20, Loss: 5.1224616796316695e-05, Valid Loss: 0.00043007814446944907\n"
     ]
    },
    {
     "data": {
      "text/plain": "  0%|          | 0/3125 [00:00<?, ?it/s]",
      "application/vnd.jupyter.widget-view+json": {
       "version_major": 2,
       "version_minor": 0,
       "model_id": "873373efa0df412aa1e2036a848ec101"
      }
     },
     "metadata": {},
     "output_type": "display_data"
    },
    {
     "data": {
      "text/plain": "  0%|          | 0/313 [00:00<?, ?it/s]",
      "application/vnd.jupyter.widget-view+json": {
       "version_major": 2,
       "version_minor": 0,
       "model_id": "3321be9bbf534fedb5667a8947909d84"
      }
     },
     "metadata": {},
     "output_type": "display_data"
    },
    {
     "name": "stdout",
     "output_type": "stream",
     "text": [
      "Epoch: 21, Loss: 8.91770587641804e-05, Valid Loss: 0.0004898761498408273\n"
     ]
    },
    {
     "data": {
      "text/plain": "  0%|          | 0/3125 [00:00<?, ?it/s]",
      "application/vnd.jupyter.widget-view+json": {
       "version_major": 2,
       "version_minor": 0,
       "model_id": "215f1af245974cdd9fb9bddb90f4de40"
      }
     },
     "metadata": {},
     "output_type": "display_data"
    },
    {
     "data": {
      "text/plain": "  0%|          | 0/313 [00:00<?, ?it/s]",
      "application/vnd.jupyter.widget-view+json": {
       "version_major": 2,
       "version_minor": 0,
       "model_id": "42f68729d0764dc39a0a94240c117056"
      }
     },
     "metadata": {},
     "output_type": "display_data"
    },
    {
     "name": "stdout",
     "output_type": "stream",
     "text": [
      "Epoch 00023: reducing learning rate of group 0 to 1.2005e-04.\n",
      "Epoch: 22, Loss: 6.0796163273807904e-05, Valid Loss: 0.0006306070788185479\n"
     ]
    },
    {
     "data": {
      "text/plain": "  0%|          | 0/3125 [00:00<?, ?it/s]",
      "application/vnd.jupyter.widget-view+json": {
       "version_major": 2,
       "version_minor": 0,
       "model_id": "b8a2476309634afea53b85f3856366e0"
      }
     },
     "metadata": {},
     "output_type": "display_data"
    },
    {
     "data": {
      "text/plain": "  0%|          | 0/313 [00:00<?, ?it/s]",
      "application/vnd.jupyter.widget-view+json": {
       "version_major": 2,
       "version_minor": 0,
       "model_id": "e756612a879e475093db58a26b07162a"
      }
     },
     "metadata": {},
     "output_type": "display_data"
    },
    {
     "name": "stdout",
     "output_type": "stream",
     "text": [
      "Epoch: 23, Loss: 2.972445246125062e-05, Valid Loss: 0.0004025591450440065\n"
     ]
    },
    {
     "data": {
      "text/plain": "  0%|          | 0/3125 [00:00<?, ?it/s]",
      "application/vnd.jupyter.widget-view+json": {
       "version_major": 2,
       "version_minor": 0,
       "model_id": "2eb6d8cca3584acea17343dc16c891d2"
      }
     },
     "metadata": {},
     "output_type": "display_data"
    },
    {
     "data": {
      "text/plain": "  0%|          | 0/313 [00:00<?, ?it/s]",
      "application/vnd.jupyter.widget-view+json": {
       "version_major": 2,
       "version_minor": 0,
       "model_id": "b6ef753c780b490db4b9c8ae2143d6bd"
      }
     },
     "metadata": {},
     "output_type": "display_data"
    },
    {
     "name": "stdout",
     "output_type": "stream",
     "text": [
      "Epoch: 24, Loss: 3.784198907251266e-05, Valid Loss: 0.00041785356562161377\n"
     ]
    },
    {
     "data": {
      "text/plain": "  0%|          | 0/3125 [00:00<?, ?it/s]",
      "application/vnd.jupyter.widget-view+json": {
       "version_major": 2,
       "version_minor": 0,
       "model_id": "aee2d039a92447b3b4afdfc98d011720"
      }
     },
     "metadata": {},
     "output_type": "display_data"
    },
    {
     "data": {
      "text/plain": "  0%|          | 0/313 [00:00<?, ?it/s]",
      "application/vnd.jupyter.widget-view+json": {
       "version_major": 2,
       "version_minor": 0,
       "model_id": "46c2bd841c04451780e643402ed80689"
      }
     },
     "metadata": {},
     "output_type": "display_data"
    },
    {
     "name": "stdout",
     "output_type": "stream",
     "text": [
      "Epoch: 25, Loss: 3.283295836803518e-05, Valid Loss: 0.0004213635944069074\n"
     ]
    },
    {
     "data": {
      "text/plain": "  0%|          | 0/3125 [00:00<?, ?it/s]",
      "application/vnd.jupyter.widget-view+json": {
       "version_major": 2,
       "version_minor": 0,
       "model_id": "5525d6721d694f6c8972a8c5ad890368"
      }
     },
     "metadata": {},
     "output_type": "display_data"
    },
    {
     "data": {
      "text/plain": "  0%|          | 0/313 [00:00<?, ?it/s]",
      "application/vnd.jupyter.widget-view+json": {
       "version_major": 2,
       "version_minor": 0,
       "model_id": "ec42cbeacd4740468b1497c1e22864cc"
      }
     },
     "metadata": {},
     "output_type": "display_data"
    },
    {
     "name": "stdout",
     "output_type": "stream",
     "text": [
      "Epoch 00027: reducing learning rate of group 0 to 8.4035e-05.\n",
      "Epoch: 26, Loss: 4.4157627581244016e-05, Valid Loss: 0.000441299996451655\n"
     ]
    },
    {
     "data": {
      "text/plain": "  0%|          | 0/3125 [00:00<?, ?it/s]",
      "application/vnd.jupyter.widget-view+json": {
       "version_major": 2,
       "version_minor": 0,
       "model_id": "69dd613bc12a40dbabac3cf1df311de7"
      }
     },
     "metadata": {},
     "output_type": "display_data"
    },
    {
     "data": {
      "text/plain": "  0%|          | 0/313 [00:00<?, ?it/s]",
      "application/vnd.jupyter.widget-view+json": {
       "version_major": 2,
       "version_minor": 0,
       "model_id": "a61bafa8e9fa47f1b61cc9346270bd2c"
      }
     },
     "metadata": {},
     "output_type": "display_data"
    },
    {
     "name": "stdout",
     "output_type": "stream",
     "text": [
      "Epoch: 27, Loss: 1.4356185552260285e-05, Valid Loss: 0.00042767308757948847\n"
     ]
    },
    {
     "data": {
      "text/plain": "  0%|          | 0/3125 [00:00<?, ?it/s]",
      "application/vnd.jupyter.widget-view+json": {
       "version_major": 2,
       "version_minor": 0,
       "model_id": "372b9416c227493b93158b5519938e53"
      }
     },
     "metadata": {},
     "output_type": "display_data"
    },
    {
     "data": {
      "text/plain": "  0%|          | 0/313 [00:00<?, ?it/s]",
      "application/vnd.jupyter.widget-view+json": {
       "version_major": 2,
       "version_minor": 0,
       "model_id": "1323f53104ae4a0b9e1065c644b592c7"
      }
     },
     "metadata": {},
     "output_type": "display_data"
    },
    {
     "name": "stdout",
     "output_type": "stream",
     "text": [
      "Epoch: 28, Loss: 2.1143508784134612e-05, Valid Loss: 0.0004223199410105259\n"
     ]
    },
    {
     "data": {
      "text/plain": "  0%|          | 0/3125 [00:00<?, ?it/s]",
      "application/vnd.jupyter.widget-view+json": {
       "version_major": 2,
       "version_minor": 0,
       "model_id": "023e6dc104a947da80a43604e0b811d0"
      }
     },
     "metadata": {},
     "output_type": "display_data"
    },
    {
     "data": {
      "text/plain": "  0%|          | 0/313 [00:00<?, ?it/s]",
      "application/vnd.jupyter.widget-view+json": {
       "version_major": 2,
       "version_minor": 0,
       "model_id": "45f4396ab2f641109c12d8d8e1d564e6"
      }
     },
     "metadata": {},
     "output_type": "display_data"
    },
    {
     "name": "stdout",
     "output_type": "stream",
     "text": [
      "Epoch: 29, Loss: 1.61127240807582e-05, Valid Loss: 0.00044732314751880724\n"
     ]
    },
    {
     "data": {
      "text/plain": "  0%|          | 0/3125 [00:00<?, ?it/s]",
      "application/vnd.jupyter.widget-view+json": {
       "version_major": 2,
       "version_minor": 0,
       "model_id": "baad3af7ce4e4251b76abdeaefd7222f"
      }
     },
     "metadata": {},
     "output_type": "display_data"
    },
    {
     "ename": "KeyboardInterrupt",
     "evalue": "",
     "output_type": "error",
     "traceback": [
      "\u001B[0;31m---------------------------------------------------------------------------\u001B[0m",
      "\u001B[0;31mKeyboardInterrupt\u001B[0m                         Traceback (most recent call last)",
      "\u001B[0;32m<ipython-input-18-49ce7cbdc34a>\u001B[0m in \u001B[0;36m<module>\u001B[0;34m\u001B[0m\n\u001B[0;32m----> 1\u001B[0;31m \u001B[0mgnn_no_rel_results\u001B[0m \u001B[0;34m=\u001B[0m \u001B[0mtrain_model\u001B[0m\u001B[0;34m(\u001B[0m\u001B[0mmodel\u001B[0m\u001B[0;34m,\u001B[0m \u001B[0mmodel_name\u001B[0m\u001B[0;34m,\u001B[0m \u001B[0mepochs\u001B[0m\u001B[0;34m,\u001B[0m \u001B[0mtrain_loader\u001B[0m\u001B[0;34m,\u001B[0m \u001B[0mvalid_loader\u001B[0m\u001B[0;34m,\u001B[0m \u001B[0mtest_loader\u001B[0m\u001B[0;34m,\u001B[0m \u001B[0moptimizer\u001B[0m\u001B[0;34m,\u001B[0m \u001B[0mcriterion\u001B[0m\u001B[0;34m,\u001B[0m \u001B[0mscheduler\u001B[0m\u001B[0;34m,\u001B[0m \u001B[0mdevice\u001B[0m\u001B[0;34m,\u001B[0m \u001B[0mLABEL_INDEX\u001B[0m\u001B[0;34m,\u001B[0m \u001B[0mZ_ONE_HOT_DIM\u001B[0m\u001B[0;34m)\u001B[0m\u001B[0;34m\u001B[0m\u001B[0;34m\u001B[0m\u001B[0m\n\u001B[0m",
      "\u001B[0;32m~/Documents/GitHub/FractalMessagePassing/train.py\u001B[0m in \u001B[0;36mtrain_model\u001B[0;34m(model, model_name, epochs, train_loader, valid_loader, test_loader, optimizer, criterion, scheduler, device, LABEL_INDEX, Z_ONE_HOT_DIM, **kwargs)\u001B[0m\n\u001B[1;32m    116\u001B[0m                 \u001B[0mout\u001B[0m \u001B[0;34m=\u001B[0m \u001B[0mget_forward_function\u001B[0m\u001B[0;34m(\u001B[0m\u001B[0mmodel\u001B[0m\u001B[0;34m,\u001B[0m \u001B[0mmodel_name\u001B[0m\u001B[0;34m,\u001B[0m \u001B[0mdata\u001B[0m\u001B[0;34m,\u001B[0m \u001B[0mZ_ONE_HOT_DIM\u001B[0m\u001B[0;34m)\u001B[0m\u001B[0;34m\u001B[0m\u001B[0;34m\u001B[0m\u001B[0m\n\u001B[1;32m    117\u001B[0m                 \u001B[0mloss\u001B[0m \u001B[0;34m=\u001B[0m \u001B[0mcriterion\u001B[0m\u001B[0;34m(\u001B[0m\u001B[0mout\u001B[0m\u001B[0;34m.\u001B[0m\u001B[0msqueeze\u001B[0m\u001B[0;34m(\u001B[0m\u001B[0;34m)\u001B[0m\u001B[0;34m,\u001B[0m \u001B[0mtarget\u001B[0m\u001B[0;34m)\u001B[0m\u001B[0;34m\u001B[0m\u001B[0;34m\u001B[0m\u001B[0m\n\u001B[0;32m--> 118\u001B[0;31m                 \u001B[0mloss\u001B[0m\u001B[0;34m.\u001B[0m\u001B[0mbackward\u001B[0m\u001B[0;34m(\u001B[0m\u001B[0;34m)\u001B[0m\u001B[0;34m\u001B[0m\u001B[0;34m\u001B[0m\u001B[0m\n\u001B[0m\u001B[1;32m    119\u001B[0m                 \u001B[0mtrain_loss\u001B[0m \u001B[0;34m+=\u001B[0m \u001B[0mloss\u001B[0m\u001B[0;34m.\u001B[0m\u001B[0mitem\u001B[0m\u001B[0;34m(\u001B[0m\u001B[0;34m)\u001B[0m\u001B[0;34m\u001B[0m\u001B[0;34m\u001B[0m\u001B[0m\n\u001B[1;32m    120\u001B[0m                 \u001B[0moptimizer\u001B[0m\u001B[0;34m.\u001B[0m\u001B[0mstep\u001B[0m\u001B[0;34m(\u001B[0m\u001B[0;34m)\u001B[0m\u001B[0;34m\u001B[0m\u001B[0;34m\u001B[0m\u001B[0m\n",
      "\u001B[0;32m~/miniconda3/envs/Geometric/lib/python3.8/site-packages/torch/_tensor.py\u001B[0m in \u001B[0;36mbackward\u001B[0;34m(self, gradient, retain_graph, create_graph, inputs)\u001B[0m\n\u001B[1;32m    361\u001B[0m                 \u001B[0mcreate_graph\u001B[0m\u001B[0;34m=\u001B[0m\u001B[0mcreate_graph\u001B[0m\u001B[0;34m,\u001B[0m\u001B[0;34m\u001B[0m\u001B[0;34m\u001B[0m\u001B[0m\n\u001B[1;32m    362\u001B[0m                 inputs=inputs)\n\u001B[0;32m--> 363\u001B[0;31m         \u001B[0mtorch\u001B[0m\u001B[0;34m.\u001B[0m\u001B[0mautograd\u001B[0m\u001B[0;34m.\u001B[0m\u001B[0mbackward\u001B[0m\u001B[0;34m(\u001B[0m\u001B[0mself\u001B[0m\u001B[0;34m,\u001B[0m \u001B[0mgradient\u001B[0m\u001B[0;34m,\u001B[0m \u001B[0mretain_graph\u001B[0m\u001B[0;34m,\u001B[0m \u001B[0mcreate_graph\u001B[0m\u001B[0;34m,\u001B[0m \u001B[0minputs\u001B[0m\u001B[0;34m=\u001B[0m\u001B[0minputs\u001B[0m\u001B[0;34m)\u001B[0m\u001B[0;34m\u001B[0m\u001B[0;34m\u001B[0m\u001B[0m\n\u001B[0m\u001B[1;32m    364\u001B[0m \u001B[0;34m\u001B[0m\u001B[0m\n\u001B[1;32m    365\u001B[0m     \u001B[0;32mdef\u001B[0m \u001B[0mregister_hook\u001B[0m\u001B[0;34m(\u001B[0m\u001B[0mself\u001B[0m\u001B[0;34m,\u001B[0m \u001B[0mhook\u001B[0m\u001B[0;34m)\u001B[0m\u001B[0;34m:\u001B[0m\u001B[0;34m\u001B[0m\u001B[0;34m\u001B[0m\u001B[0m\n",
      "\u001B[0;32m~/miniconda3/envs/Geometric/lib/python3.8/site-packages/torch/autograd/__init__.py\u001B[0m in \u001B[0;36mbackward\u001B[0;34m(tensors, grad_tensors, retain_graph, create_graph, grad_variables, inputs)\u001B[0m\n\u001B[1;32m    171\u001B[0m     \u001B[0;31m# some Python versions print out the first line of a multi-line function\u001B[0m\u001B[0;34m\u001B[0m\u001B[0;34m\u001B[0m\u001B[0;34m\u001B[0m\u001B[0m\n\u001B[1;32m    172\u001B[0m     \u001B[0;31m# calls in the traceback and some print out the last line\u001B[0m\u001B[0;34m\u001B[0m\u001B[0;34m\u001B[0m\u001B[0;34m\u001B[0m\u001B[0m\n\u001B[0;32m--> 173\u001B[0;31m     Variable._execution_engine.run_backward(  # Calls into the C++ engine to run the backward pass\n\u001B[0m\u001B[1;32m    174\u001B[0m         \u001B[0mtensors\u001B[0m\u001B[0;34m,\u001B[0m \u001B[0mgrad_tensors_\u001B[0m\u001B[0;34m,\u001B[0m \u001B[0mretain_graph\u001B[0m\u001B[0;34m,\u001B[0m \u001B[0mcreate_graph\u001B[0m\u001B[0;34m,\u001B[0m \u001B[0minputs\u001B[0m\u001B[0;34m,\u001B[0m\u001B[0;34m\u001B[0m\u001B[0;34m\u001B[0m\u001B[0m\n\u001B[1;32m    175\u001B[0m         allow_unreachable=True, accumulate_grad=True)  # Calls into the C++ engine to run the backward pass\n",
      "\u001B[0;31mKeyboardInterrupt\u001B[0m: "
     ]
    }
   ],
   "source": [
    "gnn_no_rel_results = train_model(model, model_name, epochs, train_loader, valid_loader, test_loader, optimizer, criterion, scheduler, device, LABEL_INDEX, Z_ONE_HOT_DIM)"
   ],
   "metadata": {
    "collapsed": false,
    "pycharm": {
     "name": "#%%\n"
    }
   }
  },
  {
   "cell_type": "markdown",
   "source": [
    "# TRAINING A GNN WITH EDGE FEATURES"
   ],
   "metadata": {
    "collapsed": false,
    "pycharm": {
     "name": "#%% md\n"
    }
   }
  },
  {
   "cell_type": "code",
   "execution_count": 12,
   "outputs": [
    {
     "name": "stderr",
     "output_type": "stream",
     "text": [
      "/home/tin/Documents/GitHub/FractalMessagePassing/train.py:23: UserWarning: Using non-standard permutation since permute.pt does not exist.\n",
      "  warn(\"Using non-standard permutation since permute.pt does not exist.\")\n"
     ]
    }
   ],
   "source": [
    "# create a fractal net and train it\n",
    "device = torch.device('cuda' if torch.cuda.is_available() else 'cpu')\n",
    "model_name = 'GNN'\n",
    "model = GNN(n_node_features = Z_ONE_HOT_DIM,\n",
    "            n_edge_features=EDGE_ATTR_DIM,\n",
    "            n_hidden=64,\n",
    "            n_output=out_features,\n",
    "            num_convolution_blocks=2).to(device)\n",
    "optimizer = torch.optim.Adam(model.parameters(), lr=0.001)\n",
    "criterion = nn.MSELoss()\n",
    "scheduler = torch.optim.lr_scheduler.ReduceLROnPlateau(optimizer, mode='min', factor=0.7, patience=3, verbose=True)\n",
    "train, valid, test = get_qm9(\"data/qm9\",\n",
    "                             device=device,\n",
    "                             LABEL_INDEX=LABEL_INDEX,\n",
    "                             transform=None)\n",
    "train_loader = DataLoader(train, batch_size=batch_size, shuffle=True)\n",
    "valid_loader = DataLoader(valid, batch_size=32, shuffle=False)"
   ],
   "metadata": {
    "collapsed": false,
    "pycharm": {
     "name": "#%%\n"
    }
   }
  },
  {
   "cell_type": "code",
   "execution_count": 13,
   "outputs": [
    {
     "name": "stdout",
     "output_type": "stream",
     "text": [
      "Total number of parameters: 227329\n"
     ]
    },
    {
     "data": {
      "text/plain": "  0%|          | 0/45 [00:00<?, ?it/s]",
      "application/vnd.jupyter.widget-view+json": {
       "version_major": 2,
       "version_minor": 0,
       "model_id": "daa30d1dd0324abda487e094bb4b876b"
      }
     },
     "metadata": {},
     "output_type": "display_data"
    },
    {
     "data": {
      "text/plain": "  0%|          | 0/3125 [00:00<?, ?it/s]",
      "application/vnd.jupyter.widget-view+json": {
       "version_major": 2,
       "version_minor": 0,
       "model_id": "020137c4b8af4dc596a523af1fcc9397"
      }
     },
     "metadata": {},
     "output_type": "display_data"
    },
    {
     "ename": "IndexError",
     "evalue": "too many indices for tensor of dimension 2",
     "output_type": "error",
     "traceback": [
      "\u001B[0;31m---------------------------------------------------------------------------\u001B[0m",
      "\u001B[0;31mIndexError\u001B[0m                                Traceback (most recent call last)",
      "\u001B[0;32m<ipython-input-13-74cad9918ffe>\u001B[0m in \u001B[0;36m<module>\u001B[0;34m\u001B[0m\n\u001B[0;32m----> 1\u001B[0;31m \u001B[0mgnn_results\u001B[0m \u001B[0;34m=\u001B[0m \u001B[0mtrain_model\u001B[0m\u001B[0;34m(\u001B[0m\u001B[0mmodel\u001B[0m\u001B[0;34m,\u001B[0m \u001B[0mmodel_name\u001B[0m\u001B[0;34m,\u001B[0m \u001B[0mepochs\u001B[0m\u001B[0;34m,\u001B[0m \u001B[0mtrain_loader\u001B[0m\u001B[0;34m,\u001B[0m \u001B[0mvalid_loader\u001B[0m\u001B[0;34m,\u001B[0m \u001B[0mtest_loader\u001B[0m\u001B[0;34m,\u001B[0m \u001B[0moptimizer\u001B[0m\u001B[0;34m,\u001B[0m \u001B[0mcriterion\u001B[0m\u001B[0;34m,\u001B[0m \u001B[0mscheduler\u001B[0m\u001B[0;34m,\u001B[0m \u001B[0mdevice\u001B[0m\u001B[0;34m,\u001B[0m \u001B[0mLABEL_INDEX\u001B[0m\u001B[0;34m,\u001B[0m \u001B[0mZ_ONE_HOT_DIM\u001B[0m\u001B[0;34m)\u001B[0m\u001B[0;34m\u001B[0m\u001B[0;34m\u001B[0m\u001B[0m\n\u001B[0m",
      "\u001B[0;32m~/Documents/GitHub/FractalMessagePassing/train.py\u001B[0m in \u001B[0;36mtrain_model\u001B[0;34m(model, model_name, epochs, train_loader, valid_loader, test_loader, optimizer, criterion, scheduler, device, LABEL_INDEX, Z_ONE_HOT_DIM, **kwargs)\u001B[0m\n\u001B[1;32m    114\u001B[0m                 \u001B[0;31m# keep only ground nodes in the data.batch\u001B[0m\u001B[0;34m\u001B[0m\u001B[0;34m\u001B[0m\u001B[0;34m\u001B[0m\u001B[0m\n\u001B[1;32m    115\u001B[0m                 \u001B[0;31m# check if there is ground_node in data.batch\u001B[0m\u001B[0;34m\u001B[0m\u001B[0;34m\u001B[0m\u001B[0;34m\u001B[0m\u001B[0m\n\u001B[0;32m--> 116\u001B[0;31m                 \u001B[0mout\u001B[0m \u001B[0;34m=\u001B[0m \u001B[0mget_forward_function\u001B[0m\u001B[0;34m(\u001B[0m\u001B[0mmodel\u001B[0m\u001B[0;34m,\u001B[0m \u001B[0mmodel_name\u001B[0m\u001B[0;34m,\u001B[0m \u001B[0mdata\u001B[0m\u001B[0;34m,\u001B[0m \u001B[0mZ_ONE_HOT_DIM\u001B[0m\u001B[0;34m)\u001B[0m\u001B[0;34m\u001B[0m\u001B[0;34m\u001B[0m\u001B[0m\n\u001B[0m\u001B[1;32m    117\u001B[0m                 \u001B[0mloss\u001B[0m \u001B[0;34m=\u001B[0m \u001B[0mcriterion\u001B[0m\u001B[0;34m(\u001B[0m\u001B[0mout\u001B[0m\u001B[0;34m.\u001B[0m\u001B[0msqueeze\u001B[0m\u001B[0;34m(\u001B[0m\u001B[0;34m)\u001B[0m\u001B[0;34m,\u001B[0m \u001B[0mtarget\u001B[0m\u001B[0;34m)\u001B[0m\u001B[0;34m\u001B[0m\u001B[0;34m\u001B[0m\u001B[0m\n\u001B[1;32m    118\u001B[0m                 \u001B[0mloss\u001B[0m\u001B[0;34m.\u001B[0m\u001B[0mbackward\u001B[0m\u001B[0;34m(\u001B[0m\u001B[0;34m)\u001B[0m\u001B[0;34m\u001B[0m\u001B[0;34m\u001B[0m\u001B[0m\n",
      "\u001B[0;32m~/Documents/GitHub/FractalMessagePassing/train.py\u001B[0m in \u001B[0;36mget_forward_function\u001B[0;34m(model, model_name, data, Z_ONE_HOT_DIM)\u001B[0m\n\u001B[1;32m     69\u001B[0m         \u001B[0;32mreturn\u001B[0m \u001B[0mout\u001B[0m\u001B[0;34m\u001B[0m\u001B[0;34m\u001B[0m\u001B[0m\n\u001B[1;32m     70\u001B[0m     \u001B[0;32melif\u001B[0m \u001B[0mmodel_name\u001B[0m \u001B[0;34m==\u001B[0m \u001B[0;34m'GNN'\u001B[0m\u001B[0;34m:\u001B[0m\u001B[0;34m\u001B[0m\u001B[0;34m\u001B[0m\u001B[0m\n\u001B[0;32m---> 71\u001B[0;31m         out = model(data.x[:, :Z_ONE_HOT_DIM],\n\u001B[0m\u001B[1;32m     72\u001B[0m               \u001B[0mdata\u001B[0m\u001B[0;34m.\u001B[0m\u001B[0medge_index\u001B[0m\u001B[0;34m,\u001B[0m\u001B[0;34m\u001B[0m\u001B[0;34m\u001B[0m\u001B[0m\n\u001B[1;32m     73\u001B[0m               \u001B[0mdata\u001B[0m\u001B[0;34m.\u001B[0m\u001B[0medge_attr\u001B[0m\u001B[0;34m,\u001B[0m\u001B[0;34m\u001B[0m\u001B[0;34m\u001B[0m\u001B[0m\n",
      "\u001B[0;32m~/miniconda3/envs/Geometric/lib/python3.8/site-packages/torch/nn/modules/module.py\u001B[0m in \u001B[0;36m_call_impl\u001B[0;34m(self, *input, **kwargs)\u001B[0m\n\u001B[1;32m   1108\u001B[0m         if not (self._backward_hooks or self._forward_hooks or self._forward_pre_hooks or _global_backward_hooks\n\u001B[1;32m   1109\u001B[0m                 or _global_forward_hooks or _global_forward_pre_hooks):\n\u001B[0;32m-> 1110\u001B[0;31m             \u001B[0;32mreturn\u001B[0m \u001B[0mforward_call\u001B[0m\u001B[0;34m(\u001B[0m\u001B[0;34m*\u001B[0m\u001B[0minput\u001B[0m\u001B[0;34m,\u001B[0m \u001B[0;34m**\u001B[0m\u001B[0mkwargs\u001B[0m\u001B[0;34m)\u001B[0m\u001B[0;34m\u001B[0m\u001B[0;34m\u001B[0m\u001B[0m\n\u001B[0m\u001B[1;32m   1111\u001B[0m         \u001B[0;31m# Do not call functions when jit is used\u001B[0m\u001B[0;34m\u001B[0m\u001B[0;34m\u001B[0m\u001B[0;34m\u001B[0m\u001B[0m\n\u001B[1;32m   1112\u001B[0m         \u001B[0mfull_backward_hooks\u001B[0m\u001B[0;34m,\u001B[0m \u001B[0mnon_full_backward_hooks\u001B[0m \u001B[0;34m=\u001B[0m \u001B[0;34m[\u001B[0m\u001B[0;34m]\u001B[0m\u001B[0;34m,\u001B[0m \u001B[0;34m[\u001B[0m\u001B[0;34m]\u001B[0m\u001B[0;34m\u001B[0m\u001B[0;34m\u001B[0m\u001B[0m\n",
      "\u001B[0;32m~/Documents/GitHub/FractalMessagePassing/networks.py\u001B[0m in \u001B[0;36mforward\u001B[0;34m(self, x, edge_index, edge_attr, batch_idx)\u001B[0m\n\u001B[1;32m    170\u001B[0m         \u001B[0;32mfor\u001B[0m \u001B[0mlayer\u001B[0m \u001B[0;32min\u001B[0m \u001B[0mself\u001B[0m\u001B[0;34m.\u001B[0m\u001B[0mGNN\u001B[0m\u001B[0;34m:\u001B[0m\u001B[0;34m\u001B[0m\u001B[0;34m\u001B[0m\u001B[0m\n\u001B[1;32m    171\u001B[0m             \u001B[0;32mif\u001B[0m \u001B[0;34m(\u001B[0m\u001B[0misinstance\u001B[0m\u001B[0;34m(\u001B[0m\u001B[0mlayer\u001B[0m\u001B[0;34m,\u001B[0m \u001B[0mgeom_nn\u001B[0m\u001B[0;34m.\u001B[0m\u001B[0mRGCNConv\u001B[0m\u001B[0;34m)\u001B[0m\u001B[0;34m)\u001B[0m\u001B[0;34m:\u001B[0m\u001B[0;34m\u001B[0m\u001B[0;34m\u001B[0m\u001B[0m\n\u001B[0;32m--> 172\u001B[0;31m                 \u001B[0mx\u001B[0m \u001B[0;34m=\u001B[0m \u001B[0mlayer\u001B[0m\u001B[0;34m(\u001B[0m\u001B[0mx\u001B[0m\u001B[0;34m,\u001B[0m \u001B[0medge_index\u001B[0m\u001B[0;34m,\u001B[0m \u001B[0medge_attr\u001B[0m\u001B[0;34m)\u001B[0m\u001B[0;34m\u001B[0m\u001B[0;34m\u001B[0m\u001B[0m\n\u001B[0m\u001B[1;32m    173\u001B[0m \u001B[0;34m\u001B[0m\u001B[0m\n\u001B[1;32m    174\u001B[0m             \u001B[0;32melif\u001B[0m \u001B[0;34m(\u001B[0m\u001B[0misinstance\u001B[0m\u001B[0;34m(\u001B[0m\u001B[0mlayer\u001B[0m\u001B[0;34m,\u001B[0m \u001B[0mgeom_nn\u001B[0m\u001B[0;34m.\u001B[0m\u001B[0mMessagePassing\u001B[0m\u001B[0;34m)\u001B[0m\u001B[0;34m)\u001B[0m\u001B[0;34m:\u001B[0m\u001B[0;34m\u001B[0m\u001B[0;34m\u001B[0m\u001B[0m\n",
      "\u001B[0;32m~/miniconda3/envs/Geometric/lib/python3.8/site-packages/torch/nn/modules/module.py\u001B[0m in \u001B[0;36m_call_impl\u001B[0;34m(self, *input, **kwargs)\u001B[0m\n\u001B[1;32m   1108\u001B[0m         if not (self._backward_hooks or self._forward_hooks or self._forward_pre_hooks or _global_backward_hooks\n\u001B[1;32m   1109\u001B[0m                 or _global_forward_hooks or _global_forward_pre_hooks):\n\u001B[0;32m-> 1110\u001B[0;31m             \u001B[0;32mreturn\u001B[0m \u001B[0mforward_call\u001B[0m\u001B[0;34m(\u001B[0m\u001B[0;34m*\u001B[0m\u001B[0minput\u001B[0m\u001B[0;34m,\u001B[0m \u001B[0;34m**\u001B[0m\u001B[0mkwargs\u001B[0m\u001B[0;34m)\u001B[0m\u001B[0;34m\u001B[0m\u001B[0;34m\u001B[0m\u001B[0m\n\u001B[0m\u001B[1;32m   1111\u001B[0m         \u001B[0;31m# Do not call functions when jit is used\u001B[0m\u001B[0;34m\u001B[0m\u001B[0;34m\u001B[0m\u001B[0;34m\u001B[0m\u001B[0m\n\u001B[1;32m   1112\u001B[0m         \u001B[0mfull_backward_hooks\u001B[0m\u001B[0;34m,\u001B[0m \u001B[0mnon_full_backward_hooks\u001B[0m \u001B[0;34m=\u001B[0m \u001B[0;34m[\u001B[0m\u001B[0;34m]\u001B[0m\u001B[0;34m,\u001B[0m \u001B[0;34m[\u001B[0m\u001B[0;34m]\u001B[0m\u001B[0;34m\u001B[0m\u001B[0;34m\u001B[0m\u001B[0m\n",
      "\u001B[0;32m~/miniconda3/envs/Geometric/lib/python3.8/site-packages/torch_geometric/nn/conv/rgcn_conv.py\u001B[0m in \u001B[0;36mforward\u001B[0;34m(self, x, edge_index, edge_type)\u001B[0m\n\u001B[1;32m    211\u001B[0m         \u001B[0;32melse\u001B[0m\u001B[0;34m:\u001B[0m  \u001B[0;31m# No regularization/Basis-decomposition ========================\u001B[0m\u001B[0;34m\u001B[0m\u001B[0;34m\u001B[0m\u001B[0m\n\u001B[1;32m    212\u001B[0m             \u001B[0;32mfor\u001B[0m \u001B[0mi\u001B[0m \u001B[0;32min\u001B[0m \u001B[0mrange\u001B[0m\u001B[0;34m(\u001B[0m\u001B[0mself\u001B[0m\u001B[0;34m.\u001B[0m\u001B[0mnum_relations\u001B[0m\u001B[0;34m)\u001B[0m\u001B[0;34m:\u001B[0m\u001B[0;34m\u001B[0m\u001B[0;34m\u001B[0m\u001B[0m\n\u001B[0;32m--> 213\u001B[0;31m                 \u001B[0mtmp\u001B[0m \u001B[0;34m=\u001B[0m \u001B[0mmasked_edge_index\u001B[0m\u001B[0;34m(\u001B[0m\u001B[0medge_index\u001B[0m\u001B[0;34m,\u001B[0m \u001B[0medge_type\u001B[0m \u001B[0;34m==\u001B[0m \u001B[0mi\u001B[0m\u001B[0;34m)\u001B[0m\u001B[0;34m\u001B[0m\u001B[0;34m\u001B[0m\u001B[0m\n\u001B[0m\u001B[1;32m    214\u001B[0m \u001B[0;34m\u001B[0m\u001B[0m\n\u001B[1;32m    215\u001B[0m                 \u001B[0;32mif\u001B[0m \u001B[0mx_l\u001B[0m\u001B[0;34m.\u001B[0m\u001B[0mdtype\u001B[0m \u001B[0;34m==\u001B[0m \u001B[0mtorch\u001B[0m\u001B[0;34m.\u001B[0m\u001B[0mlong\u001B[0m\u001B[0;34m:\u001B[0m\u001B[0;34m\u001B[0m\u001B[0;34m\u001B[0m\u001B[0m\n",
      "\u001B[0;32m~/miniconda3/envs/Geometric/lib/python3.8/site-packages/torch_geometric/nn/conv/rgcn_conv.py\u001B[0m in \u001B[0;36mmasked_edge_index\u001B[0;34m(edge_index, edge_mask)\u001B[0m\n\u001B[1;32m     29\u001B[0m \u001B[0;32mdef\u001B[0m \u001B[0mmasked_edge_index\u001B[0m\u001B[0;34m(\u001B[0m\u001B[0medge_index\u001B[0m\u001B[0;34m,\u001B[0m \u001B[0medge_mask\u001B[0m\u001B[0;34m)\u001B[0m\u001B[0;34m:\u001B[0m\u001B[0;34m\u001B[0m\u001B[0;34m\u001B[0m\u001B[0m\n\u001B[1;32m     30\u001B[0m     \u001B[0;32mif\u001B[0m \u001B[0misinstance\u001B[0m\u001B[0;34m(\u001B[0m\u001B[0medge_index\u001B[0m\u001B[0;34m,\u001B[0m \u001B[0mTensor\u001B[0m\u001B[0;34m)\u001B[0m\u001B[0;34m:\u001B[0m\u001B[0;34m\u001B[0m\u001B[0;34m\u001B[0m\u001B[0m\n\u001B[0;32m---> 31\u001B[0;31m         \u001B[0;32mreturn\u001B[0m \u001B[0medge_index\u001B[0m\u001B[0;34m[\u001B[0m\u001B[0;34m:\u001B[0m\u001B[0;34m,\u001B[0m \u001B[0medge_mask\u001B[0m\u001B[0;34m]\u001B[0m\u001B[0;34m\u001B[0m\u001B[0;34m\u001B[0m\u001B[0m\n\u001B[0m\u001B[1;32m     32\u001B[0m     \u001B[0;32melse\u001B[0m\u001B[0;34m:\u001B[0m\u001B[0;34m\u001B[0m\u001B[0;34m\u001B[0m\u001B[0m\n\u001B[1;32m     33\u001B[0m         \u001B[0;32mreturn\u001B[0m \u001B[0mmasked_select_nnz\u001B[0m\u001B[0;34m(\u001B[0m\u001B[0medge_index\u001B[0m\u001B[0;34m,\u001B[0m \u001B[0medge_mask\u001B[0m\u001B[0;34m,\u001B[0m \u001B[0mlayout\u001B[0m\u001B[0;34m=\u001B[0m\u001B[0;34m'coo'\u001B[0m\u001B[0;34m)\u001B[0m\u001B[0;34m\u001B[0m\u001B[0;34m\u001B[0m\u001B[0m\n",
      "\u001B[0;31mIndexError\u001B[0m: too many indices for tensor of dimension 2"
     ]
    }
   ],
   "source": [
    "gnn_results = train_model(model, model_name, epochs, train_loader, valid_loader, test_loader, optimizer, criterion, scheduler, device, LABEL_INDEX, Z_ONE_HOT_DIM)"
   ],
   "metadata": {
    "collapsed": false,
    "pycharm": {
     "name": "#%%\n"
    }
   }
  },
  {
   "cell_type": "markdown",
   "source": [
    "# PLOTTING LOSS"
   ],
   "metadata": {
    "collapsed": false,
    "pycharm": {
     "name": "#%% md\n"
    }
   }
  },
  {
   "cell_type": "code",
   "execution_count": null,
   "outputs": [],
   "source": [
    "# plot loss\n",
    "# IGNORE FOR NOW #\n",
    "import matplotlib.pyplot as plt\n",
    "# plot train loss on same plot for different runs\n",
    "plt.plot(fractalnetshared_results['train_loss'], label='FractalNetShared')\n",
    "plt.plot(fractalnet_results['train_loss'], label='FractalNet')\n",
    "plt.plot(gnn_no_rel_results['train_loss'], label='GNN_no_rel')\n",
    "plt.plot(gnn_results['train_loss'], label='GNN')\n",
    "plt.plot(no_subnode_results['train_loss'], label='No Subnodes')\n",
    "plt.xlabel('Epoch')\n",
    "plt.ylabel('Loss')\n",
    "plt.legend()\n",
    "plt.show()\n",
    "\n",
    "# plot validation loss on same plot for different runs\n",
    "plt.plot(fractalnetshared_results['valid_loss'], label='FractalNetShared')\n",
    "plt.plot(fractalnet_results['valid_loss'], label='FractalNet')\n",
    "plt.plot(gnn_no_rel_results['valid_loss'], label='GNN_no_rel')\n",
    "plt.plot(gnn_results['valid_loss'], label='GNN')\n",
    "plt.plot(no_subnode_results['valid_loss'], label='No Subnodes')\n",
    "plt.xlabel('Epoch')\n",
    "plt.ylabel('Loss')\n",
    "plt.legend()\n",
    "plt.show()"
   ],
   "metadata": {
    "collapsed": false,
    "pycharm": {
     "name": "#%%\n"
    }
   }
  },
  {
   "cell_type": "code",
   "execution_count": 21,
   "outputs": [
    {
     "name": "stdout",
     "output_type": "stream",
     "text": [
      "FractalNet Test Loss:  0.0005467538204020275\n",
      "GNN_no_rel Test Loss:  1.4065201867546444e-05\n",
      "No Subnodes Test Loss:  3.3362182585271106e-06\n"
     ]
    }
   ],
   "source": [
    "# print final test losses of all models\n",
    "#print('FractalNetShared Test Loss: ', fractalnetshared_results['test_loss'])\n",
    "print('FractalNet Test Loss: ', fractalnet_results['test_loss'])\n",
    "print('GNN_no_rel Test Loss: ', gnn_no_rel_results['test_loss'])\n",
    "#print('GNN Test Loss: ', gnn_results['test_loss'])\n",
    "print('No Subnodes Test Loss: ', no_subnode_results['test_loss'])"
   ],
   "metadata": {
    "collapsed": false,
    "pycharm": {
     "name": "#%%\n"
    }
   }
  },
  {
   "cell_type": "markdown",
   "source": [],
   "metadata": {
    "collapsed": false,
    "pycharm": {
     "name": "#%% md\n"
    }
   }
  }
 ],
 "metadata": {
  "kernelspec": {
   "display_name": "Python 3",
   "language": "python",
   "name": "python3"
  },
  "language_info": {
   "codemirror_mode": {
    "name": "ipython",
    "version": 2
   },
   "file_extension": ".py",
   "mimetype": "text/x-python",
   "name": "python",
   "nbconvert_exporter": "python",
   "pygments_lexer": "ipython2",
   "version": "2.7.6"
  }
 },
 "nbformat": 4,
 "nbformat_minor": 0
}