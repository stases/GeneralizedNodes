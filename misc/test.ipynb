{
 "cells": [
  {
   "cell_type": "code",
   "execution_count": 5,
   "id": "initial_id",
   "metadata": {
    "collapsed": true,
    "ExecuteTime": {
     "end_time": "2023-08-19T19:37:04.995292731Z",
     "start_time": "2023-08-19T19:37:04.952308403Z"
    }
   },
   "outputs": [
    {
     "name": "stdout",
     "output_type": "stream",
     "text": [
      "edge_type is tensor([0, 1, 2, 1])\n",
      "msg shape is torch.Size([3, 4, 5])\n",
      "msg is tensor([[[5.8993e-01, 0.0000e+00, 0.0000e+00, 0.0000e+00, 0.0000e+00],\n",
      "         [5.8809e-01, 0.0000e+00, 0.0000e+00, 0.0000e+00, 1.6389e-01],\n",
      "         [2.2130e+02, 1.8343e+02, 8.1066e+00, 0.0000e+00, 0.0000e+00],\n",
      "         [3.8427e-01, 0.0000e+00, 0.0000e+00, 0.0000e+00, 0.0000e+00]],\n",
      "\n",
      "        [[5.6941e-02, 0.0000e+00, 0.0000e+00, 0.0000e+00, 2.0815e-02],\n",
      "         [1.0759e-01, 0.0000e+00, 0.0000e+00, 2.0461e-01, 1.3025e-01],\n",
      "         [0.0000e+00, 0.0000e+00, 0.0000e+00, 3.8301e+02, 0.0000e+00],\n",
      "         [1.2436e-01, 0.0000e+00, 0.0000e+00, 5.4822e-01, 0.0000e+00]],\n",
      "\n",
      "        [[0.0000e+00, 0.0000e+00, 0.0000e+00, 0.0000e+00, 2.4998e-01],\n",
      "         [0.0000e+00, 0.0000e+00, 0.0000e+00, 1.9538e-01, 3.7851e-01],\n",
      "         [5.1898e-01, 0.0000e+00, 0.0000e+00, 0.0000e+00, 0.0000e+00],\n",
      "         [0.0000e+00, 0.0000e+00, 2.1061e-01, 1.1131e-01, 6.1730e-01]]],\n",
      "       grad_fn=<StackBackward0>)\n",
      "tensor([[0.5899, 0.0000, 0.0000, 0.0000, 0.0000],\n",
      "        [0.1076, 0.0000, 0.0000, 0.2046, 0.1303],\n",
      "        [0.5190, 0.0000, 0.0000, 0.0000, 0.0000],\n",
      "        [0.1244, 0.0000, 0.0000, 0.5482, 0.0000]], grad_fn=<IndexBackward0>)\n"
     ]
    }
   ],
   "source": [
    "import torch\n",
    "import torch.nn as nn\n",
    "\n",
    "# Define the dimensions\n",
    "num_nodes = 6\n",
    "node_feature_dim = 5\n",
    "edge_feature_dim = 1\n",
    "num_edge_types = 3\n",
    "\n",
    "# Create random tensors\n",
    "h = torch.rand(num_nodes, node_feature_dim)  # Features of all nodes\n",
    "# Multiply last element by 1000\n",
    "# Example edge index (indicating edges from node pairs)\n",
    "edge_index = torch.tensor([\n",
    "    [0, 2],\n",
    "    [2, 3],\n",
    "    [4, 5],\n",
    "    [1, 3]\n",
    "])\n",
    "\n",
    "num_edges = edge_index.size(0)\n",
    "\n",
    "# Extract features of source and target nodes for each edge\n",
    "h_i = h[edge_index[:, 0]]\n",
    "h_j = h[edge_index[:, 1]]\n",
    "\n",
    "# Random edge features (let's assume it's a scalar for each edge)\n",
    "dists = torch.rand(num_edges, edge_feature_dim)\n",
    "\n",
    "# Random edge types (either 0, 1, or 2 in this example)\n",
    "edge_type = torch.randint(0, num_edge_types, (num_edges,))\n",
    "print('edge_type is', edge_type)\n",
    "# Concatenate node features and edge feature\n",
    "msg_inputs = torch.cat([h_i, h_j, dists], dim=-1)\n",
    "\n",
    "# Create a list of random MLPs for demonstration\n",
    "mlps_msg = [nn.Sequential(nn.Linear(node_feature_dim * 2 + edge_feature_dim, node_feature_dim), nn.ReLU()) for _ in range(num_edge_types)]\n",
    "\n",
    "# Apply each MLP to the concatenated inputs\n",
    "msg = torch.stack([mlp(msg_inputs) for mlp in mlps_msg], dim=0)\n",
    "print('msg shape is', msg.shape)\n",
    "print('msg is', msg)\n",
    "# Index to get the right message for each edge based on its type\n",
    "msg = msg[edge_type, torch.arange(edge_type.size(0))]\n",
    "\n",
    "print(msg)\n"
   ]
  }
 ],
 "metadata": {
  "kernelspec": {
   "display_name": "Python 3",
   "language": "python",
   "name": "python3"
  },
  "language_info": {
   "codemirror_mode": {
    "name": "ipython",
    "version": 2
   },
   "file_extension": ".py",
   "mimetype": "text/x-python",
   "name": "python",
   "nbconvert_exporter": "python",
   "pygments_lexer": "ipython2",
   "version": "2.7.6"
  }
 },
 "nbformat": 4,
 "nbformat_minor": 5
}
